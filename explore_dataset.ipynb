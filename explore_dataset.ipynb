{
 "cells": [
  {
   "cell_type": "markdown",
   "id": "b969559b-96b9-4812-9b28-010279a009e2",
   "metadata": {},
   "source": [
    "This notebook makes some visualizations, both static and interactive, with [Altair](https://altair-viz.github.io/).\n",
    "\n",
    "Make sure Altair is installed:\n",
    "\n",
    "```python\n",
    "!pip install altair vega_datasets\n",
    "```"
   ]
  },
  {
   "cell_type": "code",
   "execution_count": 3,
   "id": "39390958-98aa-4971-a6cc-538d88c7da81",
   "metadata": {
    "tags": []
   },
   "outputs": [],
   "source": [
    "import altair as alt\n",
    "import string"
   ]
  },
  {
   "cell_type": "markdown",
   "id": "8d00dbb8-2282-43f9-ae4e-2edc6fdf8702",
   "metadata": {},
   "source": [
    "## Static, just upper-case alphabetic characters (in paper)"
   ]
  },
  {
   "cell_type": "code",
   "execution_count": 4,
   "id": "aab238d1-af85-4800-8ce8-f6b3d45aa62b",
   "metadata": {
    "tags": []
   },
   "outputs": [
    {
     "name": "stdout",
     "output_type": "stream",
     "text": [
      "['A', 'B', 'C', 'D', 'E', 'F', 'G', 'H', 'I', 'J', 'K', 'L', 'M', 'N', 'O', 'P', 'Q', 'R', 'S', 'T', 'U', 'V', 'W', 'X', 'Y', 'Z']\n"
     ]
    }
   ],
   "source": [
    "# get upper case alpha characters\n",
    "alphas = list(string.ascii_lowercase)\n",
    "alphas_lower = alphas.copy()\n",
    "# add larger ones\n",
    "for a in alphas_lower:\n",
    "    alphas.append(a.upper())\n",
    "\n",
    "upperAlphas = alphas[26:]\n",
    "print(upperAlphas)"
   ]
  },
  {
   "cell_type": "code",
   "execution_count": 2,
   "id": "8c979494-3569-4100-aa7d-bef75c128bd1",
   "metadata": {
    "tags": []
   },
   "outputs": [],
   "source": [
    "min_percent = 0.01 # only plot things that are at this level (in %) or above in terms of frequency in dataset\n",
    "alphas_hist = ['A', 'K'] # letters to histogram"
   ]
  },
  {
   "cell_type": "code",
   "execution_count": null,
   "id": "16bd1a36-c526-40c3-bb51-3a82effa22fb",
   "metadata": {},
   "outputs": [],
   "source": [
    "\n",
    "hist_height = height // (len(alphas_hist)+1)\n",
    "\n",
    "sort_pdf = np.unique(dfin['pdf_letters']).tolist()\n",
    "sort_pdf.sort()\n",
    "extra_ocr = []\n",
    "for o in dfin['ocr_letters'].unique():\n",
    "    if o not in sort_pdf:\n",
    "        extra_ocr.append(o)\n",
    "\n",
    "extra_ocr.sort()\n",
    "\n",
    "sort_ocr = sort_pdf.copy()\n",
    "sort_ocr.extend(extra_ocr)\n",
    "\n",
    "length = 200\n",
    "legendY = -40\n",
    "#legendX = 100+int(length/100.*30)\n",
    "legendX = 0 + width//2 - length//2\n",
    "\n",
    "if log:\n",
    "    color = alt.Color(percent_column+\":Q\", scale=alt.Scale(type='log',scheme=scheme, domain=[min_percent, 100]),\n",
    "                      title=color_title, legend=alt.Legend(\n",
    "                        orient='none',\n",
    "                        legendX=legendX, legendY=legendY,\n",
    "                        direction='horizontal',\n",
    "                        titleAnchor='middle', gradientLength=length))\n",
    "else:\n",
    "    color = alt.Color(percent_column+\"value:Q\", scale=alt.Scale(scheme=scheme,domain=[min_percent, 100]),\n",
    "                      title=color_title)\n",
    "\n",
    "chart1 = alt.Chart(dfin).mark_rect().encode(\n",
    "    alt.Y(\"pdf_letters:O\",sort=sort_pdf,title=pdf_title),\n",
    "    alt.X(\"ocr_letters:O\",sort=sort_ocr,title=ocr_title),\n",
    "    color=color\n",
    ").properties(\n",
    "    height=height,\n",
    "    width=width\n",
    ")\n",
    "# ).configure_axis(\n",
    "#     labelFontSize=20,\n",
    "#     titleFontSize=20\n",
    "# )\n",
    "\n",
    "#chart = alt.vconcat(chart1, chart2, center=True)\n",
    "chart_hists = []\n",
    "for a in alphas_hist:\n",
    "    dfin_larger = dfin.loc[dfin['pdf_letters'] == a]\n",
    "    chart2 = alt.Chart(dfin_larger,title=\"GT Letter = \" + a).mark_bar().transform_filter(\n",
    "       alt.FieldRangePredicate(field=percent_column, range=[100, min_percent])\n",
    "    ).encode(\n",
    "        alt.X('ocr_letters:O', sort='-y',title=ocr_title),#,labelFontSize=hist_labelFontSize),\n",
    "        alt.Y(\"% of all OCR tokens:Q\", scale=alt.Scale(type='log',domain=[min_percent,100]), title='% Correct')\n",
    "    ).properties(\n",
    "        width=hist_width,\n",
    "        height=hist_height\n",
    "    )\n",
    "    chart_hists.append(chart2)\n",
    "\n",
    "chart_hists_all = alt.vconcat(*chart_hists, center=True)\n",
    "\n",
    "#chart = chart1 | chart_hists_all\n",
    "chart = alt.hconcat(chart1,chart_hists_all,center=True)\n",
    "    \n",
    "chart.configure_axis(\n",
    "    labelFontSize=20,\n",
    "    titleFontSize=20\n",
    ")"
   ]
  }
 ],
 "metadata": {
  "kernelspec": {
   "display_name": "Python 3 (ipykernel)",
   "language": "python",
   "name": "python3"
  },
  "language_info": {
   "codemirror_mode": {
    "name": "ipython",
    "version": 3
   },
   "file_extension": ".py",
   "mimetype": "text/x-python",
   "name": "python",
   "nbconvert_exporter": "python",
   "pygments_lexer": "ipython3",
   "version": "3.9.16"
  }
 },
 "nbformat": 4,
 "nbformat_minor": 5
}
