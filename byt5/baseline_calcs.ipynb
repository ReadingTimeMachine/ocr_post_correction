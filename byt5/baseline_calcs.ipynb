{
 "cells": [
  {
   "cell_type": "code",
   "execution_count": 63,
   "id": "0bcdda7e-2ead-4480-8b09-a0cac3c4ce2e",
   "metadata": {
    "tags": []
   },
   "outputs": [],
   "source": [
    "save_dats_dir = '/Users/jnaiman/Dropbox/wwt_image_extraction/OCRPostCorrection/paper1/dats/'"
   ]
  },
  {
   "cell_type": "code",
   "execution_count": 17,
   "id": "f24cba7b-a8f2-4f2d-9576-c0cd50c02a29",
   "metadata": {
    "tags": []
   },
   "outputs": [],
   "source": [
    "from glob import glob\n",
    "import pandas as pd\n",
    "import fastwer\n",
    "import numpy as np\n",
    "import matplotlib.pyplot as plt"
   ]
  },
  {
   "cell_type": "markdown",
   "id": "8178fb98-97ab-43eb-95ac-d56956213b87",
   "metadata": {},
   "source": [
    "## Batch inference byt5 -- only words, arXiv dataset"
   ]
  },
  {
   "cell_type": "code",
   "execution_count": 89,
   "id": "d48d4b7b-1764-4c69-8746-62bb9dbc9d4e",
   "metadata": {
    "tags": []
   },
   "outputs": [],
   "source": [
    "# only words, byt5\n",
    "output_dir_inf = '/Users/jnaiman/Dropbox/wwt_image_extraction/OCRPostCorrection/inferences/latex/'\n",
    "\n",
    "ender = '_small_words' # 100k for training, 5k val"
   ]
  },
  {
   "cell_type": "code",
   "execution_count": 90,
   "id": "21f630a9-bdfa-48f5-9fe3-0699560fd390",
   "metadata": {
    "tags": []
   },
   "outputs": [],
   "source": [
    "inf_files = glob(output_dir_inf + '*'+ender+'.csv')\n",
    "inf_files.sort()\n",
    "for i,f in enumerate(inf_files):\n",
    "    d = pd.read_csv(f)\n",
    "    if i == 0: # first\n",
    "        df_byt5_words = d.copy()\n",
    "    else: # others\n",
    "        df_byt5_words = pd.concat([df_byt5_words,d],ignore_index=True)"
   ]
  },
  {
   "cell_type": "code",
   "execution_count": 91,
   "id": "639ce0ea-b47f-4bde-a502-1e3dc59eb7a5",
   "metadata": {
    "tags": []
   },
   "outputs": [
    {
     "data": {
      "text/html": [
       "<div>\n",
       "<style scoped>\n",
       "    .dataframe tbody tr th:only-of-type {\n",
       "        vertical-align: middle;\n",
       "    }\n",
       "\n",
       "    .dataframe tbody tr th {\n",
       "        vertical-align: top;\n",
       "    }\n",
       "\n",
       "    .dataframe thead th {\n",
       "        text-align: right;\n",
       "    }\n",
       "</style>\n",
       "<table border=\"1\" class=\"dataframe\">\n",
       "  <thead>\n",
       "    <tr style=\"text-align: right;\">\n",
       "      <th></th>\n",
       "      <th>aligned sentences source</th>\n",
       "      <th>aligned sentences target</th>\n",
       "      <th>sentences source</th>\n",
       "      <th>sentences target</th>\n",
       "      <th>aligned sentences source types</th>\n",
       "      <th>aligned sentences target types</th>\n",
       "      <th>sentences source types</th>\n",
       "      <th>sentences target types</th>\n",
       "      <th>words source aligned</th>\n",
       "      <th>words target aligned</th>\n",
       "      <th>input_text</th>\n",
       "      <th>target_text</th>\n",
       "      <th>predicted_text</th>\n",
       "    </tr>\n",
       "  </thead>\n",
       "  <tbody>\n",
       "    <tr>\n",
       "      <th>0</th>\n",
       "      <td>Thev suegested that optical {lis [rom the neu...</td>\n",
       "      <td>They suggested that optical flux from the neu...</td>\n",
       "      <td>Thev suegested that optical {lis [rom the neu...</td>\n",
       "      <td>They suggested that optical flux from the neu...</td>\n",
       "      <td>WWWW WWWWWWWWW WWWW WWWWWWW WWWW WWWW WWW WWW...</td>\n",
       "      <td>WWWW WWWWWWWWW WWWW WWWWWWW WWWW WWWW WWW WWW...</td>\n",
       "      <td>WWWW WWWWWWWWW WWWW WWWWWWW WWWW WWWW WWW WWW...</td>\n",
       "      <td>WWWW WWWWWWWWW WWWW WWWWWWW WWWW WWWW WWW WWW...</td>\n",
       "      <td>Thev suegested that optical {lis [rom the neu...</td>\n",
       "      <td>They suggested that optical flux from the neu...</td>\n",
       "      <td>Thev suegested that optical {lis [rom the neu...</td>\n",
       "      <td>They suggested that optical flux from the neu...</td>\n",
       "      <td>They suggested that optical flux from the neu...</td>\n",
       "    </tr>\n",
       "    <tr>\n",
       "      <th>1</th>\n",
       "      <td>dust. temperatures of 35. 40. 45 and SOWKK are...</td>\n",
       "      <td>dust@ temperatures of 35, 40, 45 and @@@K@ are...</td>\n",
       "      <td>dust. temperatures of 35. 40. 45 and SOWKK are...</td>\n",
       "      <td>dust temperatures of 35, 40, 45 and K are abou...</td>\n",
       "      <td>WWWWW WWWWWWWWWWWW WW WWW WWW WW WWW WWWWW WWW...</td>\n",
       "      <td>WWWW@ WWWWWWWWWWWW WW WWW WWW WW WWW @@@W@ WWW...</td>\n",
       "      <td>WWWWW WWWWWWWWWWWW WW WWW WWW WW WWW WWWWW WWW...</td>\n",
       "      <td>WWWW WWWWWWWWWWWW WW WWW WWW WW WWW W WWW WWWW...</td>\n",
       "      <td>dust. temperatures of 35. 40. 45 and KK are ab...</td>\n",
       "      <td>dust@ temperatures of 35, 40, 45 and K@ are ab...</td>\n",
       "      <td>dust. temperatures of 35. 40. 45 and KK are ab...</td>\n",
       "      <td>dust temperatures of 35, 40, 45 and K are abou...</td>\n",
       "      <td>dust temperatures of 35, 40, 45 and K are abou...</td>\n",
       "    </tr>\n",
       "    <tr>\n",
       "      <th>2</th>\n",
       "      <td>| comparison between the two panels demonstra...</td>\n",
       "      <td>A comparison between the two panels demonstra...</td>\n",
       "      <td>| comparison between the two panels demonstra...</td>\n",
       "      <td>A comparison between the two panels demonstra...</td>\n",
       "      <td>W WWWWWWWWWW WWWWWWW WWW WWW WWWWWW WWWWWWWWW...</td>\n",
       "      <td>W WWWWWWWWWW WWWWWWW WWW WWW WWWWWW WWWWWWWWW...</td>\n",
       "      <td>W WWWWWWWWWW WWWWWWW WWW WWW WWWWWW WWWWWWWWW...</td>\n",
       "      <td>W WWWWWWWWWW WWWWWWW WWW WWW WWWWWW WWWWWWWWW...</td>\n",
       "      <td>| comparison between the two panels demonstra...</td>\n",
       "      <td>A comparison between the two panels demonstra...</td>\n",
       "      <td>| comparison between the two panels demonstra...</td>\n",
       "      <td>A comparison between the two panels demonstra...</td>\n",
       "      <td>A comparison between the two panels demonstra...</td>\n",
       "    </tr>\n",
       "    <tr>\n",
       "      <th>3</th>\n",
       "      <td>Then. equation ^^^^^^^^^^^(7)^) aud equation ...</td>\n",
       "      <td>Then, equation \\ref{con_ang}) ) and equation ...</td>\n",
       "      <td>Then. equation (7)) aud equation (3)) can be ...</td>\n",
       "      <td>Then, equation \\ref{con_ang}) ) and equation ...</td>\n",
       "      <td>WWWWW WWWWWWWW ^^^^^^^^^^^WWW^W WWW WWWWWWWW ...</td>\n",
       "      <td>WWWWW WWWWWWWW RRRRRRRRRRRRRW W WWW WWWWWWWW ...</td>\n",
       "      <td>WWWWW WWWWWWWW WWWW WWW WWWWWWWW WWWW WWW WW ...</td>\n",
       "      <td>WWWWW WWWWWWWW RRRRRRRRRRRRRW W WWW WWWWWWWW ...</td>\n",
       "      <td>Then. equation )@) aud equation )@) can be so...</td>\n",
       "      <td>Then, equation ) ) and equation ) ) can be so...</td>\n",
       "      <td>Then. equation )) aud equation )) can be solv...</td>\n",
       "      <td>Then, equation ) ) and equation ) ) can be so...</td>\n",
       "      <td>Then, equation ) ) and equation ) ) can be so...</td>\n",
       "    </tr>\n",
       "    <tr>\n",
       "      <th>4</th>\n",
       "      <td>We have developed a simple model to estimate ...</td>\n",
       "      <td>We have developed a simple model to estimate ...</td>\n",
       "      <td>We have developed a simple model to estimate ...</td>\n",
       "      <td>We have developed a simple model to estimate ...</td>\n",
       "      <td>WW WWWW WWWWWWWWW W WWWWWW WWWWW WW WWWWWWWW ...</td>\n",
       "      <td>WW WWWW WWWWWWWWW W WWWWWW WWWWW WW WWWWWWWW ...</td>\n",
       "      <td>WW WWWW WWWWWWWWW W WWWWWW WWWWW WW WWWWWWWW ...</td>\n",
       "      <td>WW WWWW WWWWWWWWW W WWWWWW WWWWW WW WWWWWWWW ...</td>\n",
       "      <td>We have developed a simple model to estimate ...</td>\n",
       "      <td>We have developed a simple model to estimate ...</td>\n",
       "      <td>We have developed a simple model to estimate ...</td>\n",
       "      <td>We have developed a simple model to estimate ...</td>\n",
       "      <td>We have developed a simple model to estimate ...</td>\n",
       "    </tr>\n",
       "  </tbody>\n",
       "</table>\n",
       "</div>"
      ],
      "text/plain": [
       "                            aligned sentences source   \n",
       "0   Thev suegested that optical {lis [rom the neu...  \\\n",
       "1  dust. temperatures of 35. 40. 45 and SOWKK are...   \n",
       "2   | comparison between the two panels demonstra...   \n",
       "3   Then. equation ^^^^^^^^^^^(7)^) aud equation ...   \n",
       "4   We have developed a simple model to estimate ...   \n",
       "\n",
       "                            aligned sentences target   \n",
       "0   They suggested that optical flux from the neu...  \\\n",
       "1  dust@ temperatures of 35, 40, 45 and @@@K@ are...   \n",
       "2   A comparison between the two panels demonstra...   \n",
       "3   Then, equation \\ref{con_ang}) ) and equation ...   \n",
       "4   We have developed a simple model to estimate ...   \n",
       "\n",
       "                                    sentences source   \n",
       "0   Thev suegested that optical {lis [rom the neu...  \\\n",
       "1  dust. temperatures of 35. 40. 45 and SOWKK are...   \n",
       "2   | comparison between the two panels demonstra...   \n",
       "3   Then. equation (7)) aud equation (3)) can be ...   \n",
       "4   We have developed a simple model to estimate ...   \n",
       "\n",
       "                                    sentences target   \n",
       "0   They suggested that optical flux from the neu...  \\\n",
       "1  dust temperatures of 35, 40, 45 and K are abou...   \n",
       "2   A comparison between the two panels demonstra...   \n",
       "3   Then, equation \\ref{con_ang}) ) and equation ...   \n",
       "4   We have developed a simple model to estimate ...   \n",
       "\n",
       "                      aligned sentences source types   \n",
       "0   WWWW WWWWWWWWW WWWW WWWWWWW WWWW WWWW WWW WWW...  \\\n",
       "1  WWWWW WWWWWWWWWWWW WW WWW WWW WW WWW WWWWW WWW...   \n",
       "2   W WWWWWWWWWW WWWWWWW WWW WWW WWWWWW WWWWWWWWW...   \n",
       "3   WWWWW WWWWWWWW ^^^^^^^^^^^WWW^W WWW WWWWWWWW ...   \n",
       "4   WW WWWW WWWWWWWWW W WWWWWW WWWWW WW WWWWWWWW ...   \n",
       "\n",
       "                      aligned sentences target types   \n",
       "0   WWWW WWWWWWWWW WWWW WWWWWWW WWWW WWWW WWW WWW...  \\\n",
       "1  WWWW@ WWWWWWWWWWWW WW WWW WWW WW WWW @@@W@ WWW...   \n",
       "2   W WWWWWWWWWW WWWWWWW WWW WWW WWWWWW WWWWWWWWW...   \n",
       "3   WWWWW WWWWWWWW RRRRRRRRRRRRRW W WWW WWWWWWWW ...   \n",
       "4   WW WWWW WWWWWWWWW W WWWWWW WWWWW WW WWWWWWWW ...   \n",
       "\n",
       "                              sentences source types   \n",
       "0   WWWW WWWWWWWWW WWWW WWWWWWW WWWW WWWW WWW WWW...  \\\n",
       "1  WWWWW WWWWWWWWWWWW WW WWW WWW WW WWW WWWWW WWW...   \n",
       "2   W WWWWWWWWWW WWWWWWW WWW WWW WWWWWW WWWWWWWWW...   \n",
       "3   WWWWW WWWWWWWW WWWW WWW WWWWWWWW WWWW WWW WW ...   \n",
       "4   WW WWWW WWWWWWWWW W WWWWWW WWWWW WW WWWWWWWW ...   \n",
       "\n",
       "                              sentences target types   \n",
       "0   WWWW WWWWWWWWW WWWW WWWWWWW WWWW WWWW WWW WWW...  \\\n",
       "1  WWWW WWWWWWWWWWWW WW WWW WWW WW WWW W WWW WWWW...   \n",
       "2   W WWWWWWWWWW WWWWWWW WWW WWW WWWWWW WWWWWWWWW...   \n",
       "3   WWWWW WWWWWWWW RRRRRRRRRRRRRW W WWW WWWWWWWW ...   \n",
       "4   WW WWWW WWWWWWWWW W WWWWWW WWWWW WW WWWWWWWW ...   \n",
       "\n",
       "                                words source aligned   \n",
       "0   Thev suegested that optical {lis [rom the neu...  \\\n",
       "1  dust. temperatures of 35. 40. 45 and KK are ab...   \n",
       "2   | comparison between the two panels demonstra...   \n",
       "3   Then. equation )@) aud equation )@) can be so...   \n",
       "4   We have developed a simple model to estimate ...   \n",
       "\n",
       "                                words target aligned   \n",
       "0   They suggested that optical flux from the neu...  \\\n",
       "1  dust@ temperatures of 35, 40, 45 and K@ are ab...   \n",
       "2   A comparison between the two panels demonstra...   \n",
       "3   Then, equation ) ) and equation ) ) can be so...   \n",
       "4   We have developed a simple model to estimate ...   \n",
       "\n",
       "                                          input_text   \n",
       "0   Thev suegested that optical {lis [rom the neu...  \\\n",
       "1  dust. temperatures of 35. 40. 45 and KK are ab...   \n",
       "2   | comparison between the two panels demonstra...   \n",
       "3   Then. equation )) aud equation )) can be solv...   \n",
       "4   We have developed a simple model to estimate ...   \n",
       "\n",
       "                                         target_text   \n",
       "0   They suggested that optical flux from the neu...  \\\n",
       "1  dust temperatures of 35, 40, 45 and K are abou...   \n",
       "2   A comparison between the two panels demonstra...   \n",
       "3   Then, equation ) ) and equation ) ) can be so...   \n",
       "4   We have developed a simple model to estimate ...   \n",
       "\n",
       "                                      predicted_text  \n",
       "0   They suggested that optical flux from the neu...  \n",
       "1  dust temperatures of 35, 40, 45 and K are abou...  \n",
       "2   A comparison between the two panels demonstra...  \n",
       "3   Then, equation ) ) and equation ) ) can be so...  \n",
       "4   We have developed a simple model to estimate ...  "
      ]
     },
     "execution_count": 91,
     "metadata": {},
     "output_type": "execute_result"
    }
   ],
   "source": [
    "df_byt5_words.head()"
   ]
  },
  {
   "cell_type": "code",
   "execution_count": 99,
   "id": "7cd48041-5781-4b49-9f39-e80db1f4bf3f",
   "metadata": {},
   "outputs": [],
   "source": [
    "# input_text = OCR source in\n",
    "# target_text = ground truth \n",
    "# predicted_text = predicted OCR text\n",
    "cer_before = []; cer_after = []\n",
    "wer_before = []; wer_after = []\n",
    "for i in range(len(df_byt5_words)):\n",
    "    d = df_byt5_words.iloc[i]\n",
    "    # before\n",
    "    if not pd.isnull(d['input_text']) and not pd.isnull(d['target_text']) and not pd.isnull(d['predicted_text']):\n",
    "        # also, for ints/floats that got read in\n",
    "        input_text = str(d['input_text'])\n",
    "        target_text = str(d['target_text'])\n",
    "        predicted_text = str(d['predicted_text'])\n",
    "        cbefore = fastwer.score_sent(input_text,\n",
    "                                     target_text,\n",
    "                                     char_level=True)\n",
    "        wbefore = fastwer.score_sent(input_text,\n",
    "                                     target_text,\n",
    "                                     char_level=False)\n",
    "        # after\n",
    "        cafter = fastwer.score_sent(predicted_text,\n",
    "                                     target_text,\n",
    "                                     char_level=True)\n",
    "        wafter = fastwer.score_sent(predicted_text,\n",
    "                                     target_text,\n",
    "                                     char_level=False)\n",
    "    else:\n",
    "        cbefore = np.nan\n",
    "        wbefore = np.nan\n",
    "        cafter = np.nan\n",
    "        wafter = np.nan\n",
    "    \n",
    "    cer_before.append(cbefore)\n",
    "    wer_before.append(wbefore)\n",
    "    cer_after.append(cafter)\n",
    "    wer_after.append(wafter)\n",
    "\n",
    "df_byt5_words['CER Before'] = cer_before\n",
    "df_byt5_words['WER Before'] = wer_before\n",
    "df_byt5_words['CER After'] = cer_after\n",
    "df_byt5_words['WER After'] = wer_after"
   ]
  },
  {
   "cell_type": "code",
   "execution_count": null,
   "id": "5ea8b035-cf96-4613-8e03-3fb629595afb",
   "metadata": {},
   "outputs": [],
   "source": []
  },
  {
   "cell_type": "code",
   "execution_count": 100,
   "id": "9a81d4f1-f155-4073-bcbf-e30371a2716a",
   "metadata": {
    "tags": []
   },
   "outputs": [
    {
     "data": {
      "image/png": "[encoded data removed]",
      "text/plain": [
       "<Figure size 1200x600 with 2 Axes>"
      ]
     },
     "metadata": {},
     "output_type": "display_data"
    }
   ],
   "source": [
    "fig, ax = plt.subplots(1,2,figsize=(12,6))\n",
    "df_byt5_words.plot(x = 'CER Before', y = 'CER After', kind='scatter',ax=ax[0])\n",
    "xlim = ax[0].get_xlim()\n",
    "ylim = ax[0].get_ylim()\n",
    "ax[0].plot([xlim[0],xlim[1]], [xlim[0],xlim[1]], '--', color='orange')\n",
    "\n",
    "df_byt5_words.plot(x = 'WER Before', y = 'WER After', kind='scatter',ax=ax[1])\n",
    "xlim = ax[1].get_xlim()\n",
    "ylim = ax[1].get_ylim()\n",
    "ax[1].plot([xlim[0],xlim[1]], [xlim[0],xlim[1]], '--', color='orange')\n",
    "\n",
    "plt.show()"
   ]
  },
  {
   "cell_type": "code",
   "execution_count": 101,
   "id": "5f771138-56cc-418e-97f6-8c8e7ef26f2c",
   "metadata": {
    "tags": []
   },
   "outputs": [],
   "source": [
    "def get_iqr(col):\n",
    "    colvalue = df_byt5_words[col]\n",
    "    colvalue = colvalue[~np.isnan(colvalue)]\n",
    "    Q3 = np.quantile(colvalue, 0.75)\n",
    "    Q1 = np.quantile(colvalue, 0.25)\n",
    "    IQR = Q3 - Q1\n",
    "    return IQR"
   ]
  },
  {
   "cell_type": "code",
   "execution_count": 102,
   "id": "ae1c0cad-274c-477e-9224-89febd7f6b28",
   "metadata": {
    "tags": []
   },
   "outputs": [],
   "source": [
    "def get_iqr_by_value(colvalue):\n",
    "    Q3 = np.quantile(colvalue, 0.75)\n",
    "    Q1 = np.quantile(colvalue, 0.25)\n",
    "    IQR = Q3 - Q1\n",
    "    return IQR"
   ]
  },
  {
   "cell_type": "code",
   "execution_count": 103,
   "id": "204aa3a5-e9d4-40b5-a08c-123e739065d9",
   "metadata": {
    "tags": []
   },
   "outputs": [],
   "source": [
    "def get_stats(col, round_val = 2, print_nans=False):\n",
    "    colvalue = df_byt5_words[col]\n",
    "    colvalue = colvalue[~np.isnan(colvalue)]\n",
    "    # how many nan's\n",
    "    if print_nans: print('# NaNs =', len(df_byt5_words[col])-len(colvalue))\n",
    "    med = colvalue.median()\n",
    "    mea = colvalue.mean()\n",
    "    std = colvalue.std()\n",
    "    iqr = get_iqr_by_value(colvalue)\n",
    "    return round(mea,round_val), round(med,round_val), round(std,round_val), round(iqr,round_val)"
   ]
  },
  {
   "cell_type": "code",
   "execution_count": 104,
   "id": "0ebb4a6f-fc07-4773-9a0a-29150c575034",
   "metadata": {
    "tags": []
   },
   "outputs": [],
   "source": [
    "def get_improvement_stats(col_before, col_after, round_val = 2):\n",
    "    colvalueb = df_byt5_words[col_before]\n",
    "    colvalueb = colvalueb[~np.isnan(colvalueb)]\n",
    "    colvaluea = df_byt5_words[col_after]\n",
    "    colvaluea = colvaluea[~np.isnan(colvaluea)]\n",
    "    mask = colvalueb != 0\n",
    "    colvalue = 100*(1-colvaluea[mask]/colvalueb[mask])\n",
    "    med = colvalue.median()\n",
    "    mea = colvalue.mean()\n",
    "    std = colvalue.std()\n",
    "    iqr = get_iqr_by_value(colvalue)\n",
    "    return round(mea,round_val), round(med,round_val), round(std,round_val), round(iqr,round_val)    "
   ]
  },
  {
   "cell_type": "code",
   "execution_count": 105,
   "id": "e5ed1c4a-bca5-404e-8562-3b2bfed5c6a9",
   "metadata": {
    "tags": []
   },
   "outputs": [],
   "source": [
    "def save_dat(fname,data,formatting = None):\n",
    "    if formatting is not None:\n",
    "        all_arts = \"{:,}\".format(successful_align_pages)\n",
    "    else:\n",
    "        all_arts = data\n",
    "    with open(fname, 'w') as f:\n",
    "        print(all_arts, file=f,end='')"
   ]
  },
  {
   "cell_type": "code",
   "execution_count": 106,
   "id": "7bacfe0a-ca74-41d3-b11f-16c92a142766",
   "metadata": {
    "tags": []
   },
   "outputs": [
    {
     "name": "stdout",
     "output_type": "stream",
     "text": [
      "--------- Before -------------\n",
      "# NaNs = 2\n",
      "CER : mean = 5.5 , std = 17.46 , median = 3.01 , iqr = 5.22\n",
      "WER : mean = 15.34 , std = 14.53 , median = 13.04 , iqr = 17.46\n",
      "\n",
      "--------- After -------------\n",
      "CER : mean = 2.08 , std = 11.16 , median = 0.0 , iqr = 1.31\n",
      "WER : mean = 4.18 , std = 12.17 , median = 0.0 , iqr = 5.0\n",
      "\n",
      "------------ Improvement ----------------\n",
      "CER : mean =  75.6 , std = 54.01 , median = 100.0 , iqr = 36.44\n",
      "WER : mean =  78.06 , std = 34.36 , median = 100.0 , iqr = 33.33\n"
     ]
    }
   ],
   "source": [
    "print('--------- Before -------------')\n",
    "mea_cbefore,med_cbefore,std_cbefore,iqr_cbefore = get_stats('CER Before', print_nans=True)\n",
    "print('CER : mean =', mea_cbefore, ', std =', std_cbefore, ', median =',med_cbefore, ', iqr =', iqr_cbefore)\n",
    "mea_wbefore,med_wbefore,std_wbefore,iqr_wbefore = get_stats('WER Before')\n",
    "print('WER : mean =', mea_wbefore, ', std =', std_wbefore, ', median =',med_wbefore, ', iqr =', iqr_wbefore)\n",
    "print('')\n",
    "print('--------- After -------------')\n",
    "mea_cafter,med_cafter,std_cafter,iqr_cafter = get_stats('CER After')\n",
    "print('CER : mean =', mea_cafter, ', std =', std_cafter, ', median =',med_cafter, ', iqr =', iqr_cafter)\n",
    "mea_wafter,med_wafter,std_wafter,iqr_wafter = get_stats('WER After')\n",
    "print('WER : mean =', mea_wafter, ', std =', std_wafter, ', median =',med_wafter, ', iqr =', iqr_wafter)\n",
    "print('')\n",
    "# improvement\n",
    "#improvement = lambda df: 100 * (1 - df.cer_after / df.cer_before)\n",
    "mea_c,med_c,std_c,iqr_c = get_improvement_stats('CER Before', 'CER After')\n",
    "print('------------ Improvement ----------------')\n",
    "print('CER : mean = ', mea_c, ', std =', std_c, ', median =',med_c, ', iqr =', iqr_c)\n",
    "mea_w,med_w,std_w,iqr_w = get_improvement_stats('WER Before', 'WER After')\n",
    "print('WER : mean = ', mea_w, ', std =', std_w, ', median =',med_w, ', iqr =', iqr_w)\n",
    "\n",
    "# save all of these"
   ]
  },
  {
   "cell_type": "code",
   "execution_count": 107,
   "id": "e3d00640-24e9-4d07-913a-8b165e19db6b",
   "metadata": {
    "tags": []
   },
   "outputs": [],
   "source": [
    "# save everything\n",
    "dats = [mea_cbefore,mea_wbefore,mea_cafter,mea_wafter,\n",
    "        mea_c,mea_w]\n",
    "names_start = 'byt5_onlyWords_small'\n",
    "datnames = ['mean_cer_before','mean_wer_before','mean_cer_after','mean_wer_after',\n",
    "            'mean_cer_imp','mean_wer_imp']\n",
    "for d,n in zip(dats,datnames):\n",
    "    save_dat(save_dats_dir+names_start+n+'.dat',d)"
   ]
  },
  {
   "cell_type": "code",
   "execution_count": null,
   "id": "3d6ceb59-428c-4641-a901-70765b6b9012",
   "metadata": {},
   "outputs": [],
   "source": []
  },
  {
   "cell_type": "code",
   "execution_count": null,
   "id": "e3f48af4-c913-4a85-bd2a-dfffbc232a74",
   "metadata": {},
   "outputs": [],
   "source": []
  }
 ],
 "metadata": {
  "kernelspec": {
   "display_name": "Python 3 (ipykernel)",
   "language": "python",
   "name": "python3"
  },
  "language_info": {
   "codemirror_mode": {
    "name": "ipython",
    "version": 3
   },
   "file_extension": ".py",
   "mimetype": "text/x-python",
   "name": "python",
   "nbconvert_exporter": "python",
   "pygments_lexer": "ipython3",
   "version": "3.9.16"
  }
 },
 "nbformat": 4,
 "nbformat_minor": 5
}
