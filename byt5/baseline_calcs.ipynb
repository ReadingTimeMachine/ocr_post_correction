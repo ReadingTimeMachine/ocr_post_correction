{
 "cells": [
  {
   "cell_type": "code",
   "execution_count": 6,
   "id": "f24cba7b-a8f2-4f2d-9576-c0cd50c02a29",
   "metadata": {
    "tags": []
   },
   "outputs": [],
   "source": [
    "from glob import glob\n",
    "import pandas as pd"
   ]
  },
  {
   "cell_type": "markdown",
   "id": "8178fb98-97ab-43eb-95ac-d56956213b87",
   "metadata": {},
   "source": [
    "## Batch inference byt5 -- only words"
   ]
  },
  {
   "cell_type": "code",
   "execution_count": 2,
   "id": "d48d4b7b-1764-4c69-8746-62bb9dbc9d4e",
   "metadata": {
    "tags": []
   },
   "outputs": [],
   "source": [
    "# only words, byt5\n",
    "output_dir_inf = '/Users/jnaiman/Dropbox/wwt_image_extraction/OCRPostCorrection/inferences/latex/'"
   ]
  },
  {
   "cell_type": "code",
   "execution_count": 7,
   "id": "21f630a9-bdfa-48f5-9fe3-0699560fd390",
   "metadata": {
    "tags": []
   },
   "outputs": [],
   "source": [
    "inf_files = glob(output_dir_inf + '*.csv')\n",
    "inf_files.sort()\n",
    "for i,f in enumerate(inf_files):\n",
    "    d = pd.read_csv(f)\n",
    "    if i == 0: # first\n",
    "        df_byt5_words = d.copy()\n",
    "    else: # others\n",
    "        df_byt5_words = pd.concat([df_byt5_words,d],ignore_index=True)"
   ]
  },
  {
   "cell_type": "code",
   "execution_count": 8,
   "id": "639ce0ea-b47f-4bde-a502-1e3dc59eb7a5",
   "metadata": {
    "tags": []
   },
   "outputs": [
    {
     "data": {
      "text/html": [
       "<div>\n",
       "<style scoped>\n",
       "    .dataframe tbody tr th:only-of-type {\n",
       "        vertical-align: middle;\n",
       "    }\n",
       "\n",
       "    .dataframe tbody tr th {\n",
       "        vertical-align: top;\n",
       "    }\n",
       "\n",
       "    .dataframe thead th {\n",
       "        text-align: right;\n",
       "    }\n",
       "</style>\n",
       "<table border=\"1\" class=\"dataframe\">\n",
       "  <thead>\n",
       "    <tr style=\"text-align: right;\">\n",
       "      <th></th>\n",
       "      <th>aligned sentences source</th>\n",
       "      <th>aligned sentences target</th>\n",
       "      <th>input_text</th>\n",
       "      <th>target_text</th>\n",
       "      <th>aligned sentences source types</th>\n",
       "      <th>aligned sentences target types</th>\n",
       "      <th>sentences source types</th>\n",
       "      <th>sentences target types</th>\n",
       "      <th>predicted_text</th>\n",
       "    </tr>\n",
       "  </thead>\n",
       "  <tbody>\n",
       "    <tr>\n",
       "      <th>0</th>\n",
       "      <td>Thev suegested that optical {lis [rom the neu...</td>\n",
       "      <td>They suggested that optical flux from the neu...</td>\n",
       "      <td>Thev suegested that optical {lis [rom the neu...</td>\n",
       "      <td>They suggested that optical flux from the neu...</td>\n",
       "      <td>WWWW WWWWWWWWW WWWW WWWWWWW WWWW WWWW WWW WWW...</td>\n",
       "      <td>WWWW WWWWWWWWW WWWW WWWWWWW WWWW WWWW WWW WWW...</td>\n",
       "      <td>WWWW WWWWWWWWW WWWW WWWWWWW WWWW WWWW WWW WWW...</td>\n",
       "      <td>WWWW WWWWWWWWW WWWW WWWWWWW WWWW WWWW WWW WWW...</td>\n",
       "      <td>They suggested that optical flux from the neu...</td>\n",
       "    </tr>\n",
       "    <tr>\n",
       "      <th>1</th>\n",
       "      <td>The IRAS source would become another voung st...</td>\n",
       "      <td>The IRAS source would become another young st...</td>\n",
       "      <td>The IRAS source would become another voung st...</td>\n",
       "      <td>The IRAS source would become another young st...</td>\n",
       "      <td>WWW WWWW WWWWWW WWWWW WWWWWW WWWWWWW WWWWW WW...</td>\n",
       "      <td>WWW WWWW WWWWWW WWWWW WWWWWW WWWWWWW WWWWW WW...</td>\n",
       "      <td>WWW WWWW WWWWWW WWWWW WWWWWW WWWWWWW WWWWW WW...</td>\n",
       "      <td>WWW WWWW WWWWWW WWWWW WWWWWW WWWWWWW WWWWW WW...</td>\n",
       "      <td>The IRAS source would become another young st...</td>\n",
       "    </tr>\n",
       "    <tr>\n",
       "      <th>2</th>\n",
       "      <td>For Chandra. the data was culled by combining...</td>\n",
       "      <td>For Chandra, the data was culled by combining...</td>\n",
       "      <td>For Chandra. the data was culled by combining...</td>\n",
       "      <td>For Chandra, the data was culled by combining...</td>\n",
       "      <td>WWW WWWWWWWW WWW WWWW WWW WWWWWW WW WWWWWWWWW...</td>\n",
       "      <td>WWW WWWWWWWW WWW WWWW WWW WWWWWW WW WWWWWWWWW...</td>\n",
       "      <td>WWW WWWWWWWW WWW WWWW WWW WWWWWW WW WWWWWWWWW...</td>\n",
       "      <td>WWW WWWWWWWW WWW WWWW WWW WWWWWW WW WWWWWWWWW...</td>\n",
       "      <td>For Chandra, the data was culled by combining...</td>\n",
       "    </tr>\n",
       "    <tr>\n",
       "      <th>3</th>\n",
       "      <td>. Their upper limit corresponds to a ^^^^^^3c ...</td>\n",
       "      <td>@ Their upper limit corresponds to a $\\sigma$ ...</td>\n",
       "      <td>. Their upper limit corresponds to a 3c dust m...</td>\n",
       "      <td>Their upper limit corresponds to a $\\sigma$ d...</td>\n",
       "      <td>W WWWWW WWWWW WWWWW WWWWWWWWWWW WW W ^^^^^^II ...</td>\n",
       "      <td>@ WWWWW WWWWW WWWWW WWWWWWWWWWW WW W IIIIIIII ...</td>\n",
       "      <td>W WWWWW WWWWW WWWWW WWWWWWWWWWW WW W II WWWW W...</td>\n",
       "      <td>WWWWW WWWWW WWWWW WWWWWWWWWWW WW W IIIIIIII W...</td>\n",
       "      <td>Their upper limit corresponds to a 3c dust ma...</td>\n",
       "    </tr>\n",
       "    <tr>\n",
       "      <th>4</th>\n",
       "      <td>dust. temperatures of 35. 40. 45 and SOWKK are...</td>\n",
       "      <td>dust@ temperatures of 35, 40, 45 and @@@K@ are...</td>\n",
       "      <td>dust. temperatures of 35. 40. 45 and SOWKK are...</td>\n",
       "      <td>dust temperatures of 35, 40, 45 and K are abou...</td>\n",
       "      <td>WWWWW WWWWWWWWWWWW WW WWW WWW WW WWW WWWWW WWW...</td>\n",
       "      <td>WWWW@ WWWWWWWWWWWW WW WWW WWW WW WWW @@@W@ WWW...</td>\n",
       "      <td>WWWWW WWWWWWWWWWWW WW WWW WWW WW WWW WWWWW WWW...</td>\n",
       "      <td>WWWW WWWWWWWWWWWW WW WWW WWW WW WWW W WWW WWWW...</td>\n",
       "      <td>dust temperatures of 35, 40, 45 and 89K are ab...</td>\n",
       "    </tr>\n",
       "  </tbody>\n",
       "</table>\n",
       "</div>"
      ],
      "text/plain": [
       "                            aligned sentences source   \n",
       "0   Thev suegested that optical {lis [rom the neu...  \\\n",
       "1   The IRAS source would become another voung st...   \n",
       "2   For Chandra. the data was culled by combining...   \n",
       "3  . Their upper limit corresponds to a ^^^^^^3c ...   \n",
       "4  dust. temperatures of 35. 40. 45 and SOWKK are...   \n",
       "\n",
       "                            aligned sentences target   \n",
       "0   They suggested that optical flux from the neu...  \\\n",
       "1   The IRAS source would become another young st...   \n",
       "2   For Chandra, the data was culled by combining...   \n",
       "3  @ Their upper limit corresponds to a $\\sigma$ ...   \n",
       "4  dust@ temperatures of 35, 40, 45 and @@@K@ are...   \n",
       "\n",
       "                                          input_text   \n",
       "0   Thev suegested that optical {lis [rom the neu...  \\\n",
       "1   The IRAS source would become another voung st...   \n",
       "2   For Chandra. the data was culled by combining...   \n",
       "3  . Their upper limit corresponds to a 3c dust m...   \n",
       "4  dust. temperatures of 35. 40. 45 and SOWKK are...   \n",
       "\n",
       "                                         target_text   \n",
       "0   They suggested that optical flux from the neu...  \\\n",
       "1   The IRAS source would become another young st...   \n",
       "2   For Chandra, the data was culled by combining...   \n",
       "3   Their upper limit corresponds to a $\\sigma$ d...   \n",
       "4  dust temperatures of 35, 40, 45 and K are abou...   \n",
       "\n",
       "                      aligned sentences source types   \n",
       "0   WWWW WWWWWWWWW WWWW WWWWWWW WWWW WWWW WWW WWW...  \\\n",
       "1   WWW WWWW WWWWWW WWWWW WWWWWW WWWWWWW WWWWW WW...   \n",
       "2   WWW WWWWWWWW WWW WWWW WWW WWWWWW WW WWWWWWWWW...   \n",
       "3  W WWWWW WWWWW WWWWW WWWWWWWWWWW WW W ^^^^^^II ...   \n",
       "4  WWWWW WWWWWWWWWWWW WW WWW WWW WW WWW WWWWW WWW...   \n",
       "\n",
       "                      aligned sentences target types   \n",
       "0   WWWW WWWWWWWWW WWWW WWWWWWW WWWW WWWW WWW WWW...  \\\n",
       "1   WWW WWWW WWWWWW WWWWW WWWWWW WWWWWWW WWWWW WW...   \n",
       "2   WWW WWWWWWWW WWW WWWW WWW WWWWWW WW WWWWWWWWW...   \n",
       "3  @ WWWWW WWWWW WWWWW WWWWWWWWWWW WW W IIIIIIII ...   \n",
       "4  WWWW@ WWWWWWWWWWWW WW WWW WWW WW WWW @@@W@ WWW...   \n",
       "\n",
       "                              sentences source types   \n",
       "0   WWWW WWWWWWWWW WWWW WWWWWWW WWWW WWWW WWW WWW...  \\\n",
       "1   WWW WWWW WWWWWW WWWWW WWWWWW WWWWWWW WWWWW WW...   \n",
       "2   WWW WWWWWWWW WWW WWWW WWW WWWWWW WW WWWWWWWWW...   \n",
       "3  W WWWWW WWWWW WWWWW WWWWWWWWWWW WW W II WWWW W...   \n",
       "4  WWWWW WWWWWWWWWWWW WW WWW WWW WW WWW WWWWW WWW...   \n",
       "\n",
       "                              sentences target types   \n",
       "0   WWWW WWWWWWWWW WWWW WWWWWWW WWWW WWWW WWW WWW...  \\\n",
       "1   WWW WWWW WWWWWW WWWWW WWWWWW WWWWWWW WWWWW WW...   \n",
       "2   WWW WWWWWWWW WWW WWWW WWW WWWWWW WW WWWWWWWWW...   \n",
       "3   WWWWW WWWWW WWWWW WWWWWWWWWWW WW W IIIIIIII W...   \n",
       "4  WWWW WWWWWWWWWWWW WW WWW WWW WW WWW W WWW WWWW...   \n",
       "\n",
       "                                      predicted_text  \n",
       "0   They suggested that optical flux from the neu...  \n",
       "1   The IRAS source would become another young st...  \n",
       "2   For Chandra, the data was culled by combining...  \n",
       "3   Their upper limit corresponds to a 3c dust ma...  \n",
       "4  dust temperatures of 35, 40, 45 and 89K are ab...  "
      ]
     },
     "execution_count": 8,
     "metadata": {},
     "output_type": "execute_result"
    }
   ],
   "source": [
    "df_byt5_words.head()"
   ]
  },
  {
   "cell_type": "code",
   "execution_count": null,
   "id": "7cd48041-5781-4b49-9f39-e80db1f4bf3f",
   "metadata": {},
   "outputs": [],
   "source": []
  }
 ],
 "metadata": {
  "kernelspec": {
   "display_name": "Python 3 (ipykernel)",
   "language": "python",
   "name": "python3"
  },
  "language_info": {
   "codemirror_mode": {
    "name": "ipython",
    "version": 3
   },
   "file_extension": ".py",
   "mimetype": "text/x-python",
   "name": "python",
   "nbconvert_exporter": "python",
   "pygments_lexer": "ipython3",
   "version": "3.9.16"
  }
 },
 "nbformat": 4,
 "nbformat_minor": 5
}
