{
  "nbformat": 4,
  "nbformat_minor": 0,
  "metadata": {
    "colab": {
      "provenance": [],
      "machine_shape": "hm",
      "gpuType": "T4"
    },
    "kernelspec": {
      "name": "python3",
      "display_name": "Python 3"
    },
    "language_info": {
      "name": "python"
    },
    "accelerator": "GPU",
    "gpuClass": "standard"
  },
  "cells": [
    {
      "cell_type": "markdown",
      "source": [
        "This runs our model with byt5-ocr specific corrections: https://huggingface.co/yelpfeast/byt5-base-english-ocr-correction "
      ],
      "metadata": {
        "id": "Ya2rjz5flA0f"
      }
    },
    {
      "cell_type": "code",
      "execution_count": 9,
      "metadata": {
        "colab": {
          "base_uri": "https://localhost:8080/"
        },
        "id": "dnTDdWhrkhSL",
        "outputId": "718fd706-709e-4c7e-9ab2-07c937603991"
      },
      "outputs": [
        {
          "output_type": "stream",
          "name": "stdout",
          "text": [
            "Mounted at /content/gdrive/\n"
          ]
        }
      ],
      "source": [
        "# mount drive\n",
        "from google.colab import drive\n",
        "drive.mount('/content/gdrive/', force_remount=True)"
      ]
    },
    {
      "cell_type": "code",
      "source": [
        "!ls gdrive/MyDrive/TPDL\\ 2023\\ Colab\\ Notebooks/byt5_models/byt5_inline_cite_ref_ocr"
      ],
      "metadata": {
        "colab": {
          "base_uri": "https://localhost:8080/"
        },
        "id": "n3xYqGPg2Fut",
        "outputId": "f57179c0-3af7-4c79-820d-c8bf35e01caf"
      },
      "execution_count": 44,
      "outputs": [
        {
          "output_type": "stream",
          "name": "stdout",
          "text": [
            "checkpoint-10000  checkpoint-13500\n",
            "checkpoint-10500  checkpoint-14000\n",
            "checkpoint-11000  checkpoint-14500\n",
            "checkpoint-11500  checkpoint-15000\n",
            "checkpoint-12000  models--yelpfeast--byt5-base-english-ocr-correction\n",
            "checkpoint-12500  runs\n",
            "checkpoint-13000\n"
          ]
        }
      ]
    },
    {
      "cell_type": "code",
      "source": [
        "main_dir = 'gdrive/MyDrive/TPDL 2023 Colab Notebooks/'\n",
        "\n",
        "# where to output models\n",
        "output_dir = main_dir + 'byt5_models/byt5_inline_cite_ref_ocr/' # math/cite/refs -- just left in as raw\n",
        "\n",
        "# where is data stored?\n",
        "aligned_dataset_dir = main_dir + 'data/alignments/'\n",
        "\n",
        "# which model do we want to start from pre-trained?\n",
        "#model_pretrained = 'google/byt5-small' # orig\n",
        "model_pretrained = 'yelpfeast/byt5-base-english-ocr-correction' # for OCR correction specifically"
      ],
      "metadata": {
        "id": "kCqaqXXMmqF_"
      },
      "execution_count": 45,
      "outputs": []
    },
    {
      "cell_type": "code",
      "source": [
        "import pandas as pd\n",
        "train_df = pd.read_csv(aligned_dataset_dir+'train_masked_n500000_20230503.csv')\n",
        "eval_df = pd.read_csv(aligned_dataset_dir+'val_masked_n10000_20230503.csv')\n",
        "test_df = pd.read_csv(aligned_dataset_dir+'test_masked_n10000_20230503.csv')\n",
        "\n",
        "only_words = False"
      ],
      "metadata": {
        "id": "oxxtYvsbncTB"
      },
      "execution_count": 11,
      "outputs": []
    },
    {
      "cell_type": "code",
      "source": [
        "!pip install transformers==4.28.0"
      ],
      "metadata": {
        "colab": {
          "base_uri": "https://localhost:8080/"
        },
        "id": "wotefPaCoxuA",
        "outputId": "92286aae-79e6-4a20-a4f6-60bcca924a83"
      },
      "execution_count": 12,
      "outputs": [
        {
          "output_type": "stream",
          "name": "stdout",
          "text": [
            "Looking in indexes: https://pypi.org/simple, https://us-python.pkg.dev/colab-wheels/public/simple/\n",
            "Requirement already satisfied: transformers==4.28.0 in /usr/local/lib/python3.10/dist-packages (4.28.0)\n",
            "Requirement already satisfied: filelock in /usr/local/lib/python3.10/dist-packages (from transformers==4.28.0) (3.12.0)\n",
            "Requirement already satisfied: huggingface-hub<1.0,>=0.11.0 in /usr/local/lib/python3.10/dist-packages (from transformers==4.28.0) (0.14.1)\n",
            "Requirement already satisfied: numpy>=1.17 in /usr/local/lib/python3.10/dist-packages (from transformers==4.28.0) (1.22.4)\n",
            "Requirement already satisfied: packaging>=20.0 in /usr/local/lib/python3.10/dist-packages (from transformers==4.28.0) (23.1)\n",
            "Requirement already satisfied: pyyaml>=5.1 in /usr/local/lib/python3.10/dist-packages (from transformers==4.28.0) (6.0)\n",
            "Requirement already satisfied: regex!=2019.12.17 in /usr/local/lib/python3.10/dist-packages (from transformers==4.28.0) (2022.10.31)\n",
            "Requirement already satisfied: requests in /usr/local/lib/python3.10/dist-packages (from transformers==4.28.0) (2.27.1)\n",
            "Requirement already satisfied: tokenizers!=0.11.3,<0.14,>=0.11.1 in /usr/local/lib/python3.10/dist-packages (from transformers==4.28.0) (0.13.3)\n",
            "Requirement already satisfied: tqdm>=4.27 in /usr/local/lib/python3.10/dist-packages (from transformers==4.28.0) (4.65.0)\n",
            "Requirement already satisfied: fsspec in /usr/local/lib/python3.10/dist-packages (from huggingface-hub<1.0,>=0.11.0->transformers==4.28.0) (2023.4.0)\n",
            "Requirement already satisfied: typing-extensions>=3.7.4.3 in /usr/local/lib/python3.10/dist-packages (from huggingface-hub<1.0,>=0.11.0->transformers==4.28.0) (4.5.0)\n",
            "Requirement already satisfied: urllib3<1.27,>=1.21.1 in /usr/local/lib/python3.10/dist-packages (from requests->transformers==4.28.0) (1.26.15)\n",
            "Requirement already satisfied: certifi>=2017.4.17 in /usr/local/lib/python3.10/dist-packages (from requests->transformers==4.28.0) (2022.12.7)\n",
            "Requirement already satisfied: charset-normalizer~=2.0.0 in /usr/local/lib/python3.10/dist-packages (from requests->transformers==4.28.0) (2.0.12)\n",
            "Requirement already satisfied: idna<4,>=2.5 in /usr/local/lib/python3.10/dist-packages (from requests->transformers==4.28.0) (3.4)\n"
          ]
        }
      ]
    },
    {
      "cell_type": "code",
      "source": [
        "#!pip install transformers"
      ],
      "metadata": {
        "id": "2bfOyWk8lkUr"
      },
      "execution_count": 13,
      "outputs": []
    },
    {
      "cell_type": "markdown",
      "source": [
        "Order here is important!"
      ],
      "metadata": {
        "id": "ir14BJRimVE8"
      }
    },
    {
      "cell_type": "code",
      "source": [
        "# !pip install pybind11 \n",
        "# !pip install fastwer"
      ],
      "metadata": {
        "id": "6THPU5s7l5Ey"
      },
      "execution_count": 14,
      "outputs": []
    },
    {
      "cell_type": "code",
      "source": [
        "from transformers import HfArgumentParser, TensorFlowBenchmark, TensorFlowBenchmarkArguments\n",
        "#import pandas as pd\n",
        "from transformers import T5ForConditionalGeneration, AutoTokenizer\n",
        "from transformers import TrainingArguments\n",
        "from torch.utils.data import Dataset, DataLoader\n",
        "from transformers import Trainer\n",
        "from transformers import EarlyStoppingCallback"
      ],
      "metadata": {
        "id": "g154RiKGlb_h"
      },
      "execution_count": 15,
      "outputs": []
    },
    {
      "cell_type": "code",
      "source": [
        "#import fastwer\n",
        "from glob import glob\n",
        "import matplotlib.pyplot as plt\n",
        "import numpy as np"
      ],
      "metadata": {
        "id": "WX29dDbfls7l"
      },
      "execution_count": 16,
      "outputs": []
    },
    {
      "cell_type": "code",
      "source": [
        "from sys import path\n",
        "path.append(main_dir + 'libraries/')\n",
        "from utils_ocr_mini import get_fill_in_types"
      ],
      "metadata": {
        "id": "3Giern-Vlfsr"
      },
      "execution_count": 17,
      "outputs": []
    },
    {
      "cell_type": "code",
      "source": [
        "from torch import cuda\n",
        "\n",
        "device = 'cuda' if cuda.is_available() else 'cpu'\n",
        "cuda.empty_cache()\n",
        "print(device)"
      ],
      "metadata": {
        "colab": {
          "base_uri": "https://localhost:8080/"
        },
        "id": "oJUsyo_UlZko",
        "outputId": "b52e62fd-3c1c-4bdb-a1b7-f6dc04f2833c"
      },
      "execution_count": 18,
      "outputs": [
        {
          "output_type": "stream",
          "name": "stdout",
          "text": [
            "cuda\n"
          ]
        }
      ]
    },
    {
      "cell_type": "code",
      "source": [
        "def add_formatted_columns(datain):\n",
        "    source = []\n",
        "    target = []\n",
        "    source_aligned = []\n",
        "    target_aligned = []\n",
        "    for i in range(len(datain)):\n",
        "        d = datain.iloc[i]\n",
        "        s = np.array(list(d['aligned sentences source'])) # aligned source, with ^ symbols\n",
        "        t = np.array(list(d['aligned sentences target'])) # aligned target, with @ symbols\n",
        "        a = np.array(list(get_fill_in_types(d['aligned sentences target types'])))\n",
        "        if len(s) == len(t):\n",
        "            ss = \"\".join(s[np.where( (a == ' ') | (a == 'W') | (a == 'w'))[0]].tolist())\n",
        "            tt = \"\".join(t[np.where( (a == ' ') | (a == 'W') | (a == 'w'))[0]].tolist())\n",
        "        else:\n",
        "            print('have issue, testing')\n",
        "            if t[0] == ' ' and s[0] != ' ':\n",
        "                t = np.array(list(d['aligned sentences target']))[1:] # aligned target, with @ symbols\n",
        "                a = np.array(list(get_fill_in_types(d['aligned sentences target types'])))[1:]\n",
        "                if len(s) == len(t):\n",
        "                    ss = \"\".join(s[np.where( (a == ' ') | (a == 'W') | (a == 'w'))[0]].tolist())\n",
        "                    tt = \"\".join(t[np.where( (a == ' ') | (a == 'W') | (a == 'w'))[0]].tolist())\n",
        "                else:\n",
        "                    print('not aligned, best guess')\n",
        "                    import sys; sys.exit()\n",
        "\n",
        "        source_aligned.append(ss.replace('^','@')) # align with original \n",
        "        target_aligned.append(tt)\n",
        "        source.append(ss.replace('^',''))\n",
        "        target.append(tt.replace('@',''))\n",
        "\n",
        "    datain['words source aligned'] = source_aligned\n",
        "    datain['words target aligned'] = target_aligned\n",
        "    datain['words source'] = source\n",
        "    datain['words target'] = target\n",
        "    return datain"
      ],
      "metadata": {
        "id": "nOeops60nnoU"
      },
      "execution_count": 19,
      "outputs": []
    },
    {
      "cell_type": "code",
      "source": [
        "train_df.head()"
      ],
      "metadata": {
        "colab": {
          "base_uri": "https://localhost:8080/",
          "height": 528
        },
        "id": "QItVt00_lZiZ",
        "outputId": "f807c704-9aaf-452a-a148-04f08de34893"
      },
      "execution_count": 20,
      "outputs": [
        {
          "output_type": "execute_result",
          "data": {
            "text/plain": [
              "                            aligned sentences source  \\\n",
              "0   To a good approxiuiati^^^ the radial velocity...   \n",
              "1  Where all the units must be in ces and the ^L^...   \n",
              "2  ^At sulliciently high temperatures the ^^^^^^^...   \n",
              "3   The resulting spectral resolution was ^^^^^^8...   \n",
              "4   One approach is ^o search for a CAV signal fo...   \n",
              "\n",
              "                            aligned sentences target  \\\n",
              "0   To a good approxim@ation, the radial velocity...   \n",
              "1  Where all the units must be in cgs and the $L_...   \n",
              "2   At sufficiently high temperatures the $^4\\mat...   \n",
              "3   The resulting spectral resolution was $\\sim 8...   \n",
              "4   One approach is to search for a GW@ signal fo...   \n",
              "\n",
              "                                    sentences source  \\\n",
              "0   To a good approxiuiati the radial velocity of...   \n",
              "1  Where all the units must be in ces and the Leu...   \n",
              "2  At sulliciently high temperatures the !1 and =...   \n",
              "3   The resulting spectral resolution was 8 kIlz ...   \n",
              "4   One approach is o search for a CAV signal fol...   \n",
              "\n",
              "                                    sentences target  \\\n",
              "0   To a good approximation, the radial velocity ...   \n",
              "1  Where all the units must be in cgs and the $L_...   \n",
              "2   At sufficiently high temperatures the $^4\\mat...   \n",
              "3   The resulting spectral resolution was $\\sim 8...   \n",
              "4   One approach is to search for a GW signal fol...   \n",
              "\n",
              "                      aligned sentences source types  \\\n",
              "0   WW W WWWW WWWWWWWWWWWW^^^ WWW WWWWWW WWWWWWWW...   \n",
              "1  WWWWW WWW WWW WWWWW WWWW WW WW WWW WWW WWW ^I^...   \n",
              "2  ^WW WWWWWWWWWWWW WWWW WWWWWWWWWWWW WWW ^^^^^^^...   \n",
              "3   WWW WWWWWWWWW WWWWWWWW WWWWWWWWWW WWW ^^^^^II...   \n",
              "4   WWW WWWWWWWW WW ^W WWWWWW WWW W WWW WWWWWW WW...   \n",
              "\n",
              "                      aligned sentences target types  \\\n",
              "0   WW W WWWW WWWWWWWW@WWWWWW WWW WWWWWW WWWWWWWW...   \n",
              "1  WWWWW WWW WWW WWWWW WWWW WW WW WWW WWW WWW III...   \n",
              "2   WW WWWWWWWWWWWW WWWW WWWWWWWWWWWW WWW IIIIIII...   \n",
              "3   WWW WWWWWWWWW WWWWWWWW WWWWWWWWWW WWW IIIIIII...   \n",
              "4   WWW WWWWWWWW WW WW WWWWWW WWW W WW@ WWWWWW WW...   \n",
              "\n",
              "                              sentences source types  \\\n",
              "0   WW W WWWW WWWWWWWWWWWW WWW WWWWWW WWWWWWWW WW...   \n",
              "1  WWWWW WWW WWW WWWWW WWWW WW WW WWW WWW WWW III...   \n",
              "2  WW WWWWWWWWWWWW WWWW WWWWWWWWWWWW WWW II WWW I...   \n",
              "3   WWW WWWWWWWWW WWWWWWWW WWWWWWWWWW WWW II WWWW...   \n",
              "4   WWW WWWWWWWW WW W WWWWWW WWW W WWW WWWWWW WWW...   \n",
              "\n",
              "                              sentences target types  \n",
              "0   WW W WWWW WWWWWWWWWWWWWW WWW WWWWWW WWWWWWWW ...  \n",
              "1  WWWWW WWW WWW WWWWW WWWW WW WW WWW WWW WWW III...  \n",
              "2   WW WWWWWWWWWWWW WWWW WWWWWWWWWWWW WWW IIIIIII...  \n",
              "3   WWW WWWWWWWWW WWWWWWWW WWWWWWWWWW WWW IIIIIII...  \n",
              "4   WWW WWWWWWWW WW WW WWWWWW WWW W WW WWWWWW WWW...  "
            ],
            "text/html": [
              "\n",
              "  <div id=\"df-9296badc-9495-4845-91ea-4300d9cf33b7\">\n",
              "    <div class=\"colab-df-container\">\n",
              "      <div>\n",
              "<style scoped>\n",
              "    .dataframe tbody tr th:only-of-type {\n",
              "        vertical-align: middle;\n",
              "    }\n",
              "\n",
              "    .dataframe tbody tr th {\n",
              "        vertical-align: top;\n",
              "    }\n",
              "\n",
              "    .dataframe thead th {\n",
              "        text-align: right;\n",
              "    }\n",
              "</style>\n",
              "<table border=\"1\" class=\"dataframe\">\n",
              "  <thead>\n",
              "    <tr style=\"text-align: right;\">\n",
              "      <th></th>\n",
              "      <th>aligned sentences source</th>\n",
              "      <th>aligned sentences target</th>\n",
              "      <th>sentences source</th>\n",
              "      <th>sentences target</th>\n",
              "      <th>aligned sentences source types</th>\n",
              "      <th>aligned sentences target types</th>\n",
              "      <th>sentences source types</th>\n",
              "      <th>sentences target types</th>\n",
              "    </tr>\n",
              "  </thead>\n",
              "  <tbody>\n",
              "    <tr>\n",
              "      <th>0</th>\n",
              "      <td>To a good approxiuiati^^^ the radial velocity...</td>\n",
              "      <td>To a good approxim@ation, the radial velocity...</td>\n",
              "      <td>To a good approxiuiati the radial velocity of...</td>\n",
              "      <td>To a good approximation, the radial velocity ...</td>\n",
              "      <td>WW W WWWW WWWWWWWWWWWW^^^ WWW WWWWWW WWWWWWWW...</td>\n",
              "      <td>WW W WWWW WWWWWWWW@WWWWWW WWW WWWWWW WWWWWWWW...</td>\n",
              "      <td>WW W WWWW WWWWWWWWWWWW WWW WWWWWW WWWWWWWW WW...</td>\n",
              "      <td>WW W WWWW WWWWWWWWWWWWWW WWW WWWWWW WWWWWWWW ...</td>\n",
              "    </tr>\n",
              "    <tr>\n",
              "      <th>1</th>\n",
              "      <td>Where all the units must be in ces and the ^L^...</td>\n",
              "      <td>Where all the units must be in cgs and the $L_...</td>\n",
              "      <td>Where all the units must be in ces and the Leu...</td>\n",
              "      <td>Where all the units must be in cgs and the $L_...</td>\n",
              "      <td>WWWWW WWW WWW WWWWW WWWW WW WW WWW WWW WWW ^I^...</td>\n",
              "      <td>WWWWW WWW WWW WWWWW WWWW WW WW WWW WWW WWW III...</td>\n",
              "      <td>WWWWW WWW WWW WWWWW WWWW WW WW WWW WWW WWW III...</td>\n",
              "      <td>WWWWW WWW WWW WWWWW WWWW WW WW WWW WWW WWW III...</td>\n",
              "    </tr>\n",
              "    <tr>\n",
              "      <th>2</th>\n",
              "      <td>^At sulliciently high temperatures the ^^^^^^^...</td>\n",
              "      <td>At sufficiently high temperatures the $^4\\mat...</td>\n",
              "      <td>At sulliciently high temperatures the !1 and =...</td>\n",
              "      <td>At sufficiently high temperatures the $^4\\mat...</td>\n",
              "      <td>^WW WWWWWWWWWWWW WWWW WWWWWWWWWWWW WWW ^^^^^^^...</td>\n",
              "      <td>WW WWWWWWWWWWWW WWWW WWWWWWWWWWWW WWW IIIIIII...</td>\n",
              "      <td>WW WWWWWWWWWWWW WWWW WWWWWWWWWWWW WWW II WWW I...</td>\n",
              "      <td>WW WWWWWWWWWWWW WWWW WWWWWWWWWWWW WWW IIIIIII...</td>\n",
              "    </tr>\n",
              "    <tr>\n",
              "      <th>3</th>\n",
              "      <td>The resulting spectral resolution was ^^^^^^8...</td>\n",
              "      <td>The resulting spectral resolution was $\\sim 8...</td>\n",
              "      <td>The resulting spectral resolution was 8 kIlz ...</td>\n",
              "      <td>The resulting spectral resolution was $\\sim 8...</td>\n",
              "      <td>WWW WWWWWWWWW WWWWWWWW WWWWWWWWWW WWW ^^^^^II...</td>\n",
              "      <td>WWW WWWWWWWWW WWWWWWWW WWWWWWWWWW WWW IIIIIII...</td>\n",
              "      <td>WWW WWWWWWWWW WWWWWWWW WWWWWWWWWW WWW II WWWW...</td>\n",
              "      <td>WWW WWWWWWWWW WWWWWWWW WWWWWWWWWW WWW IIIIIII...</td>\n",
              "    </tr>\n",
              "    <tr>\n",
              "      <th>4</th>\n",
              "      <td>One approach is ^o search for a CAV signal fo...</td>\n",
              "      <td>One approach is to search for a GW@ signal fo...</td>\n",
              "      <td>One approach is o search for a CAV signal fol...</td>\n",
              "      <td>One approach is to search for a GW signal fol...</td>\n",
              "      <td>WWW WWWWWWWW WW ^W WWWWWW WWW W WWW WWWWWW WW...</td>\n",
              "      <td>WWW WWWWWWWW WW WW WWWWWW WWW W WW@ WWWWWW WW...</td>\n",
              "      <td>WWW WWWWWWWW WW W WWWWWW WWW W WWW WWWWWW WWW...</td>\n",
              "      <td>WWW WWWWWWWW WW WW WWWWWW WWW W WW WWWWWW WWW...</td>\n",
              "    </tr>\n",
              "  </tbody>\n",
              "</table>\n",
              "</div>\n",
              "      <button class=\"colab-df-convert\" onclick=\"convertToInteractive('df-9296badc-9495-4845-91ea-4300d9cf33b7')\"\n",
              "              title=\"Convert this dataframe to an interactive table.\"\n",
              "              style=\"display:none;\">\n",
              "        \n",
              "  <svg xmlns=\"http://www.w3.org/2000/svg\" height=\"24px\"viewBox=\"0 0 24 24\"\n",
              "       width=\"24px\">\n",
              "    <path d=\"M0 0h24v24H0V0z\" fill=\"none\"/>\n",
              "    <path d=\"M18.56 5.44l.94 2.06.94-2.06 2.06-.94-2.06-.94-.94-2.06-.94 2.06-2.06.94zm-11 1L8.5 8.5l.94-2.06 2.06-.94-2.06-.94L8.5 2.5l-.94 2.06-2.06.94zm10 10l.94 2.06.94-2.06 2.06-.94-2.06-.94-.94-2.06-.94 2.06-2.06.94z\"/><path d=\"M17.41 7.96l-1.37-1.37c-.4-.4-.92-.59-1.43-.59-.52 0-1.04.2-1.43.59L10.3 9.45l-7.72 7.72c-.78.78-.78 2.05 0 2.83L4 21.41c.39.39.9.59 1.41.59.51 0 1.02-.2 1.41-.59l7.78-7.78 2.81-2.81c.8-.78.8-2.07 0-2.86zM5.41 20L4 18.59l7.72-7.72 1.47 1.35L5.41 20z\"/>\n",
              "  </svg>\n",
              "      </button>\n",
              "      \n",
              "  <style>\n",
              "    .colab-df-container {\n",
              "      display:flex;\n",
              "      flex-wrap:wrap;\n",
              "      gap: 12px;\n",
              "    }\n",
              "\n",
              "    .colab-df-convert {\n",
              "      background-color: #E8F0FE;\n",
              "      border: none;\n",
              "      border-radius: 50%;\n",
              "      cursor: pointer;\n",
              "      display: none;\n",
              "      fill: #1967D2;\n",
              "      height: 32px;\n",
              "      padding: 0 0 0 0;\n",
              "      width: 32px;\n",
              "    }\n",
              "\n",
              "    .colab-df-convert:hover {\n",
              "      background-color: #E2EBFA;\n",
              "      box-shadow: 0px 1px 2px rgba(60, 64, 67, 0.3), 0px 1px 3px 1px rgba(60, 64, 67, 0.15);\n",
              "      fill: #174EA6;\n",
              "    }\n",
              "\n",
              "    [theme=dark] .colab-df-convert {\n",
              "      background-color: #3B4455;\n",
              "      fill: #D2E3FC;\n",
              "    }\n",
              "\n",
              "    [theme=dark] .colab-df-convert:hover {\n",
              "      background-color: #434B5C;\n",
              "      box-shadow: 0px 1px 3px 1px rgba(0, 0, 0, 0.15);\n",
              "      filter: drop-shadow(0px 1px 2px rgba(0, 0, 0, 0.3));\n",
              "      fill: #FFFFFF;\n",
              "    }\n",
              "  </style>\n",
              "\n",
              "      <script>\n",
              "        const buttonEl =\n",
              "          document.querySelector('#df-9296badc-9495-4845-91ea-4300d9cf33b7 button.colab-df-convert');\n",
              "        buttonEl.style.display =\n",
              "          google.colab.kernel.accessAllowed ? 'block' : 'none';\n",
              "\n",
              "        async function convertToInteractive(key) {\n",
              "          const element = document.querySelector('#df-9296badc-9495-4845-91ea-4300d9cf33b7');\n",
              "          const dataTable =\n",
              "            await google.colab.kernel.invokeFunction('convertToInteractive',\n",
              "                                                     [key], {});\n",
              "          if (!dataTable) return;\n",
              "\n",
              "          const docLinkHtml = 'Like what you see? Visit the ' +\n",
              "            '<a target=\"_blank\" href=https://colab.research.google.com/notebooks/data_table.ipynb>data table notebook</a>'\n",
              "            + ' to learn more about interactive tables.';\n",
              "          element.innerHTML = '';\n",
              "          dataTable['output_type'] = 'display_data';\n",
              "          await google.colab.output.renderOutput(dataTable, element);\n",
              "          const docLink = document.createElement('div');\n",
              "          docLink.innerHTML = docLinkHtml;\n",
              "          element.appendChild(docLink);\n",
              "        }\n",
              "      </script>\n",
              "    </div>\n",
              "  </div>\n",
              "  "
            ]
          },
          "metadata": {},
          "execution_count": 20
        }
      ]
    },
    {
      "cell_type": "code",
      "source": [
        "if only_words:\n",
        "    train_df = add_formatted_columns(train_df)\n",
        "    eval_df = add_formatted_columns(eval_df)\n",
        "    test_df = add_formatted_columns(test_df)\n",
        "    # rename sentences we want\n",
        "    train_df = train_df.rename(columns={\"words source\": \"input_text\", \n",
        "                        \"words target\": \"target_text\"})\n",
        "    eval_df = eval_df.rename(columns={\"words source\": \"input_text\", \n",
        "                        \"words target\": \"target_text\"})\n",
        "    test_df = test_df.rename(columns={\"words source\": \"input_text\", \n",
        "                        \"words target\": \"target_text\"})\n",
        "else:\n",
        "    # rename sentences we want\n",
        "    train_df = train_df.rename(columns={\"sentences source\": \"input_text\", \n",
        "                        \"sentences target\": \"target_text\"})\n",
        "    eval_df = eval_df.rename(columns={\"sentences source\": \"input_text\", \n",
        "                        \"sentences target\": \"target_text\"})\n",
        "    test_df = test_df.rename(columns={\"sentences source\": \"input_text\", \n",
        "                        \"sentences target\": \"target_text\"})"
      ],
      "metadata": {
        "id": "oQA5YZDdlZgM"
      },
      "execution_count": 21,
      "outputs": []
    },
    {
      "cell_type": "code",
      "source": [
        "args_dict = {\n",
        "    #\"model_name_or_path\": 'google/byt5-small',\n",
        "    #\"max_len\": 4096,\n",
        "    #\"max_length\": 4096,\n",
        "    \"output_dir\": output_dir,\n",
        "    \"overwrite_output_dir\": True,\n",
        "    \"per_device_train_batch_size\": 4,\n",
        "    \"per_device_eval_batch_size\": 4,\n",
        "    \"gradient_accumulation_steps\": 4,\n",
        "    \"learning_rate\": 5e-4,\n",
        "    \"warmup_steps\": 250,\n",
        "    \"logging_steps\": 100,\n",
        "    \"evaluation_strategy\": \"steps\",\n",
        "    \"eval_steps\": 1000,\n",
        "    \"num_train_epochs\": 4,\n",
        "    \"do_train\": True,\n",
        "    \"do_eval\": True,\n",
        "    \"fp16\": False,\n",
        "    #\"use_cache\": False,\n",
        "    \"max_steps\": 100000,\n",
        "    'save_steps':1000,\n",
        "    'save_strategy':'steps',\n",
        "    'load_best_model_at_end': True#,\n",
        "    # 'metric_for_best_model':'eval_loss',\n",
        "    # 'greater_is_better':False\n",
        "}"
      ],
      "metadata": {
        "id": "Jd1PXsovlZd2"
      },
      "execution_count": 22,
      "outputs": []
    },
    {
      "cell_type": "code",
      "source": [
        "#!pip install --upgrade accelerate"
      ],
      "metadata": {
        "id": "FxQxNcMjoi8O"
      },
      "execution_count": 23,
      "outputs": []
    },
    {
      "cell_type": "code",
      "source": [
        "parser = HfArgumentParser(\n",
        "        (TrainingArguments))\n",
        "training_args = parser.parse_dict(args_dict)\n",
        "# set_seed(training_args.seed)\n",
        "args = training_args[0]"
      ],
      "metadata": {
        "id": "MWfk71QslZby"
      },
      "execution_count": 24,
      "outputs": []
    },
    {
      "cell_type": "code",
      "source": [
        "# Load pretrained model and tokenizer\n",
        "tokenizer = AutoTokenizer.from_pretrained(\n",
        "    model_pretrained,\n",
        "    cache_dir=output_dir, \n",
        "    max_length=4096\n",
        ")"
      ],
      "metadata": {
        "id": "-UWnONbvlZZt"
      },
      "execution_count": 25,
      "outputs": []
    },
    {
      "cell_type": "code",
      "source": [
        "model = T5ForConditionalGeneration.from_pretrained(\n",
        "    model_pretrained,\n",
        "    cache_dir=output_dir,\n",
        ")"
      ],
      "metadata": {
        "id": "Vbky6fbWlZXe"
      },
      "execution_count": 26,
      "outputs": []
    },
    {
      "cell_type": "code",
      "source": [
        "# overwriting the default max_length of 20 \n",
        "tokenizer.model_max_length=4096\n",
        "model.config.max_length=4096"
      ],
      "metadata": {
        "id": "lVetcdNVlZVI"
      },
      "execution_count": 27,
      "outputs": []
    },
    {
      "cell_type": "code",
      "source": [
        "class GPReviewDataset(Dataset):\n",
        "    def __init__(self, Text, Label):\n",
        "        self.Text = Text\n",
        "        self.Label = Label\n",
        "        # self.tokenizer = tokenizer\n",
        "        # self.max_len = max_len\n",
        "    def __len__(self):\n",
        "        return len(self.Text)\n",
        "    def __getitem__(self, item):\n",
        "        Text = str(self.Text[item])\n",
        "        Label = self.Label[item]\n",
        "        inputs = tokenizer(Text, padding=\"max_length\", truncation=True, max_length=512)\n",
        "        outputs = tokenizer(Label, padding=\"max_length\", truncation=True, max_length=512)\n",
        "        return {\n",
        "          \"input_ids\":inputs.input_ids,\n",
        "          \"attention_mask\" : inputs.attention_mask,\n",
        "          \"labels\" : outputs.input_ids,\n",
        "          \"decoder_attention_mask\" : outputs.attention_mask,\n",
        "          # \"labels\" : lbz\n",
        "        }"
      ],
      "metadata": {
        "id": "lVv94v7BlZS6"
      },
      "execution_count": 28,
      "outputs": []
    },
    {
      "cell_type": "code",
      "source": [
        "ds_train = GPReviewDataset(\n",
        "  Text=train_df.input_text.to_numpy(),\n",
        "  Label=train_df.target_text.to_numpy()\n",
        "  # tokenizer=tokenizer,\n",
        "  # max_len=max_len\n",
        ")"
      ],
      "metadata": {
        "id": "mix1mmuWlZQs"
      },
      "execution_count": 29,
      "outputs": []
    },
    {
      "cell_type": "code",
      "source": [
        "ds_test = GPReviewDataset(\n",
        "  Text=eval_df.input_text.to_numpy(),\n",
        "  Label=eval_df.target_text.to_numpy()\n",
        "  # tokenizer=tokenizer,\n",
        "  # max_len=max_len\n",
        ")"
      ],
      "metadata": {
        "id": "XxekcQahlZOn"
      },
      "execution_count": 30,
      "outputs": []
    },
    {
      "cell_type": "code",
      "source": [
        "train_dataset = ds_train\n",
        "valid_dataset = ds_test"
      ],
      "metadata": {
        "id": "XFQ-LlwNlZMd"
      },
      "execution_count": 31,
      "outputs": []
    },
    {
      "cell_type": "code",
      "source": [
        "trainer = Trainer(\n",
        "    model=model,\n",
        "    args=args,\n",
        "    train_dataset=train_dataset,\n",
        "    eval_dataset=valid_dataset,\n",
        "    # callbacks = [EarlyStoppingCallback(early_stopping_patience=10)]\n",
        "    # compute_metrics=compute_metrics\n",
        "\n",
        ")"
      ],
      "metadata": {
        "id": "vKJTtQS9lZKh"
      },
      "execution_count": 32,
      "outputs": []
    },
    {
      "cell_type": "code",
      "source": [
        "!ls gdrive/MyDrive/TPDL\\ 2023\\ Colab\\ Notebooks/byt5_models/byt5_inline_cite_ref_ocr"
      ],
      "metadata": {
        "colab": {
          "base_uri": "https://localhost:8080/"
        },
        "id": "tpQpGEMU2hjf",
        "outputId": "8221f736-d6ec-4502-a566-41f775106f69"
      },
      "execution_count": 47,
      "outputs": [
        {
          "output_type": "stream",
          "name": "stdout",
          "text": [
            "checkpoint-10000  checkpoint-13500\n",
            "checkpoint-10500  checkpoint-14000\n",
            "checkpoint-11000  checkpoint-14500\n",
            "checkpoint-11500  checkpoint-15000\n",
            "checkpoint-12000  models--yelpfeast--byt5-base-english-ocr-correction\n",
            "checkpoint-12500  runs\n",
            "checkpoint-13000\n"
          ]
        }
      ]
    },
    {
      "cell_type": "code",
      "source": [
        "output_dir"
      ],
      "metadata": {
        "colab": {
          "base_uri": "https://localhost:8080/",
          "height": 35
        },
        "id": "B1SmApob2d1_",
        "outputId": "379f8e10-6149-44f5-ddd3-cb8a6c85f52c"
      },
      "execution_count": 46,
      "outputs": [
        {
          "output_type": "execute_result",
          "data": {
            "text/plain": [
              "'gdrive/MyDrive/TPDL 2023 Colab Notebooks/byt5_models/byt5_inline_cite_ref_ocr/'"
            ],
            "application/vnd.google.colaboratory.intrinsic+json": {
              "type": "string"
            }
          },
          "metadata": {},
          "execution_count": 46
        }
      ]
    },
    {
      "cell_type": "code",
      "source": [
        "f''+output_dir + 'checkpoint-15000'"
      ],
      "metadata": {
        "colab": {
          "base_uri": "https://localhost:8080/",
          "height": 35
        },
        "id": "kggLRL_42vAL",
        "outputId": "8241612e-e878-485c-cc89-51c6692da677"
      },
      "execution_count": 51,
      "outputs": [
        {
          "output_type": "execute_result",
          "data": {
            "text/plain": [
              "'gdrive/MyDrive/TPDL 2023 Colab Notebooks/byt5_models/byt5_inline_cite_ref_ocr/checkpoint-15000'"
            ],
            "application/vnd.google.colaboratory.intrinsic+json": {
              "type": "string"
            }
          },
          "metadata": {},
          "execution_count": 51
        }
      ]
    },
    {
      "cell_type": "code",
      "source": [
        "trainer.args.save_total_limit = 10\n",
        "trainer.args.logging_steps = 100 # down from 100\n",
        "trainer.args.save_steps=500 # down from 10000\n",
        "#trainer.train() # put in checkpoint if need be here to load \n",
        "trainer.train(output_dir + 'checkpoint-22000/')"
      ],
      "metadata": {
        "colab": {
          "base_uri": "https://localhost:8080/",
          "height": 1000
        },
        "id": "v0mnJg8HlZIc",
        "outputId": "c45bb6b2-6ba5-4fce-89be-46cbf1157bd1"
      },
      "execution_count": 53,
      "outputs": [
        {
          "output_type": "stream",
          "name": "stderr",
          "text": [
            "/usr/local/lib/python3.10/dist-packages/transformers/optimization.py:391: FutureWarning: This implementation of AdamW is deprecated and will be removed in a future version. Use the PyTorch implementation torch.optim.AdamW instead, or set `no_deprecation_warning=True` to disable this warning\n",
            "  warnings.warn(\n"
          ]
        },
        {
          "output_type": "display_data",
          "data": {
            "text/plain": [
              "<IPython.core.display.HTML object>"
            ],
            "text/html": [
              "\n",
              "    <div>\n",
              "      \n",
              "      <progress value='22001' max='100000' style='width:300px; height:20px; vertical-align: middle;'></progress>\n",
              "      [ 22001/100000 8:31:04 < 30:12:04, 0.72 it/s, Epoch 0.70/4]\n",
              "    </div>\n",
              "    <table border=\"1\" class=\"dataframe\">\n",
              "  <thead>\n",
              " <tr style=\"text-align: left;\">\n",
              "      <th>Step</th>\n",
              "      <th>Training Loss</th>\n",
              "      <th>Validation Loss</th>\n",
              "    </tr>\n",
              "  </thead>\n",
              "  <tbody>\n",
              "    <tr>\n",
              "      <td>1000</td>\n",
              "      <td>0.062000</td>\n",
              "      <td>0.054086</td>\n",
              "    </tr>\n",
              "    <tr>\n",
              "      <td>2000</td>\n",
              "      <td>0.055000</td>\n",
              "      <td>0.046523</td>\n",
              "    </tr>\n",
              "    <tr>\n",
              "      <td>3000</td>\n",
              "      <td>0.049200</td>\n",
              "      <td>0.043568</td>\n",
              "    </tr>\n",
              "    <tr>\n",
              "      <td>4000</td>\n",
              "      <td>0.050200</td>\n",
              "      <td>0.041084</td>\n",
              "    </tr>\n",
              "    <tr>\n",
              "      <td>5000</td>\n",
              "      <td>0.041400</td>\n",
              "      <td>0.039787</td>\n",
              "    </tr>\n",
              "    <tr>\n",
              "      <td>6000</td>\n",
              "      <td>0.047000</td>\n",
              "      <td>0.038664</td>\n",
              "    </tr>\n",
              "    <tr>\n",
              "      <td>7000</td>\n",
              "      <td>0.044700</td>\n",
              "      <td>0.037651</td>\n",
              "    </tr>\n",
              "    <tr>\n",
              "      <td>8000</td>\n",
              "      <td>0.043700</td>\n",
              "      <td>0.036881</td>\n",
              "    </tr>\n",
              "    <tr>\n",
              "      <td>9000</td>\n",
              "      <td>0.042900</td>\n",
              "      <td>0.036117</td>\n",
              "    </tr>\n",
              "    <tr>\n",
              "      <td>10000</td>\n",
              "      <td>0.042900</td>\n",
              "      <td>0.035614</td>\n",
              "    </tr>\n",
              "    <tr>\n",
              "      <td>11000</td>\n",
              "      <td>0.038600</td>\n",
              "      <td>0.035001</td>\n",
              "    </tr>\n",
              "    <tr>\n",
              "      <td>12000</td>\n",
              "      <td>0.037500</td>\n",
              "      <td>0.034571</td>\n",
              "    </tr>\n",
              "    <tr>\n",
              "      <td>13000</td>\n",
              "      <td>0.035300</td>\n",
              "      <td>0.034096</td>\n",
              "    </tr>\n",
              "    <tr>\n",
              "      <td>14000</td>\n",
              "      <td>0.036800</td>\n",
              "      <td>0.033204</td>\n",
              "    </tr>\n",
              "    <tr>\n",
              "      <td>15000</td>\n",
              "      <td>0.035000</td>\n",
              "      <td>0.033086</td>\n",
              "    </tr>\n",
              "    <tr>\n",
              "      <td>16000</td>\n",
              "      <td>0.038000</td>\n",
              "      <td>0.033037</td>\n",
              "    </tr>\n",
              "    <tr>\n",
              "      <td>17000</td>\n",
              "      <td>0.038600</td>\n",
              "      <td>0.032668</td>\n",
              "    </tr>\n",
              "    <tr>\n",
              "      <td>18000</td>\n",
              "      <td>0.034900</td>\n",
              "      <td>0.032078</td>\n",
              "    </tr>\n",
              "    <tr>\n",
              "      <td>19000</td>\n",
              "      <td>0.036000</td>\n",
              "      <td>0.031749</td>\n",
              "    </tr>\n",
              "    <tr>\n",
              "      <td>20000</td>\n",
              "      <td>0.040700</td>\n",
              "      <td>0.031567</td>\n",
              "    </tr>\n",
              "    <tr>\n",
              "      <td>21000</td>\n",
              "      <td>0.034900</td>\n",
              "      <td>0.031181</td>\n",
              "    </tr>\n",
              "    <tr>\n",
              "      <td>22000</td>\n",
              "      <td>0.033700</td>\n",
              "      <td>0.030699</td>\n",
              "    </tr>\n",
              "  </tbody>\n",
              "</table><p>"
            ]
          },
          "metadata": {}
        },
        {
          "output_type": "error",
          "ename": "RuntimeError",
          "evalue": "ignored",
          "traceback": [
            "\u001b[0;31m---------------------------------------------------------------------------\u001b[0m",
            "\u001b[0;31mRuntimeError\u001b[0m                              Traceback (most recent call last)",
            "\u001b[0;32m/usr/local/lib/python3.10/dist-packages/torch/serialization.py\u001b[0m in \u001b[0;36msave\u001b[0;34m(obj, f, pickle_module, pickle_protocol, _use_new_zipfile_serialization)\u001b[0m\n\u001b[1;32m    440\u001b[0m         \u001b[0;32mwith\u001b[0m \u001b[0m_open_zipfile_writer\u001b[0m\u001b[0;34m(\u001b[0m\u001b[0mf\u001b[0m\u001b[0;34m)\u001b[0m \u001b[0;32mas\u001b[0m \u001b[0mopened_zipfile\u001b[0m\u001b[0;34m:\u001b[0m\u001b[0;34m\u001b[0m\u001b[0;34m\u001b[0m\u001b[0m\n\u001b[0;32m--> 441\u001b[0;31m             \u001b[0m_save\u001b[0m\u001b[0;34m(\u001b[0m\u001b[0mobj\u001b[0m\u001b[0;34m,\u001b[0m \u001b[0mopened_zipfile\u001b[0m\u001b[0;34m,\u001b[0m \u001b[0mpickle_module\u001b[0m\u001b[0;34m,\u001b[0m \u001b[0mpickle_protocol\u001b[0m\u001b[0;34m)\u001b[0m\u001b[0;34m\u001b[0m\u001b[0;34m\u001b[0m\u001b[0m\n\u001b[0m\u001b[1;32m    442\u001b[0m             \u001b[0;32mreturn\u001b[0m\u001b[0;34m\u001b[0m\u001b[0;34m\u001b[0m\u001b[0m\n",
            "\u001b[0;32m/usr/local/lib/python3.10/dist-packages/torch/serialization.py\u001b[0m in \u001b[0;36m_save\u001b[0;34m(obj, zip_file, pickle_module, pickle_protocol)\u001b[0m\n\u001b[1;32m    667\u001b[0m         \u001b[0mnum_bytes\u001b[0m \u001b[0;34m=\u001b[0m \u001b[0mstorage\u001b[0m\u001b[0;34m.\u001b[0m\u001b[0mnbytes\u001b[0m\u001b[0;34m(\u001b[0m\u001b[0;34m)\u001b[0m\u001b[0;34m\u001b[0m\u001b[0;34m\u001b[0m\u001b[0m\n\u001b[0;32m--> 668\u001b[0;31m         \u001b[0mzip_file\u001b[0m\u001b[0;34m.\u001b[0m\u001b[0mwrite_record\u001b[0m\u001b[0;34m(\u001b[0m\u001b[0mname\u001b[0m\u001b[0;34m,\u001b[0m \u001b[0mstorage\u001b[0m\u001b[0;34m.\u001b[0m\u001b[0mdata_ptr\u001b[0m\u001b[0;34m(\u001b[0m\u001b[0;34m)\u001b[0m\u001b[0;34m,\u001b[0m \u001b[0mnum_bytes\u001b[0m\u001b[0;34m)\u001b[0m\u001b[0;34m\u001b[0m\u001b[0;34m\u001b[0m\u001b[0m\n\u001b[0m\u001b[1;32m    669\u001b[0m \u001b[0;34m\u001b[0m\u001b[0m\n",
            "\u001b[0;31mRuntimeError\u001b[0m: [enforce fail at inline_container.cc:471] . PytorchStreamWriter failed writing file data/230: file write failed",
            "\nDuring handling of the above exception, another exception occurred:\n",
            "\u001b[0;31mRuntimeError\u001b[0m                              Traceback (most recent call last)",
            "\u001b[0;32m<ipython-input-53-50e4fb8c7d90>\u001b[0m in \u001b[0;36m<cell line: 4>\u001b[0;34m()\u001b[0m\n\u001b[1;32m      2\u001b[0m \u001b[0mtrainer\u001b[0m\u001b[0;34m.\u001b[0m\u001b[0margs\u001b[0m\u001b[0;34m.\u001b[0m\u001b[0mlogging_steps\u001b[0m \u001b[0;34m=\u001b[0m \u001b[0;36m100\u001b[0m \u001b[0;31m# down from 100\u001b[0m\u001b[0;34m\u001b[0m\u001b[0;34m\u001b[0m\u001b[0m\n\u001b[1;32m      3\u001b[0m \u001b[0mtrainer\u001b[0m\u001b[0;34m.\u001b[0m\u001b[0margs\u001b[0m\u001b[0;34m.\u001b[0m\u001b[0msave_steps\u001b[0m\u001b[0;34m=\u001b[0m\u001b[0;36m500\u001b[0m \u001b[0;31m# down from 10000\u001b[0m\u001b[0;34m\u001b[0m\u001b[0;34m\u001b[0m\u001b[0m\n\u001b[0;32m----> 4\u001b[0;31m \u001b[0mtrainer\u001b[0m\u001b[0;34m.\u001b[0m\u001b[0mtrain\u001b[0m\u001b[0;34m(\u001b[0m\u001b[0;34m)\u001b[0m \u001b[0;31m# put in checkpoint if need be here to load\u001b[0m\u001b[0;34m\u001b[0m\u001b[0;34m\u001b[0m\u001b[0m\n\u001b[0m\u001b[1;32m      5\u001b[0m \u001b[0;31m#trainer.train(output_dir + 'checkpoint-15000/')\u001b[0m\u001b[0;34m\u001b[0m\u001b[0;34m\u001b[0m\u001b[0m\n",
            "\u001b[0;32m/usr/local/lib/python3.10/dist-packages/transformers/trainer.py\u001b[0m in \u001b[0;36mtrain\u001b[0;34m(self, resume_from_checkpoint, trial, ignore_keys_for_eval, **kwargs)\u001b[0m\n\u001b[1;32m   1660\u001b[0m             \u001b[0mself\u001b[0m\u001b[0;34m.\u001b[0m\u001b[0m_inner_training_loop\u001b[0m\u001b[0;34m,\u001b[0m \u001b[0mself\u001b[0m\u001b[0;34m.\u001b[0m\u001b[0m_train_batch_size\u001b[0m\u001b[0;34m,\u001b[0m \u001b[0margs\u001b[0m\u001b[0;34m.\u001b[0m\u001b[0mauto_find_batch_size\u001b[0m\u001b[0;34m\u001b[0m\u001b[0;34m\u001b[0m\u001b[0m\n\u001b[1;32m   1661\u001b[0m         )\n\u001b[0;32m-> 1662\u001b[0;31m         return inner_training_loop(\n\u001b[0m\u001b[1;32m   1663\u001b[0m             \u001b[0margs\u001b[0m\u001b[0;34m=\u001b[0m\u001b[0margs\u001b[0m\u001b[0;34m,\u001b[0m\u001b[0;34m\u001b[0m\u001b[0;34m\u001b[0m\u001b[0m\n\u001b[1;32m   1664\u001b[0m             \u001b[0mresume_from_checkpoint\u001b[0m\u001b[0;34m=\u001b[0m\u001b[0mresume_from_checkpoint\u001b[0m\u001b[0;34m,\u001b[0m\u001b[0;34m\u001b[0m\u001b[0;34m\u001b[0m\u001b[0m\n",
            "\u001b[0;32m/usr/local/lib/python3.10/dist-packages/transformers/trainer.py\u001b[0m in \u001b[0;36m_inner_training_loop\u001b[0;34m(self, batch_size, args, resume_from_checkpoint, trial, ignore_keys_for_eval)\u001b[0m\n\u001b[1;32m   2004\u001b[0m                     \u001b[0mself\u001b[0m\u001b[0;34m.\u001b[0m\u001b[0mcontrol\u001b[0m \u001b[0;34m=\u001b[0m \u001b[0mself\u001b[0m\u001b[0;34m.\u001b[0m\u001b[0mcallback_handler\u001b[0m\u001b[0;34m.\u001b[0m\u001b[0mon_step_end\u001b[0m\u001b[0;34m(\u001b[0m\u001b[0margs\u001b[0m\u001b[0;34m,\u001b[0m \u001b[0mself\u001b[0m\u001b[0;34m.\u001b[0m\u001b[0mstate\u001b[0m\u001b[0;34m,\u001b[0m \u001b[0mself\u001b[0m\u001b[0;34m.\u001b[0m\u001b[0mcontrol\u001b[0m\u001b[0;34m)\u001b[0m\u001b[0;34m\u001b[0m\u001b[0;34m\u001b[0m\u001b[0m\n\u001b[1;32m   2005\u001b[0m \u001b[0;34m\u001b[0m\u001b[0m\n\u001b[0;32m-> 2006\u001b[0;31m                     \u001b[0mself\u001b[0m\u001b[0;34m.\u001b[0m\u001b[0m_maybe_log_save_evaluate\u001b[0m\u001b[0;34m(\u001b[0m\u001b[0mtr_loss\u001b[0m\u001b[0;34m,\u001b[0m \u001b[0mmodel\u001b[0m\u001b[0;34m,\u001b[0m \u001b[0mtrial\u001b[0m\u001b[0;34m,\u001b[0m \u001b[0mepoch\u001b[0m\u001b[0;34m,\u001b[0m \u001b[0mignore_keys_for_eval\u001b[0m\u001b[0;34m)\u001b[0m\u001b[0;34m\u001b[0m\u001b[0;34m\u001b[0m\u001b[0m\n\u001b[0m\u001b[1;32m   2007\u001b[0m                 \u001b[0;32melse\u001b[0m\u001b[0;34m:\u001b[0m\u001b[0;34m\u001b[0m\u001b[0;34m\u001b[0m\u001b[0m\n\u001b[1;32m   2008\u001b[0m                     \u001b[0mself\u001b[0m\u001b[0;34m.\u001b[0m\u001b[0mcontrol\u001b[0m \u001b[0;34m=\u001b[0m \u001b[0mself\u001b[0m\u001b[0;34m.\u001b[0m\u001b[0mcallback_handler\u001b[0m\u001b[0;34m.\u001b[0m\u001b[0mon_substep_end\u001b[0m\u001b[0;34m(\u001b[0m\u001b[0margs\u001b[0m\u001b[0;34m,\u001b[0m \u001b[0mself\u001b[0m\u001b[0;34m.\u001b[0m\u001b[0mstate\u001b[0m\u001b[0;34m,\u001b[0m \u001b[0mself\u001b[0m\u001b[0;34m.\u001b[0m\u001b[0mcontrol\u001b[0m\u001b[0;34m)\u001b[0m\u001b[0;34m\u001b[0m\u001b[0;34m\u001b[0m\u001b[0m\n",
            "\u001b[0;32m/usr/local/lib/python3.10/dist-packages/transformers/trainer.py\u001b[0m in \u001b[0;36m_maybe_log_save_evaluate\u001b[0;34m(self, tr_loss, model, trial, epoch, ignore_keys_for_eval)\u001b[0m\n\u001b[1;32m   2289\u001b[0m \u001b[0;34m\u001b[0m\u001b[0m\n\u001b[1;32m   2290\u001b[0m         \u001b[0;32mif\u001b[0m \u001b[0mself\u001b[0m\u001b[0;34m.\u001b[0m\u001b[0mcontrol\u001b[0m\u001b[0;34m.\u001b[0m\u001b[0mshould_save\u001b[0m\u001b[0;34m:\u001b[0m\u001b[0;34m\u001b[0m\u001b[0;34m\u001b[0m\u001b[0m\n\u001b[0;32m-> 2291\u001b[0;31m             \u001b[0mself\u001b[0m\u001b[0;34m.\u001b[0m\u001b[0m_save_checkpoint\u001b[0m\u001b[0;34m(\u001b[0m\u001b[0mmodel\u001b[0m\u001b[0;34m,\u001b[0m \u001b[0mtrial\u001b[0m\u001b[0;34m,\u001b[0m \u001b[0mmetrics\u001b[0m\u001b[0;34m=\u001b[0m\u001b[0mmetrics\u001b[0m\u001b[0;34m)\u001b[0m\u001b[0;34m\u001b[0m\u001b[0;34m\u001b[0m\u001b[0m\n\u001b[0m\u001b[1;32m   2292\u001b[0m             \u001b[0mself\u001b[0m\u001b[0;34m.\u001b[0m\u001b[0mcontrol\u001b[0m \u001b[0;34m=\u001b[0m \u001b[0mself\u001b[0m\u001b[0;34m.\u001b[0m\u001b[0mcallback_handler\u001b[0m\u001b[0;34m.\u001b[0m\u001b[0mon_save\u001b[0m\u001b[0;34m(\u001b[0m\u001b[0mself\u001b[0m\u001b[0;34m.\u001b[0m\u001b[0margs\u001b[0m\u001b[0;34m,\u001b[0m \u001b[0mself\u001b[0m\u001b[0;34m.\u001b[0m\u001b[0mstate\u001b[0m\u001b[0;34m,\u001b[0m \u001b[0mself\u001b[0m\u001b[0;34m.\u001b[0m\u001b[0mcontrol\u001b[0m\u001b[0;34m)\u001b[0m\u001b[0;34m\u001b[0m\u001b[0;34m\u001b[0m\u001b[0m\n\u001b[1;32m   2293\u001b[0m \u001b[0;34m\u001b[0m\u001b[0m\n",
            "\u001b[0;32m/usr/local/lib/python3.10/dist-packages/transformers/trainer.py\u001b[0m in \u001b[0;36m_save_checkpoint\u001b[0;34m(self, model, trial, metrics)\u001b[0m\n\u001b[1;32m   2380\u001b[0m         \u001b[0;32melif\u001b[0m \u001b[0mself\u001b[0m\u001b[0;34m.\u001b[0m\u001b[0margs\u001b[0m\u001b[0;34m.\u001b[0m\u001b[0mshould_save\u001b[0m \u001b[0;32mand\u001b[0m \u001b[0;32mnot\u001b[0m \u001b[0mself\u001b[0m\u001b[0;34m.\u001b[0m\u001b[0mdeepspeed\u001b[0m\u001b[0;34m:\u001b[0m\u001b[0;34m\u001b[0m\u001b[0;34m\u001b[0m\u001b[0m\n\u001b[1;32m   2381\u001b[0m             \u001b[0;31m# deepspeed.save_checkpoint above saves model/optim/sched\u001b[0m\u001b[0;34m\u001b[0m\u001b[0;34m\u001b[0m\u001b[0m\n\u001b[0;32m-> 2382\u001b[0;31m             \u001b[0mtorch\u001b[0m\u001b[0;34m.\u001b[0m\u001b[0msave\u001b[0m\u001b[0;34m(\u001b[0m\u001b[0mself\u001b[0m\u001b[0;34m.\u001b[0m\u001b[0moptimizer\u001b[0m\u001b[0;34m.\u001b[0m\u001b[0mstate_dict\u001b[0m\u001b[0;34m(\u001b[0m\u001b[0;34m)\u001b[0m\u001b[0;34m,\u001b[0m \u001b[0mos\u001b[0m\u001b[0;34m.\u001b[0m\u001b[0mpath\u001b[0m\u001b[0;34m.\u001b[0m\u001b[0mjoin\u001b[0m\u001b[0;34m(\u001b[0m\u001b[0moutput_dir\u001b[0m\u001b[0;34m,\u001b[0m \u001b[0mOPTIMIZER_NAME\u001b[0m\u001b[0;34m)\u001b[0m\u001b[0;34m)\u001b[0m\u001b[0;34m\u001b[0m\u001b[0;34m\u001b[0m\u001b[0m\n\u001b[0m\u001b[1;32m   2383\u001b[0m             \u001b[0;32mwith\u001b[0m \u001b[0mwarnings\u001b[0m\u001b[0;34m.\u001b[0m\u001b[0mcatch_warnings\u001b[0m\u001b[0;34m(\u001b[0m\u001b[0mrecord\u001b[0m\u001b[0;34m=\u001b[0m\u001b[0;32mTrue\u001b[0m\u001b[0;34m)\u001b[0m \u001b[0;32mas\u001b[0m \u001b[0mcaught_warnings\u001b[0m\u001b[0;34m:\u001b[0m\u001b[0;34m\u001b[0m\u001b[0;34m\u001b[0m\u001b[0m\n\u001b[1;32m   2384\u001b[0m                 \u001b[0mtorch\u001b[0m\u001b[0;34m.\u001b[0m\u001b[0msave\u001b[0m\u001b[0;34m(\u001b[0m\u001b[0mself\u001b[0m\u001b[0;34m.\u001b[0m\u001b[0mlr_scheduler\u001b[0m\u001b[0;34m.\u001b[0m\u001b[0mstate_dict\u001b[0m\u001b[0;34m(\u001b[0m\u001b[0;34m)\u001b[0m\u001b[0;34m,\u001b[0m \u001b[0mos\u001b[0m\u001b[0;34m.\u001b[0m\u001b[0mpath\u001b[0m\u001b[0;34m.\u001b[0m\u001b[0mjoin\u001b[0m\u001b[0;34m(\u001b[0m\u001b[0moutput_dir\u001b[0m\u001b[0;34m,\u001b[0m \u001b[0mSCHEDULER_NAME\u001b[0m\u001b[0;34m)\u001b[0m\u001b[0;34m)\u001b[0m\u001b[0;34m\u001b[0m\u001b[0;34m\u001b[0m\u001b[0m\n",
            "\u001b[0;32m/usr/local/lib/python3.10/dist-packages/torch/serialization.py\u001b[0m in \u001b[0;36msave\u001b[0;34m(obj, f, pickle_module, pickle_protocol, _use_new_zipfile_serialization)\u001b[0m\n\u001b[1;32m    438\u001b[0m \u001b[0;34m\u001b[0m\u001b[0m\n\u001b[1;32m    439\u001b[0m     \u001b[0;32mif\u001b[0m \u001b[0m_use_new_zipfile_serialization\u001b[0m\u001b[0;34m:\u001b[0m\u001b[0;34m\u001b[0m\u001b[0;34m\u001b[0m\u001b[0m\n\u001b[0;32m--> 440\u001b[0;31m         \u001b[0;32mwith\u001b[0m \u001b[0m_open_zipfile_writer\u001b[0m\u001b[0;34m(\u001b[0m\u001b[0mf\u001b[0m\u001b[0;34m)\u001b[0m \u001b[0;32mas\u001b[0m \u001b[0mopened_zipfile\u001b[0m\u001b[0;34m:\u001b[0m\u001b[0;34m\u001b[0m\u001b[0;34m\u001b[0m\u001b[0m\n\u001b[0m\u001b[1;32m    441\u001b[0m             \u001b[0m_save\u001b[0m\u001b[0;34m(\u001b[0m\u001b[0mobj\u001b[0m\u001b[0;34m,\u001b[0m \u001b[0mopened_zipfile\u001b[0m\u001b[0;34m,\u001b[0m \u001b[0mpickle_module\u001b[0m\u001b[0;34m,\u001b[0m \u001b[0mpickle_protocol\u001b[0m\u001b[0;34m)\u001b[0m\u001b[0;34m\u001b[0m\u001b[0;34m\u001b[0m\u001b[0m\n\u001b[1;32m    442\u001b[0m             \u001b[0;32mreturn\u001b[0m\u001b[0;34m\u001b[0m\u001b[0;34m\u001b[0m\u001b[0m\n",
            "\u001b[0;32m/usr/local/lib/python3.10/dist-packages/torch/serialization.py\u001b[0m in \u001b[0;36m__exit__\u001b[0;34m(self, *args)\u001b[0m\n\u001b[1;32m    289\u001b[0m \u001b[0;34m\u001b[0m\u001b[0m\n\u001b[1;32m    290\u001b[0m     \u001b[0;32mdef\u001b[0m \u001b[0m__exit__\u001b[0m\u001b[0;34m(\u001b[0m\u001b[0mself\u001b[0m\u001b[0;34m,\u001b[0m \u001b[0;34m*\u001b[0m\u001b[0margs\u001b[0m\u001b[0;34m)\u001b[0m \u001b[0;34m->\u001b[0m \u001b[0;32mNone\u001b[0m\u001b[0;34m:\u001b[0m\u001b[0;34m\u001b[0m\u001b[0;34m\u001b[0m\u001b[0m\n\u001b[0;32m--> 291\u001b[0;31m         \u001b[0mself\u001b[0m\u001b[0;34m.\u001b[0m\u001b[0mfile_like\u001b[0m\u001b[0;34m.\u001b[0m\u001b[0mwrite_end_of_file\u001b[0m\u001b[0;34m(\u001b[0m\u001b[0;34m)\u001b[0m\u001b[0;34m\u001b[0m\u001b[0;34m\u001b[0m\u001b[0m\n\u001b[0m\u001b[1;32m    292\u001b[0m \u001b[0;34m\u001b[0m\u001b[0m\n\u001b[1;32m    293\u001b[0m \u001b[0;34m\u001b[0m\u001b[0m\n",
            "\u001b[0;31mRuntimeError\u001b[0m: [enforce fail at inline_container.cc:337] . unexpected pos 1236816832 vs 1236816720"
          ]
        }
      ]
    },
    {
      "cell_type": "code",
      "source": [],
      "metadata": {
        "id": "jwBjpXo-lY-r"
      },
      "execution_count": null,
      "outputs": []
    },
    {
      "cell_type": "code",
      "source": [],
      "metadata": {
        "id": "GeTmNSxK1yWf"
      },
      "execution_count": null,
      "outputs": []
    }
  ]
}