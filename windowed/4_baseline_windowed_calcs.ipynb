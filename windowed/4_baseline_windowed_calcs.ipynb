{
 "cells": [
  {
   "cell_type": "markdown",
   "id": "58ecec81-5956-4843-b237-1c74dc7fd876",
   "metadata": {},
   "source": [
    "Do some calculations for the windowed model."
   ]
  },
  {
   "cell_type": "code",
   "execution_count": 46,
   "id": "17be2dde-1cea-41bc-8d47-f1c445de6fbd",
   "metadata": {
    "tags": []
   },
   "outputs": [],
   "source": [
    "# where are individual predictions stored?\n",
    "predictions_folder = '/Users/jnaiman/Downloads/tmp/ocrpost/eval/predicted/'\n",
    "\n",
    "# which set of test instances to use\n",
    "test_file_dir = '/Users/jnaiman/Dropbox/wwt_image_extraction/OCRPostCorrection/alignments/'\n",
    "#test_file = 'test_file_small_words_pageLevel.csv'\n",
    "test_file = 'test_file_small_words_pageLevel_old.csv'"
   ]
  },
  {
   "cell_type": "code",
   "execution_count": 65,
   "id": "6d2c56bc-67ea-42fa-8597-6bf1342d1a88",
   "metadata": {
    "tags": []
   },
   "outputs": [],
   "source": [
    "from glob import glob\n",
    "import pandas as pd\n",
    "import fastwer\n",
    "import numpy as np\n",
    "import matplotlib.pyplot as plt\n",
    "import pickle\n",
    "import matplotlib"
   ]
  },
  {
   "cell_type": "code",
   "execution_count": 69,
   "id": "4bd34055-78a9-4bcd-9fbf-61c7de38c8c0",
   "metadata": {
    "tags": []
   },
   "outputs": [],
   "source": [
    "def get_iqr(df_byt5_words,col):\n",
    "    colvalue = df_byt5_words[col]\n",
    "    colvalue = colvalue[~np.isnan(colvalue)]\n",
    "    Q3 = np.quantile(colvalue, 0.75)\n",
    "    Q1 = np.quantile(colvalue, 0.25)\n",
    "    IQR = Q3 - Q1\n",
    "    return IQR\n",
    "\n",
    "def get_iqr_by_value(colvalue):\n",
    "    Q3 = np.quantile(colvalue, 0.75)\n",
    "    Q1 = np.quantile(colvalue, 0.25)\n",
    "    IQR = Q3 - Q1\n",
    "    return IQR\n",
    "\n",
    "def get_stats(df_byt5_words,col, round_val = 2, print_nans=False):\n",
    "    colvalue = df_byt5_words[col]\n",
    "    colvalue = colvalue[~np.isnan(colvalue)]\n",
    "    # how many nan's\n",
    "    if print_nans: print('# NaNs =', len(df_byt5_words[col])-len(colvalue))\n",
    "    med = colvalue.median()\n",
    "    mea = colvalue.mean()\n",
    "    std = colvalue.std()\n",
    "    iqr = get_iqr_by_value(colvalue)\n",
    "    return round(mea,round_val), round(med,round_val), round(std,round_val), round(iqr,round_val)\n",
    "\n",
    "def get_improvement_stats(df_byt5_words,col_before, col_after, round_val = 2):\n",
    "    colvalueb = df_byt5_words[col_before]\n",
    "    colvalueb = colvalueb[~np.isnan(colvalueb)]\n",
    "    colvaluea = df_byt5_words[col_after]\n",
    "    colvaluea = colvaluea[~np.isnan(colvaluea)]\n",
    "    mask = colvalueb != 0\n",
    "    colvalue = 100*(1-colvaluea[mask]/colvalueb[mask])\n",
    "    med = colvalue.median()\n",
    "    mea = colvalue.mean()\n",
    "    std = colvalue.std()\n",
    "    iqr = get_iqr_by_value(colvalue)\n",
    "    return round(mea,round_val), round(med,round_val), round(std,round_val), round(iqr,round_val) "
   ]
  },
  {
   "cell_type": "code",
   "execution_count": 49,
   "id": "dd68b904-59e9-4289-bfb0-397fbd98d2ee",
   "metadata": {
    "tags": []
   },
   "outputs": [],
   "source": [
    "test_data = pd.read_csv(test_file_dir+test_file)"
   ]
  },
  {
   "cell_type": "code",
   "execution_count": 50,
   "id": "85e41346-dc9d-4e54-b1aa-302b4af7d635",
   "metadata": {
    "tags": []
   },
   "outputs": [
    {
     "data": {
      "text/html": [
       "<div>\n",
       "<style scoped>\n",
       "    .dataframe tbody tr th:only-of-type {\n",
       "        vertical-align: middle;\n",
       "    }\n",
       "\n",
       "    .dataframe tbody tr th {\n",
       "        vertical-align: top;\n",
       "    }\n",
       "\n",
       "    .dataframe thead th {\n",
       "        text-align: right;\n",
       "    }\n",
       "</style>\n",
       "<table border=\"1\" class=\"dataframe\">\n",
       "  <thead>\n",
       "    <tr style=\"text-align: right;\">\n",
       "      <th></th>\n",
       "      <th>gt</th>\n",
       "      <th>ocr</th>\n",
       "      <th>filename</th>\n",
       "      <th>page</th>\n",
       "      <th>gt_clean</th>\n",
       "      <th>ocr_clean</th>\n",
       "      <th>ocr_align</th>\n",
       "      <th>pdf_align</th>\n",
       "      <th>pdf_align_type</th>\n",
       "    </tr>\n",
       "  </thead>\n",
       "  <tbody>\n",
       "    <tr>\n",
       "      <th>0</th>\n",
       "      <td>across a flare. The light curves in Fig. 6 cle...</td>\n",
       "      <td>across a f@are. The light curves in Fie. 6 cle...</td>\n",
       "      <td>0401_astro-ph0401222d_preprin_psfilefixedRTM_hocr</td>\n",
       "      <td>page6</td>\n",
       "      <td>across a flare. The light curves in Fig. 6 cle...</td>\n",
       "      <td>across a fare. The light curves in Fie. 6 clea...</td>\n",
       "      <td>across a f^are. The light curves in Fie. 6 cle...</td>\n",
       "      <td>across a flare. The light curves in Fig. 6 cle...</td>\n",
       "      <td>WWWWWW W WWWWWW WWW WWWWW WWWWWW WW WWWW W WWW...</td>\n",
       "    </tr>\n",
       "    <tr>\n",
       "      <th>1</th>\n",
       "      <td>We also verified that the non-gray corrections...</td>\n",
       "      <td>We also verified that the non-gray corrections...</td>\n",
       "      <td>1106_1106.6007d_ms_psfilefixedRTM_hocr</td>\n",
       "      <td>page5</td>\n",
       "      <td>We also verified that the non-gray corrections...</td>\n",
       "      <td>We also verified that the non-gray corrections...</td>\n",
       "      <td>We also verified that the non-gray ^^log^^y co...</td>\n",
       "      <td>We also verified that the non-gray $\\log g$ co...</td>\n",
       "      <td>WW WWWW WWWWWWWW WWWW WWW WWWWWWWW IIIIIIII WW...</td>\n",
       "    </tr>\n",
       "    <tr>\n",
       "      <th>2</th>\n",
       "      <td>Figure shows that the lag increases with the l...</td>\n",
       "      <td>Figure shows that the lag increases with the l...</td>\n",
       "      <td>0505_astro-ph0505276d_mnsubm_psfilefixedRTM_hocr</td>\n",
       "      <td>page6</td>\n",
       "      <td>Figure shows that the lag increases with the l...</td>\n",
       "      <td>Figure shows that the lag increases with the l...</td>\n",
       "      <td>Figure ^^^^^^^^^^^^^^5 shows that the lag incr...</td>\n",
       "      <td>Figure \\ref{lag_alpha} shows that the lag incr...</td>\n",
       "      <td>WWWWWW RRRRRRRRRRRRRRR WWWWW WWWW WWW WWW WWWW...</td>\n",
       "    </tr>\n",
       "    <tr>\n",
       "      <th>3</th>\n",
       "      <td>@@@@@.@@ Accurate distances...</td>\n",
       "      <td>2001)... Accurate distances...</td>\n",
       "      <td>0910_0910.5253d_millerjones_v404_paralla_psfil...</td>\n",
       "      <td>page0</td>\n",
       "      <td>. Accurate distances are al...</td>\n",
       "      <td>2001)... Accurate distances...</td>\n",
       "      <td>(Revuoldsetal.2008).. Jouker&amp;Nelemans(2001). ...</td>\n",
       "      <td>\\cit@@@@@ep{Jon04}@.@ \\citep{Rey08}, \\citet{J...</td>\n",
       "      <td>cccccccccccccccccccWW CCCCCCCCCCCCCW CCCCCCCC...</td>\n",
       "    </tr>\n",
       "    <tr>\n",
       "      <th>4</th>\n",
       "      <td>is on a length scale sm@aller than about one f...</td>\n",
       "      <td>is on a leneth scale siualler than about one f...</td>\n",
       "      <td>0408_astro-ph0408115d_haverkorn_aug04_psfilefi...</td>\n",
       "      <td>page10</td>\n",
       "      <td>is on a length scale smaller than about one fi...</td>\n",
       "      <td>is on a leneth scale siualler than about one f...</td>\n",
       "      <td>is on a leneth scale siualler than about one f...</td>\n",
       "      <td>is on a length scale sm@aller than about one f...</td>\n",
       "      <td>WW WW W WWWWWW WWWWW WWWWWWWW WWWW WWWWW WWW W...</td>\n",
       "    </tr>\n",
       "  </tbody>\n",
       "</table>\n",
       "</div>"
      ],
      "text/plain": [
       "                                                  gt   \n",
       "0  across a flare. The light curves in Fig. 6 cle...  \\\n",
       "1  We also verified that the non-gray corrections...   \n",
       "2  Figure shows that the lag increases with the l...   \n",
       "3                     @@@@@.@@ Accurate distances...   \n",
       "4  is on a length scale sm@aller than about one f...   \n",
       "\n",
       "                                                 ocr   \n",
       "0  across a f@are. The light curves in Fie. 6 cle...  \\\n",
       "1  We also verified that the non-gray corrections...   \n",
       "2  Figure shows that the lag increases with the l...   \n",
       "3                     2001)... Accurate distances...   \n",
       "4  is on a leneth scale siualler than about one f...   \n",
       "\n",
       "                                            filename    page   \n",
       "0  0401_astro-ph0401222d_preprin_psfilefixedRTM_hocr   page6  \\\n",
       "1             1106_1106.6007d_ms_psfilefixedRTM_hocr   page5   \n",
       "2   0505_astro-ph0505276d_mnsubm_psfilefixedRTM_hocr   page6   \n",
       "3  0910_0910.5253d_millerjones_v404_paralla_psfil...   page0   \n",
       "4  0408_astro-ph0408115d_haverkorn_aug04_psfilefi...  page10   \n",
       "\n",
       "                                            gt_clean   \n",
       "0  across a flare. The light curves in Fig. 6 cle...  \\\n",
       "1  We also verified that the non-gray corrections...   \n",
       "2  Figure shows that the lag increases with the l...   \n",
       "3                     . Accurate distances are al...   \n",
       "4  is on a length scale smaller than about one fi...   \n",
       "\n",
       "                                           ocr_clean   \n",
       "0  across a fare. The light curves in Fie. 6 clea...  \\\n",
       "1  We also verified that the non-gray corrections...   \n",
       "2  Figure shows that the lag increases with the l...   \n",
       "3                     2001)... Accurate distances...   \n",
       "4  is on a leneth scale siualler than about one f...   \n",
       "\n",
       "                                           ocr_align   \n",
       "0  across a f^are. The light curves in Fie. 6 cle...  \\\n",
       "1  We also verified that the non-gray ^^log^^y co...   \n",
       "2  Figure ^^^^^^^^^^^^^^5 shows that the lag incr...   \n",
       "3   (Revuoldsetal.2008).. Jouker&Nelemans(2001). ...   \n",
       "4  is on a leneth scale siualler than about one f...   \n",
       "\n",
       "                                           pdf_align   \n",
       "0  across a flare. The light curves in Fig. 6 cle...  \\\n",
       "1  We also verified that the non-gray $\\log g$ co...   \n",
       "2  Figure \\ref{lag_alpha} shows that the lag incr...   \n",
       "3   \\cit@@@@@ep{Jon04}@.@ \\citep{Rey08}, \\citet{J...   \n",
       "4  is on a length scale sm@aller than about one f...   \n",
       "\n",
       "                                      pdf_align_type  \n",
       "0  WWWWWW W WWWWWW WWW WWWWW WWWWWW WW WWWW W WWW...  \n",
       "1  WW WWWW WWWWWWWW WWWW WWW WWWWWWWW IIIIIIII WW...  \n",
       "2  WWWWWW RRRRRRRRRRRRRRR WWWWW WWWW WWW WWW WWWW...  \n",
       "3   cccccccccccccccccccWW CCCCCCCCCCCCCW CCCCCCCC...  \n",
       "4  WW WW W WWWWWW WWWWW WWWWWWWW WWWW WWWWW WWW W...  "
      ]
     },
     "execution_count": 50,
     "metadata": {},
     "output_type": "execute_result"
    }
   ],
   "source": [
    "test_data.head()"
   ]
  },
  {
   "cell_type": "code",
   "execution_count": 51,
   "id": "f7d9628a-4b9f-4248-aa5f-092177a2aa10",
   "metadata": {
    "tags": []
   },
   "outputs": [],
   "source": [
    "cer_orig = []; wer_orig = []\n",
    "for i in range(len(test_data)):\n",
    "    d = test_data.iloc[i]\n",
    "    ocr = d['ocr_clean']\n",
    "    pdf = d['gt_clean']\n",
    "    if pd.isnull(ocr) or pd.isnull(pdf):\n",
    "        cer_orig.append(np.nan)\n",
    "        wer_orig.append(np.nan)\n",
    "        continue\n",
    "        \n",
    "    ocr = str(ocr); pdf = str(pdf)\n",
    "    cer = fastwer.score_sent(ocr,pdf,char_level=True)\n",
    "    wer = fastwer.score_sent(ocr,pdf,char_level=False)\n",
    "    \n",
    "    cer_orig.append(cer)\n",
    "    wer_orig.append(wer)  \n",
    "test_data['CER Orig'] = cer_orig\n",
    "test_data['WER Orig'] = wer_orig"
   ]
  },
  {
   "cell_type": "code",
   "execution_count": 81,
   "id": "a4076712-aeb2-4733-9e80-612fdc9ad702",
   "metadata": {
    "tags": []
   },
   "outputs": [
    {
     "data": {
      "text/plain": [
       "['/Users/jnaiman/Downloads/tmp/ocrpost/eval/predicted/distjoint_greedy2.pickle',\n",
       " '/Users/jnaiman/Downloads/tmp/ocrpost/eval/predicted/distjoint_greedy1.pickle']"
      ]
     },
     "execution_count": 81,
     "metadata": {},
     "output_type": "execute_result"
    }
   ],
   "source": [
    "pfiles = glob(predictions_folder + '*.pickle')\n",
    "pfiles"
   ]
  },
  {
   "cell_type": "code",
   "execution_count": null,
   "id": "c9172607-35fc-4c70-8545-8ba704fa1a27",
   "metadata": {
    "tags": []
   },
   "outputs": [
    {
     "name": "stdout",
     "output_type": "stream",
     "text": [
      "on distjoint_greedy2\n"
     ]
    }
   ],
   "source": [
    "# get all dealies\n",
    "for pf in pfiles:\n",
    "    pfn = pf.split('/')[-1].split('.pickle')[0]\n",
    "    with open(pf,'rb') as f:\n",
    "        corrections,raw = pickle.load(f)\n",
    "    if len(corrections) != len(test_data):\n",
    "        print('not correct number of outputs!')\n",
    "        import sys; sys.exit()\n",
    "                \n",
    "    print('on', pfn)\n",
    "    cer_orig = []; wer_orig = []\n",
    "    for i in range(len(test_data)):\n",
    "        d = test_data.iloc[i]\n",
    "        #ocr = d['ocr_clean']\n",
    "        ocr = corrections[i].replace('@','') # 'fixed' ocr\n",
    "        pdf = d['gt_clean']\n",
    "        if pd.isnull(ocr) or pd.isnull(pdf):\n",
    "            cer_orig.append(np.nan)\n",
    "            wer_orig.append(np.nan)\n",
    "            continue\n",
    "\n",
    "        ocr = str(ocr); pdf = str(pdf)\n",
    "        cer = fastwer.score_sent(ocr,pdf,char_level=True)\n",
    "        wer = fastwer.score_sent(ocr,pdf,char_level=False)\n",
    "        cer_orig.append(cer)\n",
    "        wer_orig.append(wer)\n",
    "    test_data['CER ' + pfn] = cer_orig\n",
    "    test_data['WER ' + pfn] = cer_orig\n",
    "print('all done!')"
   ]
  },
  {
   "cell_type": "code",
   "execution_count": null,
   "id": "bec49d19-2a32-4347-af17-8130e7dc85c5",
   "metadata": {
    "tags": []
   },
   "outputs": [],
   "source": [
    "fig, ax = plt.subplots(1,len(pfiles),figsize=(5,5*len(pfiles)))\n",
    "if type(ax) == matplotlib.axes._axes.Axes:\n",
    "    ax = [ax]\n",
    "\n",
    "for ip,pf in enumerate(pfiles):\n",
    "    pfn = pf.split('/')[-1].split('.pickle')[0]\n",
    "    ax[ip].plot(test_data['CER Orig'], test_data['CER ' + pfn], 'o')\n",
    "    ax[ip].plot([test_data['CER Orig'].min(),test_data['CER Orig'].max()],[test_data['CER Orig'].min(),test_data['CER Orig'].max()], color='orange')"
   ]
  },
  {
   "cell_type": "code",
   "execution_count": null,
   "id": "44a2ee04-515b-4100-b872-5074db80f7ca",
   "metadata": {
    "tags": []
   },
   "outputs": [],
   "source": [
    "for ip,pf in enumerate(pfiles):\n",
    "    pfn = pf.split('/')[-1].split('.pickle')[0]\n",
    "    before = 'Orig'\n",
    "    after = pfn\n",
    "    print('********************', pfn, '*********************')\n",
    "\n",
    "    print('--------- Before -------------')\n",
    "    mea_cbefore,med_cbefore,std_cbefore,iqr_cbefore = get_stats(test_data,'CER '+before, print_nans=True)\n",
    "    print('CER : mean =', mea_cbefore, ', std =', std_cbefore, ', median =',med_cbefore, ', iqr =', iqr_cbefore)\n",
    "    mea_wbefore,med_wbefore,std_wbefore,iqr_wbefore = get_stats(test_data,'WER '+before)\n",
    "    print('WER : mean =', mea_wbefore, ', std =', std_wbefore, ', median =',med_wbefore, ', iqr =', iqr_wbefore)\n",
    "    print('')\n",
    "    print('--------- After -------------')\n",
    "    mea_cafter,med_cafter,std_cafter,iqr_cafter = get_stats(test_data,'CER '+after)\n",
    "    print('CER : mean =', mea_cafter, ', std =', std_cafter, ', median =',med_cafter, ', iqr =', iqr_cafter)\n",
    "    mea_wafter,med_wafter,std_wafter,iqr_wafter = get_stats(test_data,'WER '+after)\n",
    "    print('WER : mean =', mea_wafter, ', std =', std_wafter, ', median =',med_wafter, ', iqr =', iqr_wafter)\n",
    "    print('')\n",
    "    # improvement\n",
    "    #improvement = lambda df: 100 * (1 - df.cer_after / df.cer_before)\n",
    "    mea_c,med_c,std_c,iqr_c = get_improvement_stats(test_data,'CER '+before, 'CER '+after)\n",
    "    print('------------ Improvement ----------------')\n",
    "    print('CER : mean = ', mea_c, ', std =', std_c, ', median =',med_c, ', iqr =', iqr_c)\n",
    "    mea_w,med_w,std_w,iqr_w = get_improvement_stats(test_data,'WER '+before, 'WER '+after)\n",
    "    print('WER : mean = ', mea_w, ', std =', std_w, ', median =',med_w, ', iqr =', iqr_w)\n",
    "    print('')\n",
    "    print('')"
   ]
  },
  {
   "cell_type": "code",
   "execution_count": null,
   "id": "e78060c3-41d2-4395-882d-49ad82af041b",
   "metadata": {},
   "outputs": [],
   "source": []
  }
 ],
 "metadata": {
  "kernelspec": {
   "display_name": "Python 3 (ipykernel)",
   "language": "python",
   "name": "python3"
  },
  "language_info": {
   "codemirror_mode": {
    "name": "ipython",
    "version": 3
   },
   "file_extension": ".py",
   "mimetype": "text/x-python",
   "name": "python",
   "nbconvert_exporter": "python",
   "pygments_lexer": "ipython3",
   "version": "3.9.16"
  }
 },
 "nbformat": 4,
 "nbformat_minor": 5
}
