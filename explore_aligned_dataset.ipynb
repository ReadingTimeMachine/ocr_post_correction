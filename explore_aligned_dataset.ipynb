{
 "cells": [
  {
   "cell_type": "markdown",
   "id": "8b92419f-3aa7-4695-8ec7-1328dd4bfc91",
   "metadata": {},
   "source": [
    "# Explore aligned data\n",
    "\n",
    "Once aligned data is [downloaded from Zenodo](), one can explore the dataframes here."
   ]
  },
  {
   "cell_type": "code",
   "execution_count": 2,
   "id": "8910d031-a787-43bc-9ad5-b36c34c0878e",
   "metadata": {
    "tags": []
   },
   "outputs": [],
   "source": [
    "# where is data downloaded?\n",
    "data_download_dir = '/Users/jnaiman/Dropbox/wwt_image_extraction/OCRPostCorrection/alignments/'"
   ]
  },
  {
   "cell_type": "code",
   "execution_count": 26,
   "id": "4f43e4a6-5987-4a4f-a670-c199d1354e7f",
   "metadata": {
    "tags": []
   },
   "outputs": [],
   "source": [
    "import pandas as pd\n",
    "from IPython.display import display, Latex\n",
    "\n",
    "# debug\n",
    "from importlib import reload\n",
    "import utils\n",
    "reload(utils)\n",
    "\n",
    "from utils import select_wordtype"
   ]
  },
  {
   "cell_type": "code",
   "execution_count": 4,
   "id": "92e286b8-b536-4924-9e27-625e7ce2627c",
   "metadata": {
    "tags": []
   },
   "outputs": [],
   "source": [
    "test = pd.read_csv(data_download_dir + 'test_masked_n10000_20230503.csv')"
   ]
  },
  {
   "cell_type": "code",
   "execution_count": 5,
   "id": "e21ed880-9dd3-40ed-9be4-98ce9a67eb24",
   "metadata": {
    "tags": []
   },
   "outputs": [
    {
     "data": {
      "text/html": [
       "<div>\n",
       "<style scoped>\n",
       "    .dataframe tbody tr th:only-of-type {\n",
       "        vertical-align: middle;\n",
       "    }\n",
       "\n",
       "    .dataframe tbody tr th {\n",
       "        vertical-align: top;\n",
       "    }\n",
       "\n",
       "    .dataframe thead th {\n",
       "        text-align: right;\n",
       "    }\n",
       "</style>\n",
       "<table border=\"1\" class=\"dataframe\">\n",
       "  <thead>\n",
       "    <tr style=\"text-align: right;\">\n",
       "      <th></th>\n",
       "      <th>aligned sentences source</th>\n",
       "      <th>aligned sentences target</th>\n",
       "      <th>sentences source</th>\n",
       "      <th>sentences target</th>\n",
       "      <th>aligned sentences source types</th>\n",
       "      <th>aligned sentences target types</th>\n",
       "      <th>sentences source types</th>\n",
       "      <th>sentences target types</th>\n",
       "    </tr>\n",
       "  </thead>\n",
       "  <tbody>\n",
       "    <tr>\n",
       "      <th>0</th>\n",
       "      <td>A histogram of the ^^^^^^^Va^^^ /slope for dw...</td>\n",
       "      <td>A histogram of the $_{\\rm max}$ /slope for dw...</td>\n",
       "      <td>A histogram of the Va /slope for dwarf irregu...</td>\n",
       "      <td>A histogram of the $_{\\rm max}$ /slope for dw...</td>\n",
       "      <td>W WWWWWWWWW WW WWW ^^^^^^^II^^^ WWWWWW WWW WW...</td>\n",
       "      <td>W WWWWWWWWW WW WWW IIIIIIIIIIII WWWWWW WWW WW...</td>\n",
       "      <td>W WWWWWWWWW WW WWW II WWWWWW WWW WWWWW WWWWWW...</td>\n",
       "      <td>W WWWWWWWWW WW WWW IIIIIIIIIIII WWWWWW WWW WW...</td>\n",
       "    </tr>\n",
       "    <tr>\n",
       "      <th>1</th>\n",
       "      <td>Observations were carried out. using ^^a log ...</td>\n",
       "      <td>Observations were carried out@ using – a log ...</td>\n",
       "      <td>Observations were carried out. using a log of...</td>\n",
       "      <td>Observations were carried out using – a log o...</td>\n",
       "      <td>WWWWWWWWWWWW WWWW WWWWWWW WWWW WWWWW ^^W WWW ...</td>\n",
       "      <td>WWWWWWWWWWWW WWWW WWWWWWW WWW@ WWWWW W W WWW ...</td>\n",
       "      <td>WWWWWWWWWWWW WWWW WWWWWWW WWWW WWWWW W WWW WW...</td>\n",
       "      <td>WWWWWWWWWWWW WWWW WWWWWWW WWW WWWWW W W WWW W...</td>\n",
       "    </tr>\n",
       "    <tr>\n",
       "      <th>2</th>\n",
       "      <td>Compared to a smooth polynomial. the flat fie...</td>\n",
       "      <td>Compared to a smooth polynomial, the flat fie...</td>\n",
       "      <td>Compared to a smooth polynomial. the flat fie...</td>\n",
       "      <td>Compared to a smooth polynomial, the flat fie...</td>\n",
       "      <td>WWWWWWWW WW W WWWWWW WWWWWWWWWWW WWW WWWW WWW...</td>\n",
       "      <td>WWWWWWWW WW W WWWWWW WWWWWWWWWWW WWW WWWW WWW...</td>\n",
       "      <td>WWWWWWWW WW W WWWWWW WWWWWWWWWWW WWW WWWW WWW...</td>\n",
       "      <td>WWWWWWWW WW W WWWWWW WWWWWWWWWWW WWW WWWW WWW...</td>\n",
       "    </tr>\n",
       "    <tr>\n",
       "      <th>3</th>\n",
       "      <td>2006) confirmed. lis scenario.</td>\n",
       "      <td>2006) confirmed this scenario.</td>\n",
       "      <td>2006) confirmed. lis scenario.</td>\n",
       "      <td>2006) confirmed this scenario.</td>\n",
       "      <td>WWWWW WWWWWWWWWW WWW WWWWWWWWW</td>\n",
       "      <td>WWWWW WWWWWWWWW WWWW WWWWWWWWW</td>\n",
       "      <td>WWWWW WWWWWWWWWW WWW WWWWWWWWW</td>\n",
       "      <td>WWWWW WWWWWWWWW WWWW WWWWWWWWW</td>\n",
       "    </tr>\n",
       "    <tr>\n",
       "      <th>4</th>\n",
       "      <td>Thus. slieht differences in ihe ^^^©C'a ^^^^v...</td>\n",
       "      <td>Thus, slight differences in the $\\Sigma Ca$ v...</td>\n",
       "      <td>Thus. slieht differences in ihe ©C'a value of...</td>\n",
       "      <td>Thus, slight differences in the $\\Sigma Ca$ v...</td>\n",
       "      <td>WWWWW WWWWWW WWWWWWWWWWW WW WWW ^^^IIIII^^^^W...</td>\n",
       "      <td>WWWWW WWWWWW WWWWWWWWWWW WW WWW IIIIIIIIIII W...</td>\n",
       "      <td>WWWWW WWWWWW WWWWWWWWWWW WW WWW IIIIIWWWWW WW...</td>\n",
       "      <td>WWWWW WWWWWW WWWWWWWWWWW WW WWW IIIIIIIIIII W...</td>\n",
       "    </tr>\n",
       "  </tbody>\n",
       "</table>\n",
       "</div>"
      ],
      "text/plain": [
       "                            aligned sentences source   \n",
       "0   A histogram of the ^^^^^^^Va^^^ /slope for dw...  \\\n",
       "1   Observations were carried out. using ^^a log ...   \n",
       "2   Compared to a smooth polynomial. the flat fie...   \n",
       "3                     2006) confirmed. lis scenario.   \n",
       "4   Thus. slieht differences in ihe ^^^©C'a ^^^^v...   \n",
       "\n",
       "                            aligned sentences target   \n",
       "0   A histogram of the $_{\\rm max}$ /slope for dw...  \\\n",
       "1   Observations were carried out@ using – a log ...   \n",
       "2   Compared to a smooth polynomial, the flat fie...   \n",
       "3                     2006) confirmed this scenario.   \n",
       "4   Thus, slight differences in the $\\Sigma Ca$ v...   \n",
       "\n",
       "                                    sentences source   \n",
       "0   A histogram of the Va /slope for dwarf irregu...  \\\n",
       "1   Observations were carried out. using a log of...   \n",
       "2   Compared to a smooth polynomial. the flat fie...   \n",
       "3                     2006) confirmed. lis scenario.   \n",
       "4   Thus. slieht differences in ihe ©C'a value of...   \n",
       "\n",
       "                                    sentences target   \n",
       "0   A histogram of the $_{\\rm max}$ /slope for dw...  \\\n",
       "1   Observations were carried out using – a log o...   \n",
       "2   Compared to a smooth polynomial, the flat fie...   \n",
       "3                     2006) confirmed this scenario.   \n",
       "4   Thus, slight differences in the $\\Sigma Ca$ v...   \n",
       "\n",
       "                      aligned sentences source types   \n",
       "0   W WWWWWWWWW WW WWW ^^^^^^^II^^^ WWWWWW WWW WW...  \\\n",
       "1   WWWWWWWWWWWW WWWW WWWWWWW WWWW WWWWW ^^W WWW ...   \n",
       "2   WWWWWWWW WW W WWWWWW WWWWWWWWWWW WWW WWWW WWW...   \n",
       "3                     WWWWW WWWWWWWWWW WWW WWWWWWWWW   \n",
       "4   WWWWW WWWWWW WWWWWWWWWWW WW WWW ^^^IIIII^^^^W...   \n",
       "\n",
       "                      aligned sentences target types   \n",
       "0   W WWWWWWWWW WW WWW IIIIIIIIIIII WWWWWW WWW WW...  \\\n",
       "1   WWWWWWWWWWWW WWWW WWWWWWW WWW@ WWWWW W W WWW ...   \n",
       "2   WWWWWWWW WW W WWWWWW WWWWWWWWWWW WWW WWWW WWW...   \n",
       "3                     WWWWW WWWWWWWWW WWWW WWWWWWWWW   \n",
       "4   WWWWW WWWWWW WWWWWWWWWWW WW WWW IIIIIIIIIII W...   \n",
       "\n",
       "                              sentences source types   \n",
       "0   W WWWWWWWWW WW WWW II WWWWWW WWW WWWWW WWWWWW...  \\\n",
       "1   WWWWWWWWWWWW WWWW WWWWWWW WWWW WWWWW W WWW WW...   \n",
       "2   WWWWWWWW WW W WWWWWW WWWWWWWWWWW WWW WWWW WWW...   \n",
       "3                     WWWWW WWWWWWWWWW WWW WWWWWWWWW   \n",
       "4   WWWWW WWWWWW WWWWWWWWWWW WW WWW IIIIIWWWWW WW...   \n",
       "\n",
       "                              sentences target types  \n",
       "0   W WWWWWWWWW WW WWW IIIIIIIIIIII WWWWWW WWW WW...  \n",
       "1   WWWWWWWWWWWW WWWW WWWWWWW WWW WWWWW W W WWW W...  \n",
       "2   WWWWWWWW WW W WWWWWW WWWWWWWWWWW WWW WWWW WWW...  \n",
       "3                     WWWWW WWWWWWWWW WWWW WWWWWWWWW  \n",
       "4   WWWWW WWWWWW WWWWWWWWWWW WW WWW IIIIIIIIIII W...  "
      ]
     },
     "execution_count": 5,
     "metadata": {},
     "output_type": "execute_result"
    }
   ],
   "source": [
    "test.head()"
   ]
  },
  {
   "cell_type": "markdown",
   "id": "3c068149-067a-4ca8-b953-d84f2937aa6b",
   "metadata": {},
   "source": [
    "\"Raw\" source (OCR) and target (synthetic ground truth, SGT) sentences are stored in `sentences source` and `sentences target`:"
   ]
  },
  {
   "cell_type": "code",
   "execution_count": 12,
   "id": "2d7f157d-c3d8-47ba-b029-ae262964ba9f",
   "metadata": {
    "tags": []
   },
   "outputs": [
    {
     "name": "stdout",
     "output_type": "stream",
     "text": [
      "OCR :   Thus. slieht differences in ihe ©C'a value of one of them could change the derived W\" significantly.\n",
      "SGT :   Thus, slight differences in the $\\Sigma Ca$ value of one of them could change the derived $W'$ significantly.\n"
     ]
    }
   ],
   "source": [
    "i = 4\n",
    "print('OCR : ', test.iloc[i]['sentences source'])\n",
    "print('SGT : ', test.iloc[i]['sentences target'])"
   ]
  },
  {
   "cell_type": "markdown",
   "id": "679412f9-472e-45cd-a3ff-9f9cb9a785b9",
   "metadata": {},
   "source": [
    "The SGT instances contain the LaTeX formatting needed to display math formulas, for example:"
   ]
  },
  {
   "cell_type": "code",
   "execution_count": 15,
   "id": "a1762a60-15b7-4cb4-a2b4-cc27f4130437",
   "metadata": {
    "tags": []
   },
   "outputs": [
    {
     "data": {
      "text/latex": [
       " Thus, slight differences in the $\\Sigma Ca$ value of one of them could change the derived $W'$ significantly."
      ],
      "text/plain": [
       "<IPython.core.display.Latex object>"
      ]
     },
     "metadata": {},
     "output_type": "display_data"
    }
   ],
   "source": [
    "display(Latex(f''+str(test.iloc[i]['sentences target'])))"
   ]
  },
  {
   "cell_type": "markdown",
   "id": "6697dfe4-f066-47a9-b7fc-bcfc67be7042",
   "metadata": {},
   "source": [
    "Also provided are sentences which have been aligned using the [Levenshtein edit distance Python package](https://github.com/maxbachmann/Levenshtein):"
   ]
  },
  {
   "cell_type": "code",
   "execution_count": 16,
   "id": "e4c23b3a-4523-496c-a24b-13a3fc7c39e5",
   "metadata": {
    "tags": []
   },
   "outputs": [
    {
     "name": "stdout",
     "output_type": "stream",
     "text": [
      "OCR :   Thus. slieht differences in ihe ^^^©C'a ^^^^value of one of them could change the derived ^W^\" significantly.\n",
      "SGT :   Thus, slight differences in the $\\Sigma Ca$ value of one of them could change the derived $W'$ significantly.\n"
     ]
    }
   ],
   "source": [
    "print('OCR : ', test.iloc[i]['aligned sentences source'])\n",
    "print('SGT : ', test.iloc[i]['aligned sentences target'])"
   ]
  },
  {
   "cell_type": "markdown",
   "id": "85327f0d-b499-4df0-98c2-2275482e1eee",
   "metadata": {},
   "source": [
    "Here, insertions in the OCR are marked with \"^\" characters and deletions in the OCR are marked as \"@\" in the *SGT* sentences, for example:"
   ]
  },
  {
   "cell_type": "code",
   "execution_count": 21,
   "id": "8b3ab323-96e4-4603-b5ff-6ba456cc672a",
   "metadata": {
    "tags": []
   },
   "outputs": [
    {
     "name": "stdout",
     "output_type": "stream",
     "text": [
      "OCR :   Taken as a whole. Figure ^^^^^^^^^^5. is evidence for a similar PAIL size distribution in spirals. AGN. clwarls. and HH II regions.\n",
      "SGT :   Taken as a whole, Figure \\ref{smith1} is evidence for a similar PAH@ size distribution in spirals, AGN, d@warfs, and H@ II regions.\n"
     ]
    }
   ],
   "source": [
    "i2 = 9\n",
    "print('OCR : ', test.iloc[i2]['aligned sentences source'])\n",
    "print('SGT : ', test.iloc[i2]['aligned sentences target'])"
   ]
  },
  {
   "cell_type": "markdown",
   "id": "0aa951a2-48b9-4b62-ad4e-0441bac93092",
   "metadata": {},
   "source": [
    "## Sentence types\n",
    "\n",
    "Additionally, each \"type\" of character is denoted in each sentence.  For example:"
   ]
  },
  {
   "cell_type": "code",
   "execution_count": 23,
   "id": "7e000ce4-31da-4d35-b25b-64955dbe5812",
   "metadata": {
    "tags": []
   },
   "outputs": [
    {
     "data": {
      "text/plain": [
       "' WWWWW WWWWWW WWWWWWWWWWW WW WWW IIIIIIIIIII WWWWW WW WWW WW WWWW WWWWW WWWWWW WWW WWWWWWW IIII WWWWWWWWWWWWWW'"
      ]
     },
     "execution_count": 23,
     "metadata": {},
     "output_type": "execute_result"
    }
   ],
   "source": [
    "test.iloc[i]['sentences target types']"
   ]
  },
  {
   "cell_type": "markdown",
   "id": "956c096c-7ff7-40ba-b899-3527a4715d11",
   "metadata": {},
   "source": [
    "Here, `W` means a word character and `I` means an inline character."
   ]
  },
  {
   "cell_type": "markdown",
   "id": "239cca4a-d23b-4c71-9231-64ba2a6a00f1",
   "metadata": {},
   "source": [
    "If we are not sure what a character means here, we can check with `select_wordtype`: "
   ]
  },
  {
   "cell_type": "code",
   "execution_count": 24,
   "id": "c316cb69-6001-49a4-9974-ddf31cd3ef0d",
   "metadata": {
    "tags": []
   },
   "outputs": [
    {
     "data": {
      "text/plain": [
       "[' ', 'W', 'W', 'W', 'W']"
      ]
     },
     "execution_count": 24,
     "metadata": {},
     "output_type": "execute_result"
    }
   ],
   "source": [
    "char_list = list(test.iloc[i]['sentences target types'])\n",
    "char_list[:5]"
   ]
  },
  {
   "cell_type": "code",
   "execution_count": 28,
   "id": "7b0347eb-681a-4c01-bf89-ed44105b01f5",
   "metadata": {
    "tags": []
   },
   "outputs": [],
   "source": [
    "count_types = {}\n",
    "for c in char_list:\n",
    "    t = select_wordtype(c)\n",
    "    # don't count spaces\n",
    "    if t != ' ':\n",
    "        if t in count_types:\n",
    "            count_types[t] += 1\n",
    "        else:\n",
    "            count_types[t] = 1"
   ]
  },
  {
   "cell_type": "code",
   "execution_count": 29,
   "id": "21c5518c-315b-4f9d-a78b-bb00ca0ab358",
   "metadata": {
    "tags": []
   },
   "outputs": [
    {
     "data": {
      "text/plain": [
       "{'word': 78, 'inline': 15}"
      ]
     },
     "execution_count": 29,
     "metadata": {},
     "output_type": "execute_result"
    }
   ],
   "source": [
    "count_types"
   ]
  },
  {
   "cell_type": "markdown",
   "id": "cb5d35b2-5dea-40ea-891f-8447dc5b799b",
   "metadata": {},
   "source": [
    "After alignment with OCR, we can use these SGT tags to then back-track out what the OCR character tags are:"
   ]
  },
  {
   "cell_type": "code",
   "execution_count": 30,
   "id": "cbdb8523-06e0-4ac6-ad51-d7f09c11d365",
   "metadata": {
    "tags": []
   },
   "outputs": [
    {
     "data": {
      "text/plain": [
       "' WWWWW WWWWWW WWWWWWWWWWW WW WWW IIIIIWWWWW WW WWW WW WWWW WWWWW WWWWWW WWW WWWWWWW IW WWWWWWWWWWWWWW'"
      ]
     },
     "execution_count": 30,
     "metadata": {},
     "output_type": "execute_result"
    }
   ],
   "source": [
    "test.iloc[i]['sentences source types']"
   ]
  },
  {
   "cell_type": "markdown",
   "id": "2eac913e-3fd6-4711-ada1-37867f71706e",
   "metadata": {},
   "source": [
    "We can also use these tags to find different kinds of words.  For example, let's look for hyphenated things:"
   ]
  },
  {
   "cell_type": "code",
   "execution_count": 54,
   "id": "f1f154e5-51a2-4533-bbf4-80bd11cde9a9",
   "metadata": {
    "tags": []
   },
   "outputs": [
    {
     "name": "stdout",
     "output_type": "stream",
     "text": [
      "word type: hyp-word char= w\n",
      "OCR   :   When the mass of such a shell reaches some critical value (presumably of the order of 0.1. )) the shell can become unstable in respect to recombining into the \"iron group elements (specifically intoNi) to supply the stalled shock wave with the energy of =10\" erg necessary to trigger the supernova.\n",
      "SGT   :   When the mass of such a shell reaches some critical value (presumably of the order of $\\approx$ ) the shell can become unstable in respect to recombining into the ”iron group\" elements (specifically into }) to supply the stalled shock wave with the energy of $\\approx 10^{51}$ erg necessary to trigger the supernova.\n",
      "types :   WWWW WWW WWWW WW WWWW W WWWWW WWWWWWW WWWW WWWWWWWW WWWWW WWWWWWWWWWW WW WWW WWWWW WW IIIIIIIII W WWW WWWWW WWW WWWWWW WWWWWWWW WW WWWWWWW WW WWWWWWWWWWW WWWW WWW WWWWW WWWWWW WWWWWWWW WWWWWWWWWWWWW WWWW wW WW WWWWWW WWW WWWWWWW WWWWW WWWW WWWW WWW WWWWWW WW IIIIIIIIIIIIIIIII WWW WWWWWWWWW WW WWWWWWW WWW WWWWWWWWWW\n",
      "\n",
      "word type: hyp-cite char= c\n",
      "OCR   :  . Current theory proposes a top-leavy initial mass function CALIF) for the first stars. with a characteristic mass M.z100AL. (AbelYoshidaetal. 2008).\n",
      "SGT   :   Current theory proposes a top-heavy initial mass function (IMF) for the first stars, with a characteristic mass $M_{*}\\ga 100~M_{\\odot}$ \\citep{abn02,bcl02,on07,yoh08}.\n",
      "types :   WWWWWWW WWWWWW WWWWWWWW W WWWWWWWWW WWWWWWW WWWW WWWWWWWW WWWWW WWW WWW WWWWW WWWWWW WWWW W WWWWWWWWWWWWWW WWWW IIIIIIIIIIIIIIIIIIIIIIII ccccccccccccccccccccccccccccccW\n",
      "\n",
      "word type: hyp-word char= w\n",
      "OCR   :   The observational picture as to whether the mpy0 relation evolves remains unclear (κος ο for a discussion). so for the current work we retain the evolving assumption.\n",
      "SGT   :   The observational picture as to whether the $m_{\\rm{BH}}-\\sigma$ relation evolves remains unclear (see \\citealt{Croton2006b} for a discussion), so for the current work we retain the non-evolving assumption.\n",
      "types :   WWW WWWWWWWWWWWWW WWWWWWW WW WW WWWWWWW WWW IIIIIIIIIIIIIIIIIIII WWWWWWWW WWWWWWW WWWWWWW WWWWWWW WWWW CCCCCCCCCCCCCCCCCCCCC WWW W WWWWWWWWWWWW WW WWW WWW WWWWWWW WWWW WW WWWWWW WWW wwwwwwwwwwww WWWWWWWWWWW\n",
      "\n",
      "word type: hyp-word char= w\n",
      "OCR   :   Two sources of systematic error remain to be quantified. arising from (1) velocity offsets between nitrogen-bearing and carbon-bearing species. and (2) time variability in the background source morphology. which might yield different sightlines at different epochs.\n",
      "SGT   :   Two sources of systematic error remain to be quantified, arising from (1) velocity offsets between nitrogen-bearing and carbon-bearing species, and (2) time variability in the background source morphology, which might yield different sightlines at different epochs.\n",
      "types :   WWW WWWWWWW WW WWWWWWWWWW WWWWW WWWWWW WW WW WWWWWWWWWWW WWWWWWW WWWW WWW WWWWWWWW WWWWWWW WWWWWWW WWWWWWWWWWWWWWWW WWW wwwwwwwwwwwwww WWWWWWWW WWW WWW WWWW WWWWWWWWWWW WW WWW WWWWWWWWWW WWWWWW WWWWWWWWWWW WWWWW WWWWW WWWWW WWWWWWWWW WWWWWWWWWW WW WWWWWWWWW WWWWWWW\n",
      "\n",
      "word type: hyp-word char= w\n",
      "OCR   :   The SW ellects may be delayed for such objects unül a particulate surface laver develops on (heir surface. for example. by subsequent impact shattering of the exposed rock.\n",
      "SGT   :   The SW effects may be delayed for such objects until a particulate (SW-sensitive) surface layer develops on their surface, for example, by subsequent impact shattering of the exposed rock.\n",
      "types :   WWW WW WWWWWWW WWW WW WWWWWWW WWW WWWW WWWWWWW WWWWW W WWWWWWWWWWW wwwwwwwwwwwwwW WWWWWWW WWWWW WWWWWWWW WW WWWWW WWWWWWWW WWW WWWWWWWW WW WWWWWWWWWW WWWWWW WWWWWWWWWW WW WWW WWWWWWW WWWWW\n",
      "\n",
      "word type: hyp-ref char= r\n",
      "OCR   :   The grain size distributions after shattering are shown in reftig:size,0.1 4tforny—0.1. land IO cm.Ὁ. respectively.\n",
      "SGT   :   The grain size distributions after shattering are shown in \\\\ref{fig:size_n0.1}- \\ref{fig:size_n10}\n",
      " for $\\nH =0.1$, 1, and 10 $^{-3}$, respectively.\n",
      "types :   WWW WWWWW WWWW WWWWWWWWWWWWW WWWWW WWWWWWWWWW WWW WWWWW WW rrrrrrrrrrrrrrrrrrrrW RRRRRRRRRRRRRRRRRRR WWW IIIIIIIIIIW WW WWW WW IIIIIIIW WWWWWWWWWWWWW\n",
      "\n"
     ]
    }
   ],
   "source": [
    "ilimit = 5 # stop after we find this number of things\n",
    "\n",
    "icount = 0\n",
    "for i in range(len(test)):\n",
    "    d = test.iloc[i]\n",
    "    char_list = list(d['sentences target types'])\n",
    "    for ic,c in enumerate(char_list):\n",
    "        if 'hyp-' in select_wordtype(c):\n",
    "            print('word type:', select_wordtype(c), 'char=', c)\n",
    "            print('OCR   : ', d['sentences source'])        \n",
    "            print('SGT   : ', d['sentences target'])\n",
    "            print('types : ', d['sentences target types'])\n",
    "            icount += 1\n",
    "            print('')\n",
    "            break\n",
    "    if icount > ilimit: break"
   ]
  },
  {
   "cell_type": "code",
   "execution_count": null,
   "id": "60593183-14cd-4a0f-bfeb-e01f8f346d00",
   "metadata": {},
   "outputs": [],
   "source": []
  }
 ],
 "metadata": {
  "kernelspec": {
   "display_name": "Python 3 (ipykernel)",
   "language": "python",
   "name": "python3"
  },
  "language_info": {
   "codemirror_mode": {
    "name": "ipython",
    "version": 3
   },
   "file_extension": ".py",
   "mimetype": "text/x-python",
   "name": "python",
   "nbconvert_exporter": "python",
   "pygments_lexer": "ipython3",
   "version": "3.9.16"
  }
 },
 "nbformat": 4,
 "nbformat_minor": 5
}
