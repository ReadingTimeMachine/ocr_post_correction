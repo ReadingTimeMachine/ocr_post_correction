{
 "cells": [
  {
   "cell_type": "markdown",
   "id": "58ecec81-5956-4843-b237-1c74dc7fd876",
   "metadata": {},
   "source": [
    "Do some calculations for the windowed model."
   ]
  },
  {
   "cell_type": "code",
   "execution_count": 119,
   "id": "17be2dde-1cea-41bc-8d47-f1c445de6fbd",
   "metadata": {
    "tags": []
   },
   "outputs": [],
   "source": [
    "# where are individual predictions stored?\n",
    "predictions_folder = '/Users/jnaiman/Downloads/tmp/ocrpost/eval/predicted/'\n",
    "\n",
    "save_dats_dir = '/Users/jnaiman/Dropbox/wwt_image_extraction/OCRPostCorrection/paper1/dats/'\n",
    "\n",
    "# which set of test instances to use\n",
    "test_file_dir = '/Users/jnaiman/Dropbox/wwt_image_extraction/OCRPostCorrection/alignments/'\n",
    "#test_file = 'test_file_small_words_pageLevel.csv'\n",
    "test_file = 'test_file_small_words_pageLevel_old.csv'"
   ]
  },
  {
   "cell_type": "code",
   "execution_count": 65,
   "id": "6d2c56bc-67ea-42fa-8597-6bf1342d1a88",
   "metadata": {
    "tags": []
   },
   "outputs": [],
   "source": [
    "from glob import glob\n",
    "import pandas as pd\n",
    "import fastwer\n",
    "import numpy as np\n",
    "import matplotlib.pyplot as plt\n",
    "import pickle\n",
    "import matplotlib"
   ]
  },
  {
   "cell_type": "code",
   "execution_count": 115,
   "id": "4bd34055-78a9-4bcd-9fbf-61c7de38c8c0",
   "metadata": {
    "tags": []
   },
   "outputs": [],
   "source": [
    "def get_iqr(df_byt5_words,col):\n",
    "    colvalue = df_byt5_words[col]\n",
    "    colvalue = colvalue[~np.isnan(colvalue)]\n",
    "    Q3 = np.quantile(colvalue, 0.75)\n",
    "    Q1 = np.quantile(colvalue, 0.25)\n",
    "    IQR = Q3 - Q1\n",
    "    return IQR\n",
    "\n",
    "def get_iqr_by_value(colvalue):\n",
    "    Q3 = np.quantile(colvalue, 0.75)\n",
    "    Q1 = np.quantile(colvalue, 0.25)\n",
    "    IQR = Q3 - Q1\n",
    "    return IQR\n",
    "\n",
    "def get_stats(df_byt5_words,col, round_val = 2, print_nans=False):\n",
    "    colvalue = df_byt5_words[col]\n",
    "    colvalue = colvalue[~np.isnan(colvalue)]\n",
    "    # how many nan's\n",
    "    if print_nans: print('# NaNs =', len(df_byt5_words[col])-len(colvalue))\n",
    "    med = colvalue.median()\n",
    "    mea = colvalue.mean()\n",
    "    std = colvalue.std()\n",
    "    iqr = get_iqr_by_value(colvalue)\n",
    "    return round(mea,round_val), round(med,round_val), round(std,round_val), round(iqr,round_val)\n",
    "\n",
    "def get_improvement_stats(df_byt5_words,col_before, col_after, round_val = 2):\n",
    "    colvalueb = df_byt5_words[col_before]\n",
    "    colvalueb = colvalueb[~np.isnan(colvalueb)]\n",
    "    colvaluea = df_byt5_words[col_after]\n",
    "    colvaluea = colvaluea[~np.isnan(colvaluea)]\n",
    "    mask = colvalueb != 0\n",
    "    colvalue = 100*(1-colvaluea[mask]/colvalueb[mask])\n",
    "    med = colvalue.median()\n",
    "    mea = colvalue.mean()\n",
    "    std = colvalue.std()\n",
    "    iqr = get_iqr_by_value(colvalue)\n",
    "    return round(mea,round_val), round(med,round_val), round(std,round_val), round(iqr,round_val) \n",
    "\n",
    "def save_dat(fname,data,formatting = None):\n",
    "    if formatting is not None:\n",
    "        all_arts = \"{:,}\".format(successful_align_pages)\n",
    "    else:\n",
    "        all_arts = data\n",
    "    with open(fname, 'w') as f:\n",
    "        print(all_arts, file=f,end='')"
   ]
  },
  {
   "cell_type": "code",
   "execution_count": 49,
   "id": "dd68b904-59e9-4289-bfb0-397fbd98d2ee",
   "metadata": {
    "tags": []
   },
   "outputs": [],
   "source": [
    "test_data = pd.read_csv(test_file_dir+test_file)"
   ]
  },
  {
   "cell_type": "code",
   "execution_count": 50,
   "id": "85e41346-dc9d-4e54-b1aa-302b4af7d635",
   "metadata": {
    "tags": []
   },
   "outputs": [
    {
     "data": {
      "text/html": [
       "<div>\n",
       "<style scoped>\n",
       "    .dataframe tbody tr th:only-of-type {\n",
       "        vertical-align: middle;\n",
       "    }\n",
       "\n",
       "    .dataframe tbody tr th {\n",
       "        vertical-align: top;\n",
       "    }\n",
       "\n",
       "    .dataframe thead th {\n",
       "        text-align: right;\n",
       "    }\n",
       "</style>\n",
       "<table border=\"1\" class=\"dataframe\">\n",
       "  <thead>\n",
       "    <tr style=\"text-align: right;\">\n",
       "      <th></th>\n",
       "      <th>gt</th>\n",
       "      <th>ocr</th>\n",
       "      <th>filename</th>\n",
       "      <th>page</th>\n",
       "      <th>gt_clean</th>\n",
       "      <th>ocr_clean</th>\n",
       "      <th>ocr_align</th>\n",
       "      <th>pdf_align</th>\n",
       "      <th>pdf_align_type</th>\n",
       "    </tr>\n",
       "  </thead>\n",
       "  <tbody>\n",
       "    <tr>\n",
       "      <th>0</th>\n",
       "      <td>across a flare. The light curves in Fig. 6 cle...</td>\n",
       "      <td>across a f@are. The light curves in Fie. 6 cle...</td>\n",
       "      <td>0401_astro-ph0401222d_preprin_psfilefixedRTM_hocr</td>\n",
       "      <td>page6</td>\n",
       "      <td>across a flare. The light curves in Fig. 6 cle...</td>\n",
       "      <td>across a fare. The light curves in Fie. 6 clea...</td>\n",
       "      <td>across a f^are. The light curves in Fie. 6 cle...</td>\n",
       "      <td>across a flare. The light curves in Fig. 6 cle...</td>\n",
       "      <td>WWWWWW W WWWWWW WWW WWWWW WWWWWW WW WWWW W WWW...</td>\n",
       "    </tr>\n",
       "    <tr>\n",
       "      <th>1</th>\n",
       "      <td>We also verified that the non-gray corrections...</td>\n",
       "      <td>We also verified that the non-gray corrections...</td>\n",
       "      <td>1106_1106.6007d_ms_psfilefixedRTM_hocr</td>\n",
       "      <td>page5</td>\n",
       "      <td>We also verified that the non-gray corrections...</td>\n",
       "      <td>We also verified that the non-gray corrections...</td>\n",
       "      <td>We also verified that the non-gray ^^log^^y co...</td>\n",
       "      <td>We also verified that the non-gray $\\log g$ co...</td>\n",
       "      <td>WW WWWW WWWWWWWW WWWW WWW WWWWWWWW IIIIIIII WW...</td>\n",
       "    </tr>\n",
       "    <tr>\n",
       "      <th>2</th>\n",
       "      <td>Figure shows that the lag increases with the l...</td>\n",
       "      <td>Figure shows that the lag increases with the l...</td>\n",
       "      <td>0505_astro-ph0505276d_mnsubm_psfilefixedRTM_hocr</td>\n",
       "      <td>page6</td>\n",
       "      <td>Figure shows that the lag increases with the l...</td>\n",
       "      <td>Figure shows that the lag increases with the l...</td>\n",
       "      <td>Figure ^^^^^^^^^^^^^^5 shows that the lag incr...</td>\n",
       "      <td>Figure \\ref{lag_alpha} shows that the lag incr...</td>\n",
       "      <td>WWWWWW RRRRRRRRRRRRRRR WWWWW WWWW WWW WWW WWWW...</td>\n",
       "    </tr>\n",
       "    <tr>\n",
       "      <th>3</th>\n",
       "      <td>@@@@@.@@ Accurate distances...</td>\n",
       "      <td>2001)... Accurate distances...</td>\n",
       "      <td>0910_0910.5253d_millerjones_v404_paralla_psfil...</td>\n",
       "      <td>page0</td>\n",
       "      <td>. Accurate distances are al...</td>\n",
       "      <td>2001)... Accurate distances...</td>\n",
       "      <td>(Revuoldsetal.2008).. Jouker&amp;Nelemans(2001). ...</td>\n",
       "      <td>\\cit@@@@@ep{Jon04}@.@ \\citep{Rey08}, \\citet{J...</td>\n",
       "      <td>cccccccccccccccccccWW CCCCCCCCCCCCCW CCCCCCCC...</td>\n",
       "    </tr>\n",
       "    <tr>\n",
       "      <th>4</th>\n",
       "      <td>is on a length scale sm@aller than about one f...</td>\n",
       "      <td>is on a leneth scale siualler than about one f...</td>\n",
       "      <td>0408_astro-ph0408115d_haverkorn_aug04_psfilefi...</td>\n",
       "      <td>page10</td>\n",
       "      <td>is on a length scale smaller than about one fi...</td>\n",
       "      <td>is on a leneth scale siualler than about one f...</td>\n",
       "      <td>is on a leneth scale siualler than about one f...</td>\n",
       "      <td>is on a length scale sm@aller than about one f...</td>\n",
       "      <td>WW WW W WWWWWW WWWWW WWWWWWWW WWWW WWWWW WWW W...</td>\n",
       "    </tr>\n",
       "  </tbody>\n",
       "</table>\n",
       "</div>"
      ],
      "text/plain": [
       "                                                  gt   \n",
       "0  across a flare. The light curves in Fig. 6 cle...  \\\n",
       "1  We also verified that the non-gray corrections...   \n",
       "2  Figure shows that the lag increases with the l...   \n",
       "3                     @@@@@.@@ Accurate distances...   \n",
       "4  is on a length scale sm@aller than about one f...   \n",
       "\n",
       "                                                 ocr   \n",
       "0  across a f@are. The light curves in Fie. 6 cle...  \\\n",
       "1  We also verified that the non-gray corrections...   \n",
       "2  Figure shows that the lag increases with the l...   \n",
       "3                     2001)... Accurate distances...   \n",
       "4  is on a leneth scale siualler than about one f...   \n",
       "\n",
       "                                            filename    page   \n",
       "0  0401_astro-ph0401222d_preprin_psfilefixedRTM_hocr   page6  \\\n",
       "1             1106_1106.6007d_ms_psfilefixedRTM_hocr   page5   \n",
       "2   0505_astro-ph0505276d_mnsubm_psfilefixedRTM_hocr   page6   \n",
       "3  0910_0910.5253d_millerjones_v404_paralla_psfil...   page0   \n",
       "4  0408_astro-ph0408115d_haverkorn_aug04_psfilefi...  page10   \n",
       "\n",
       "                                            gt_clean   \n",
       "0  across a flare. The light curves in Fig. 6 cle...  \\\n",
       "1  We also verified that the non-gray corrections...   \n",
       "2  Figure shows that the lag increases with the l...   \n",
       "3                     . Accurate distances are al...   \n",
       "4  is on a length scale smaller than about one fi...   \n",
       "\n",
       "                                           ocr_clean   \n",
       "0  across a fare. The light curves in Fie. 6 clea...  \\\n",
       "1  We also verified that the non-gray corrections...   \n",
       "2  Figure shows that the lag increases with the l...   \n",
       "3                     2001)... Accurate distances...   \n",
       "4  is on a leneth scale siualler than about one f...   \n",
       "\n",
       "                                           ocr_align   \n",
       "0  across a f^are. The light curves in Fie. 6 cle...  \\\n",
       "1  We also verified that the non-gray ^^log^^y co...   \n",
       "2  Figure ^^^^^^^^^^^^^^5 shows that the lag incr...   \n",
       "3   (Revuoldsetal.2008).. Jouker&Nelemans(2001). ...   \n",
       "4  is on a leneth scale siualler than about one f...   \n",
       "\n",
       "                                           pdf_align   \n",
       "0  across a flare. The light curves in Fig. 6 cle...  \\\n",
       "1  We also verified that the non-gray $\\log g$ co...   \n",
       "2  Figure \\ref{lag_alpha} shows that the lag incr...   \n",
       "3   \\cit@@@@@ep{Jon04}@.@ \\citep{Rey08}, \\citet{J...   \n",
       "4  is on a length scale sm@aller than about one f...   \n",
       "\n",
       "                                      pdf_align_type  \n",
       "0  WWWWWW W WWWWWW WWW WWWWW WWWWWW WW WWWW W WWW...  \n",
       "1  WW WWWW WWWWWWWW WWWW WWW WWWWWWWW IIIIIIII WW...  \n",
       "2  WWWWWW RRRRRRRRRRRRRRR WWWWW WWWW WWW WWW WWWW...  \n",
       "3   cccccccccccccccccccWW CCCCCCCCCCCCCW CCCCCCCC...  \n",
       "4  WW WW W WWWWWW WWWWW WWWWWWWW WWWW WWWWW WWW W...  "
      ]
     },
     "execution_count": 50,
     "metadata": {},
     "output_type": "execute_result"
    }
   ],
   "source": [
    "test_data.head()"
   ]
  },
  {
   "cell_type": "code",
   "execution_count": 51,
   "id": "f7d9628a-4b9f-4248-aa5f-092177a2aa10",
   "metadata": {
    "tags": []
   },
   "outputs": [],
   "source": [
    "cer_orig = []; wer_orig = []\n",
    "for i in range(len(test_data)):\n",
    "    d = test_data.iloc[i]\n",
    "    ocr = d['ocr_clean']\n",
    "    pdf = d['gt_clean']\n",
    "    if pd.isnull(ocr) or pd.isnull(pdf):\n",
    "        cer_orig.append(np.nan)\n",
    "        wer_orig.append(np.nan)\n",
    "        continue\n",
    "        \n",
    "    ocr = str(ocr); pdf = str(pdf)\n",
    "    cer = fastwer.score_sent(ocr,pdf,char_level=True)\n",
    "    wer = fastwer.score_sent(ocr,pdf,char_level=False)\n",
    "    \n",
    "    cer_orig.append(cer)\n",
    "    wer_orig.append(wer)  \n",
    "test_data['CER Orig'] = cer_orig\n",
    "test_data['WER Orig'] = wer_orig"
   ]
  },
  {
   "cell_type": "code",
   "execution_count": 103,
   "id": "a4076712-aeb2-4733-9e80-612fdc9ad702",
   "metadata": {
    "tags": []
   },
   "outputs": [
    {
     "data": {
      "text/plain": [
       "['/Users/jnaiman/Downloads/tmp/ocrpost/eval/predicted/sliding_greedy_triangle.pickle',\n",
       " '/Users/jnaiman/Downloads/tmp/ocrpost/eval/predicted/sliding_greedy_uniform.pickle',\n",
       " '/Users/jnaiman/Downloads/tmp/ocrpost/eval/predicted/distjoint_greedy2.pickle',\n",
       " '/Users/jnaiman/Downloads/tmp/ocrpost/eval/predicted/sliding_greedy_bell.pickle',\n",
       " '/Users/jnaiman/Downloads/tmp/ocrpost/eval/predicted/distjoint_beam_NaN2.pickle',\n",
       " '/Users/jnaiman/Downloads/tmp/ocrpost/eval/predicted/distjoint_beam_NaN1.pickle',\n",
       " '/Users/jnaiman/Downloads/tmp/ocrpost/eval/predicted/distjoint_greedy1.pickle']"
      ]
     },
     "execution_count": 103,
     "metadata": {},
     "output_type": "execute_result"
    }
   ],
   "source": [
    "pfiles = glob(predictions_folder + '*.pickle')\n",
    "pfiles"
   ]
  },
  {
   "cell_type": "code",
   "execution_count": 104,
   "id": "c9172607-35fc-4c70-8545-8ba704fa1a27",
   "metadata": {
    "tags": []
   },
   "outputs": [
    {
     "name": "stdout",
     "output_type": "stream",
     "text": [
      "on sliding_greedy_triangle\n",
      "on sliding_greedy_uniform\n",
      "on distjoint_greedy2\n",
      "on sliding_greedy_bell\n",
      "on distjoint_beam_NaN2\n",
      "on distjoint_beam_NaN1\n",
      "on distjoint_greedy1\n",
      "all done!\n"
     ]
    }
   ],
   "source": [
    "# get all dealies\n",
    "for pf in pfiles:\n",
    "    pfn = pf.split('/')[-1].split('.pickle')[0]\n",
    "    with open(pf,'rb') as f:\n",
    "        corrections,raw = pickle.load(f)\n",
    "    if len(corrections) != len(test_data):\n",
    "        print('not correct number of outputs!')\n",
    "        import sys; sys.exit()\n",
    "                \n",
    "    print('on', pfn)\n",
    "    cer_orig = []; wer_orig = []\n",
    "    for i in range(len(test_data)):\n",
    "        d = test_data.iloc[i]\n",
    "        #ocr = d['ocr_clean']\n",
    "        ocr = corrections[i].replace('@','') # 'fixed' ocr\n",
    "        pdf = d['gt_clean']\n",
    "        if pd.isnull(ocr) or pd.isnull(pdf):\n",
    "            cer_orig.append(np.nan)\n",
    "            wer_orig.append(np.nan)\n",
    "            continue\n",
    "\n",
    "        ocr = str(ocr); pdf = str(pdf)\n",
    "        cer = fastwer.score_sent(ocr,pdf,char_level=True)\n",
    "        wer = fastwer.score_sent(ocr,pdf,char_level=False)\n",
    "        cer_orig.append(cer)\n",
    "        wer_orig.append(wer)\n",
    "    test_data['CER ' + pfn] = cer_orig\n",
    "    test_data['WER ' + pfn] = wer_orig\n",
    "print('all done!')"
   ]
  },
  {
   "cell_type": "code",
   "execution_count": 105,
   "id": "bec49d19-2a32-4347-af17-8130e7dc85c5",
   "metadata": {
    "tags": []
   },
   "outputs": [
    {
     "data": {
      "image/png": "[encoded data removed]",
      "text/plain": [
       "<Figure size 3500x500 with 7 Axes>"
      ]
     },
     "metadata": {},
     "output_type": "display_data"
    }
   ],
   "source": [
    "fig, ax = plt.subplots(1,len(pfiles),figsize=(len(pfiles)*5,5))\n",
    "if type(ax) == matplotlib.axes._axes.Axes:\n",
    "    ax = [ax]\n",
    "\n",
    "for ip,pf in enumerate(pfiles):\n",
    "    pfn = pf.split('/')[-1].split('.pickle')[0]\n",
    "    ax[ip].plot(test_data['CER Orig'], test_data['CER ' + pfn], 'o')\n",
    "    ax[ip].plot([test_data['CER Orig'].min(),test_data['CER Orig'].max()],[test_data['CER Orig'].min(),test_data['CER Orig'].max()], color='orange')\n",
    "    ax[ip].set_ylim(0,100)\n",
    "    pfn = pf.split('/')[-1].split('.pickle')[0]\n",
    "    ax[ip].set_title(pfn)"
   ]
  },
  {
   "cell_type": "code",
   "execution_count": 108,
   "id": "d8855d1e-2564-4513-93a1-b350a0f7d228",
   "metadata": {
    "tags": []
   },
   "outputs": [
    {
     "data": {
      "text/plain": [
       "250"
      ]
     },
     "execution_count": 108,
     "metadata": {},
     "output_type": "execute_result"
    }
   ],
   "source": [
    "len(test_data)"
   ]
  },
  {
   "cell_type": "code",
   "execution_count": 111,
   "id": "44a2ee04-515b-4100-b872-5074db80f7ca",
   "metadata": {
    "tags": []
   },
   "outputs": [
    {
     "name": "stdout",
     "output_type": "stream",
     "text": [
      "******************** sliding_greedy_triangle *********************\n",
      "--------- Before -------------\n",
      "# NaNs = 0\n",
      "CER : mean = 6.18 , std = 8.88 , median = 4.29 , iqr = 4.1\n",
      "WER : mean = 15.18 , std = 10.13 , median = 15.46 , iqr = 14.25\n",
      "\n",
      "--------- After -------------\n",
      "CER : mean = 5.46 , std = 11.62 , median = 3.07 , iqr = 2.35\n",
      "WER : mean = 14.15 , std = 13.49 , median = 11.2 , iqr = 7.62\n",
      "\n",
      "------------ Improvement ----------------\n",
      "CER : mean =  -1.03 , std = 128.17 , median = 26.3 , iqr = 41.72\n",
      "WER : mean =  -37.32 , std = 255.51 , median = 23.17 , iqr = 56.29\n",
      "CER : How many better = 194 , how many worse (or same) = 56 , % better = 77.6\n",
      "WER : How many better = 169 , how many worse (or same) = 81 , % better = 67.6\n",
      "\n",
      "\n",
      "******************** sliding_greedy_uniform *********************\n",
      "--------- Before -------------\n",
      "# NaNs = 0\n",
      "CER : mean = 6.18 , std = 8.88 , median = 4.29 , iqr = 4.1\n",
      "WER : mean = 15.18 , std = 10.13 , median = 15.46 , iqr = 14.25\n",
      "\n",
      "--------- After -------------\n",
      "CER : mean = 5.46 , std = 11.54 , median = 3.11 , iqr = 2.29\n",
      "WER : mean = 14.4 , std = 13.54 , median = 11.23 , iqr = 7.82\n",
      "\n",
      "------------ Improvement ----------------\n",
      "CER : mean =  -1.76 , std = 128.59 , median = 25.87 , iqr = 42.17\n",
      "WER : mean =  -40.95 , std = 260.81 , median = 22.03 , iqr = 55.22\n",
      "CER : How many better = 192 , how many worse (or same) = 58 , % better = 76.8\n",
      "WER : How many better = 166 , how many worse (or same) = 84 , % better = 66.4\n",
      "\n",
      "\n",
      "******************** distjoint_greedy2 *********************\n",
      "--------- Before -------------\n",
      "# NaNs = 0\n",
      "CER : mean = 6.18 , std = 8.88 , median = 4.29 , iqr = 4.1\n",
      "WER : mean = 15.18 , std = 10.13 , median = 15.46 , iqr = 14.25\n",
      "\n",
      "--------- After -------------\n",
      "CER : mean = 36.79 , std = 238.49 , median = 3.89 , iqr = 2.77\n",
      "WER : mean = 45.56 , std = 237.29 , median = 12.68 , iqr = 7.02\n",
      "\n",
      "------------ Improvement ----------------\n",
      "CER : mean =  -30.03 , std = 206.37 , median = 10.21 , iqr = 48.53\n",
      "WER : mean =  -53.11 , std = 265.69 , median = 14.09 , iqr = 60.58\n",
      "CER : How many better = 149 , how many worse (or same) = 101 , % better = 59.6\n",
      "WER : How many better = 150 , how many worse (or same) = 100 , % better = 60.0\n",
      "\n",
      "\n",
      "******************** sliding_greedy_bell *********************\n",
      "--------- Before -------------\n",
      "# NaNs = 0\n",
      "CER : mean = 6.18 , std = 8.88 , median = 4.29 , iqr = 4.1\n",
      "WER : mean = 15.18 , std = 10.13 , median = 15.46 , iqr = 14.25\n",
      "\n",
      "--------- After -------------\n",
      "CER : mean = 5.48 , std = 11.7 , median = 3.09 , iqr = 2.37\n",
      "WER : mean = 14.15 , std = 13.55 , median = 11.11 , iqr = 7.72\n",
      "\n",
      "------------ Improvement ----------------\n",
      "CER : mean =  -1.18 , std = 128.27 , median = 25.67 , iqr = 41.55\n",
      "WER : mean =  -37.3 , std = 255.66 , median = 23.91 , iqr = 56.44\n",
      "CER : How many better = 193 , how many worse (or same) = 57 , % better = 77.2\n",
      "WER : How many better = 168 , how many worse (or same) = 82 , % better = 67.2\n",
      "\n",
      "\n",
      "******************** distjoint_beam_NaN2 *********************\n",
      "--------- Before -------------\n",
      "# NaNs = 0\n",
      "CER : mean = 6.18 , std = 8.88 , median = 4.29 , iqr = 4.1\n",
      "WER : mean = 15.18 , std = 10.13 , median = 15.46 , iqr = 14.25\n",
      "\n",
      "--------- After -------------\n",
      "CER : mean = 20.65 , std = 113.2 , median = 3.74 , iqr = 2.56\n",
      "WER : mean = 29.19 , std = 112.0 , median = 12.58 , iqr = 7.11\n",
      "\n",
      "------------ Improvement ----------------\n",
      "CER : mean =  -24.87 , std = 191.7 , median = 13.11 , iqr = 46.72\n",
      "WER : mean =  -47.45 , std = 256.63 , median = 16.11 , iqr = 56.36\n",
      "CER : How many better = 157 , how many worse (or same) = 93 , % better = 62.8\n",
      "WER : How many better = 154 , how many worse (or same) = 96 , % better = 61.6\n",
      "\n",
      "\n",
      "******************** distjoint_beam_NaN1 *********************\n",
      "--------- Before -------------\n",
      "# NaNs = 0\n",
      "CER : mean = 6.18 , std = 8.88 , median = 4.29 , iqr = 4.1\n",
      "WER : mean = 15.18 , std = 10.13 , median = 15.46 , iqr = 14.25\n",
      "\n",
      "--------- After -------------\n",
      "CER : mean = 22.69 , std = 112.65 , median = 6.06 , iqr = 3.28\n",
      "WER : mean = 38.21 , std = 110.76 , median = 21.63 , iqr = 7.6\n",
      "\n",
      "------------ Improvement ----------------\n",
      "CER : mean =  -98.33 , std = 202.68 , median = -36.31 , iqr = 85.11\n",
      "WER : mean =  -175.01 , std = 465.69 , median = -39.6 , iqr = 119.46\n",
      "CER : How many better = 47 , how many worse (or same) = 203 , % better = 18.8\n",
      "WER : How many better = 27 , how many worse (or same) = 223 , % better = 10.8\n",
      "\n",
      "\n",
      "******************** distjoint_greedy1 *********************\n",
      "--------- Before -------------\n",
      "# NaNs = 0\n",
      "CER : mean = 6.18 , std = 8.88 , median = 4.29 , iqr = 4.1\n",
      "WER : mean = 15.18 , std = 10.13 , median = 15.46 , iqr = 14.25\n",
      "\n",
      "--------- After -------------\n",
      "CER : mean = 38.93 , std = 238.06 , median = 6.28 , iqr = 3.38\n",
      "WER : mean = 54.69 , std = 236.08 , median = 22.07 , iqr = 7.98\n",
      "\n",
      "------------ Improvement ----------------\n",
      "CER : mean =  -104.71 , std = 208.74 , median = -42.46 , iqr = 83.24\n",
      "WER : mean =  -179.8 , std = 470.36 , median = -42.49 , iqr = 122.67\n",
      "CER : How many better = 36 , how many worse (or same) = 214 , % better = 14.4\n",
      "WER : How many better = 19 , how many worse (or same) = 231 , % better = 7.6\n",
      "\n",
      "\n"
     ]
    }
   ],
   "source": [
    "for ip,pf in enumerate(pfiles):\n",
    "    pfn = pf.split('/')[-1].split('.pickle')[0]\n",
    "    before = 'Orig'\n",
    "    after = pfn\n",
    "    print('********************', pfn, '*********************')\n",
    "\n",
    "    print('--------- Before -------------')\n",
    "    mea_cbefore,med_cbefore,std_cbefore,iqr_cbefore = get_stats(test_data,'CER '+before, print_nans=True)\n",
    "    print('CER : mean =', mea_cbefore, ', std =', std_cbefore, ', median =',med_cbefore, ', iqr =', iqr_cbefore)\n",
    "    mea_wbefore,med_wbefore,std_wbefore,iqr_wbefore = get_stats(test_data,'WER '+before)\n",
    "    print('WER : mean =', mea_wbefore, ', std =', std_wbefore, ', median =',med_wbefore, ', iqr =', iqr_wbefore)\n",
    "    print('')\n",
    "    \n",
    "    print('--------- After -------------')\n",
    "    mea_cafter,med_cafter,std_cafter,iqr_cafter = get_stats(test_data,'CER '+after)\n",
    "    print('CER : mean =', mea_cafter, ', std =', std_cafter, ', median =',med_cafter, ', iqr =', iqr_cafter)\n",
    "    mea_wafter,med_wafter,std_wafter,iqr_wafter = get_stats(test_data,'WER '+after)\n",
    "    print('WER : mean =', mea_wafter, ', std =', std_wafter, ', median =',med_wafter, ', iqr =', iqr_wafter)\n",
    "    print('')\n",
    "    \n",
    "    # improvement\n",
    "    #improvement = lambda df: 100 * (1 - df.cer_after / df.cer_before)\n",
    "    print('------------ Improvement ----------------')\n",
    "    mea_c,med_c,std_c,iqr_c = get_improvement_stats(test_data,'CER '+before, 'CER '+after)\n",
    "    print('CER : mean = ', mea_c, ', std =', std_c, ', median =',med_c, ', iqr =', iqr_c)\n",
    "    mea_w,med_w,std_w,iqr_w = get_improvement_stats(test_data,'WER '+before, 'WER '+after)\n",
    "    print('WER : mean = ', mea_w, ', std =', std_w, ', median =',med_w, ', iqr =', iqr_w)\n",
    "    # numbers of better and worse\n",
    "    mask = test_data['CER '+before] < test_data['CER ' + after]\n",
    "    print('CER : How many better =', len(test_data[~mask]), ', how many worse (or same) =', len(test_data[mask]), \n",
    "          ', % better =', round(len(test_data[~mask])/len(test_data)*100,2))\n",
    "    mask = test_data['WER '+before] < test_data['WER ' + after]\n",
    "    print('WER : How many better =', len(test_data[~mask]), ', how many worse (or same) =', len(test_data[mask]), \n",
    "         ', % better =', round(len(test_data[~mask])/len(test_data)*100,2))\n",
    "    print('')\n",
    "    print('')"
   ]
  },
  {
   "cell_type": "markdown",
   "id": "87fb410b-abda-43c2-9f43-44ddb4739f42",
   "metadata": {
    "tags": []
   },
   "source": [
    "Which one to use to save?"
   ]
  },
  {
   "cell_type": "code",
   "execution_count": 112,
   "id": "ab73de00-c6c5-4fc8-963a-21cd9bde4830",
   "metadata": {
    "tags": []
   },
   "outputs": [],
   "source": [
    "selection_alg = 'sliding_greedy_bell'"
   ]
  },
  {
   "cell_type": "code",
   "execution_count": 117,
   "id": "680e4bc1-ddeb-49ed-b8f4-57f24b6f9a2e",
   "metadata": {
    "tags": []
   },
   "outputs": [
    {
     "name": "stdout",
     "output_type": "stream",
     "text": [
      "******************** sliding_greedy_bell *********************\n",
      "--------- Before -------------\n",
      "# NaNs = 0\n",
      "CER : mean = 6.18 , std = 8.88 , median = 4.29 , iqr = 4.1\n",
      "WER : mean = 15.18 , std = 10.13 , median = 15.46 , iqr = 14.25\n",
      "\n",
      "--------- After -------------\n",
      "CER : mean = 5.48 , std = 11.7 , median = 3.09 , iqr = 2.37\n",
      "WER : mean = 14.15 , std = 13.55 , median = 11.11 , iqr = 7.72\n",
      "\n",
      "------------ Improvement ----------------\n",
      "CER : mean =  -1.18 , std = 128.27 , median = 25.67 , iqr = 41.55\n",
      "WER : mean =  -37.3 , std = 255.66 , median = 23.91 , iqr = 56.44\n",
      "CER : How many better = 193 , how many worse (or same) = 57 , % better = 77.2\n",
      "WER : How many better = 168 , how many worse (or same) = 82 , % better = 67.2\n"
     ]
    }
   ],
   "source": [
    "for ip,pf in enumerate(pfiles):\n",
    "    pfn = pf.split('/')[-1].split('.pickle')[0]\n",
    "    before = 'Orig'\n",
    "    after = pfn\n",
    "    if pfn == selection_alg:\n",
    "        print('********************', pfn, '*********************')\n",
    "\n",
    "        print('--------- Before -------------')\n",
    "        mea_cbefore,med_cbefore,std_cbefore,iqr_cbefore = get_stats(test_data,'CER '+before, print_nans=True)\n",
    "        print('CER : mean =', mea_cbefore, ', std =', std_cbefore, ', median =',med_cbefore, ', iqr =', iqr_cbefore)\n",
    "        mea_wbefore,med_wbefore,std_wbefore,iqr_wbefore = get_stats(test_data,'WER '+before)\n",
    "        print('WER : mean =', mea_wbefore, ', std =', std_wbefore, ', median =',med_wbefore, ', iqr =', iqr_wbefore)\n",
    "        print('')\n",
    "\n",
    "        print('--------- After -------------')\n",
    "        mea_cafter,med_cafter,std_cafter,iqr_cafter = get_stats(test_data,'CER '+after)\n",
    "        print('CER : mean =', mea_cafter, ', std =', std_cafter, ', median =',med_cafter, ', iqr =', iqr_cafter)\n",
    "        mea_wafter,med_wafter,std_wafter,iqr_wafter = get_stats(test_data,'WER '+after)\n",
    "        print('WER : mean =', mea_wafter, ', std =', std_wafter, ', median =',med_wafter, ', iqr =', iqr_wafter)\n",
    "        print('')\n",
    "\n",
    "        # improvement\n",
    "        #improvement = lambda df: 100 * (1 - df.cer_after / df.cer_before)\n",
    "        print('------------ Improvement ----------------')\n",
    "        mea_c,med_c,std_c,iqr_c = get_improvement_stats(test_data,'CER '+before, 'CER '+after)\n",
    "        print('CER : mean = ', mea_c, ', std =', std_c, ', median =',med_c, ', iqr =', iqr_c)\n",
    "        mea_w,med_w,std_w,iqr_w = get_improvement_stats(test_data,'WER '+before, 'WER '+after)\n",
    "        print('WER : mean = ', mea_w, ', std =', std_w, ', median =',med_w, ', iqr =', iqr_w)\n",
    "        # numbers of better and worse\n",
    "        mask = test_data['CER '+before] < test_data['CER ' + after] # CER should go down after correction -- cer before correction < cer after is wrong -- how many wrong?\n",
    "        print('CER : How many better =', len(test_data[~mask]), ', how many worse (or same) =', len(test_data[mask]), \n",
    "              ', % better =', round(len(test_data[~mask])/len(test_data)*100,2))\n",
    "        cerImp = round(len(test_data[~mask])/len(test_data)*100,2)\n",
    "        mask = test_data['WER '+before] < test_data['WER ' + after]\n",
    "        print('WER : How many better =', len(test_data[~mask]), ', how many worse (or same) =', len(test_data[mask]), \n",
    "             ', % better =', round(len(test_data[~mask])/len(test_data)*100,2))\n",
    "        werImp = round(len(test_data[~mask])/len(test_data)*100,2)"
   ]
  },
  {
   "cell_type": "code",
   "execution_count": 120,
   "id": "45e3aae3-e411-48bc-b545-6d929a5fd032",
   "metadata": {
    "tags": []
   },
   "outputs": [],
   "source": [
    "# save everything\n",
    "dats = [mea_cbefore,mea_wbefore,mea_cafter,mea_wafter,\n",
    "        mea_c,mea_w, cerImp, werImp]\n",
    "names_start = 'windowed_only_words_'\n",
    "datnames = ['mean_cer_before','mean_wer_before','mean_cer_after','mean_wer_after',\n",
    "            'mean_cer_imp','mean_wer_imp', 'cerImp', 'werImp']\n",
    "for d,n in zip(dats,datnames):\n",
    "    save_dat(save_dats_dir+names_start+n+'.dat',d)"
   ]
  },
  {
   "cell_type": "code",
   "execution_count": null,
   "id": "1d1c58f7-0815-4131-b608-a9d56e307646",
   "metadata": {},
   "outputs": [],
   "source": []
  }
 ],
 "metadata": {
  "kernelspec": {
   "display_name": "Python 3 (ipykernel)",
   "language": "python",
   "name": "python3"
  },
  "language_info": {
   "codemirror_mode": {
    "name": "ipython",
    "version": 3
   },
   "file_extension": ".py",
   "mimetype": "text/x-python",
   "name": "python",
   "nbconvert_exporter": "python",
   "pygments_lexer": "ipython3",
   "version": "3.9.16"
  }
 },
 "nbformat": 4,
 "nbformat_minor": 5
}
