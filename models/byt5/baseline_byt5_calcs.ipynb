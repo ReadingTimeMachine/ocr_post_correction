{
 "cells": [
  {
   "cell_type": "code",
   "execution_count": 2,
   "id": "0bcdda7e-2ead-4480-8b09-a0cac3c4ce2e",
   "metadata": {
    "tags": []
   },
   "outputs": [],
   "source": [
    "save_dats_dir = '/Users/jnaiman/Dropbox/wwt_image_extraction/OCRPostCorrection/paper1/dats/'"
   ]
  },
  {
   "cell_type": "code",
   "execution_count": 4,
   "id": "f24cba7b-a8f2-4f2d-9576-c0cd50c02a29",
   "metadata": {
    "tags": []
   },
   "outputs": [],
   "source": [
    "from glob import glob\n",
    "import pandas as pd\n",
    "import fastwer\n",
    "import numpy as np\n",
    "import matplotlib.pyplot as plt\n",
    "import re\n",
    "\n",
    "import Levenshtein\n",
    "import fastwer\n",
    "\n",
    "from sys import path\n",
    "path.append('../../')\n",
    "\n",
    "# debug\n",
    "from importlib import reload\n",
    "import utils\n",
    "reload(utils)\n",
    "\n",
    "from utils import split_function_with_delimiters_with_checks as spc\n",
    "from utils import get_fill_in_types, align_texts_fast, fix_ocr\n",
    "\n",
    "search_doc = r\"\\\\(?:[^a-zA-Z]|[a-zA-Z]+[*=']?)\" # search for commands in the document itself\n",
    "\n",
    "# have some weird marks that don't show up in our text\n",
    "marks = {'citations':'↫','refs':'↷','inlines':'↭'}"
   ]
  },
  {
   "cell_type": "code",
   "execution_count": 5,
   "id": "f0919e40-a4a6-4aad-82a6-9353211c6fe1",
   "metadata": {
    "tags": []
   },
   "outputs": [
    {
     "data": {
      "text/plain": [
       "{'↫': 'citations', '↷': 'refs', '↭': 'inlines'}"
      ]
     },
     "execution_count": 5,
     "metadata": {},
     "output_type": "execute_result"
    }
   ],
   "source": [
    "# make reverse marks\n",
    "marks_rev = {}\n",
    "for k,v in marks.items():\n",
    "    marks_rev[v] = k\n",
    "marks_rev"
   ]
  },
  {
   "cell_type": "markdown",
   "id": "8178fb98-97ab-43eb-95ac-d56956213b87",
   "metadata": {},
   "source": [
    "## Batch inference byt5 -- only words, arXiv dataset"
   ]
  },
  {
   "cell_type": "code",
   "execution_count": 6,
   "id": "d48d4b7b-1764-4c69-8746-62bb9dbc9d4e",
   "metadata": {
    "tags": []
   },
   "outputs": [],
   "source": [
    "# only words, byt5\n",
    "output_dir_inf = '/Users/jnaiman/Dropbox/wwt_image_extraction/OCRPostCorrection/inferences/latex/'\n",
    "\n",
    "ender = '_small_words' # 100k for training, 5k val"
   ]
  },
  {
   "cell_type": "code",
   "execution_count": 7,
   "id": "21f630a9-bdfa-48f5-9fe3-0699560fd390",
   "metadata": {
    "tags": []
   },
   "outputs": [],
   "source": [
    "inf_files = glob(output_dir_inf + '*'+ender+'.csv')\n",
    "inf_files.sort()\n",
    "for i,f in enumerate(inf_files):\n",
    "    d = pd.read_csv(f)\n",
    "    if i == 0: # first\n",
    "        df_byt5_words = d.copy()\n",
    "    else: # others\n",
    "        df_byt5_words = pd.concat([df_byt5_words,d],ignore_index=True)"
   ]
  },
  {
   "cell_type": "code",
   "execution_count": 8,
   "id": "639ce0ea-b47f-4bde-a502-1e3dc59eb7a5",
   "metadata": {
    "tags": []
   },
   "outputs": [
    {
     "data": {
      "text/html": [
       "<div>\n",
       "<style scoped>\n",
       "    .dataframe tbody tr th:only-of-type {\n",
       "        vertical-align: middle;\n",
       "    }\n",
       "\n",
       "    .dataframe tbody tr th {\n",
       "        vertical-align: top;\n",
       "    }\n",
       "\n",
       "    .dataframe thead th {\n",
       "        text-align: right;\n",
       "    }\n",
       "</style>\n",
       "<table border=\"1\" class=\"dataframe\">\n",
       "  <thead>\n",
       "    <tr style=\"text-align: right;\">\n",
       "      <th></th>\n",
       "      <th>aligned sentences source</th>\n",
       "      <th>aligned sentences target</th>\n",
       "      <th>sentences source</th>\n",
       "      <th>sentences target</th>\n",
       "      <th>aligned sentences source types</th>\n",
       "      <th>aligned sentences target types</th>\n",
       "      <th>sentences source types</th>\n",
       "      <th>sentences target types</th>\n",
       "      <th>words source aligned</th>\n",
       "      <th>words target aligned</th>\n",
       "      <th>input_text</th>\n",
       "      <th>target_text</th>\n",
       "      <th>predicted_text</th>\n",
       "    </tr>\n",
       "  </thead>\n",
       "  <tbody>\n",
       "    <tr>\n",
       "      <th>0</th>\n",
       "      <td>Thev suegested that optical {lis [rom the neu...</td>\n",
       "      <td>They suggested that optical flux from the neu...</td>\n",
       "      <td>Thev suegested that optical {lis [rom the neu...</td>\n",
       "      <td>They suggested that optical flux from the neu...</td>\n",
       "      <td>WWWW WWWWWWWWW WWWW WWWWWWW WWWW WWWW WWW WWW...</td>\n",
       "      <td>WWWW WWWWWWWWW WWWW WWWWWWW WWWW WWWW WWW WWW...</td>\n",
       "      <td>WWWW WWWWWWWWW WWWW WWWWWWW WWWW WWWW WWW WWW...</td>\n",
       "      <td>WWWW WWWWWWWWW WWWW WWWWWWW WWWW WWWW WWW WWW...</td>\n",
       "      <td>Thev suegested that optical {lis [rom the neu...</td>\n",
       "      <td>They suggested that optical flux from the neu...</td>\n",
       "      <td>Thev suegested that optical {lis [rom the neu...</td>\n",
       "      <td>They suggested that optical flux from the neu...</td>\n",
       "      <td>They suggested that optical flux from the neu...</td>\n",
       "    </tr>\n",
       "    <tr>\n",
       "      <th>1</th>\n",
       "      <td>dust. temperatures of 35. 40. 45 and SOWKK are...</td>\n",
       "      <td>dust@ temperatures of 35, 40, 45 and @@@K@ are...</td>\n",
       "      <td>dust. temperatures of 35. 40. 45 and SOWKK are...</td>\n",
       "      <td>dust temperatures of 35, 40, 45 and K are abou...</td>\n",
       "      <td>WWWWW WWWWWWWWWWWW WW WWW WWW WW WWW WWWWW WWW...</td>\n",
       "      <td>WWWW@ WWWWWWWWWWWW WW WWW WWW WW WWW @@@W@ WWW...</td>\n",
       "      <td>WWWWW WWWWWWWWWWWW WW WWW WWW WW WWW WWWWW WWW...</td>\n",
       "      <td>WWWW WWWWWWWWWWWW WW WWW WWW WW WWW W WWW WWWW...</td>\n",
       "      <td>dust. temperatures of 35. 40. 45 and KK are ab...</td>\n",
       "      <td>dust@ temperatures of 35, 40, 45 and K@ are ab...</td>\n",
       "      <td>dust. temperatures of 35. 40. 45 and KK are ab...</td>\n",
       "      <td>dust temperatures of 35, 40, 45 and K are abou...</td>\n",
       "      <td>dust temperatures of 35, 40, 45 and K are abou...</td>\n",
       "    </tr>\n",
       "    <tr>\n",
       "      <th>2</th>\n",
       "      <td>| comparison between the two panels demonstra...</td>\n",
       "      <td>A comparison between the two panels demonstra...</td>\n",
       "      <td>| comparison between the two panels demonstra...</td>\n",
       "      <td>A comparison between the two panels demonstra...</td>\n",
       "      <td>W WWWWWWWWWW WWWWWWW WWW WWW WWWWWW WWWWWWWWW...</td>\n",
       "      <td>W WWWWWWWWWW WWWWWWW WWW WWW WWWWWW WWWWWWWWW...</td>\n",
       "      <td>W WWWWWWWWWW WWWWWWW WWW WWW WWWWWW WWWWWWWWW...</td>\n",
       "      <td>W WWWWWWWWWW WWWWWWW WWW WWW WWWWWW WWWWWWWWW...</td>\n",
       "      <td>| comparison between the two panels demonstra...</td>\n",
       "      <td>A comparison between the two panels demonstra...</td>\n",
       "      <td>| comparison between the two panels demonstra...</td>\n",
       "      <td>A comparison between the two panels demonstra...</td>\n",
       "      <td>A comparison between the two panels demonstra...</td>\n",
       "    </tr>\n",
       "    <tr>\n",
       "      <th>3</th>\n",
       "      <td>Then. equation ^^^^^^^^^^^(7)^) aud equation ...</td>\n",
       "      <td>Then, equation \\ref{con_ang}) ) and equation ...</td>\n",
       "      <td>Then. equation (7)) aud equation (3)) can be ...</td>\n",
       "      <td>Then, equation \\ref{con_ang}) ) and equation ...</td>\n",
       "      <td>WWWWW WWWWWWWW ^^^^^^^^^^^WWW^W WWW WWWWWWWW ...</td>\n",
       "      <td>WWWWW WWWWWWWW RRRRRRRRRRRRRW W WWW WWWWWWWW ...</td>\n",
       "      <td>WWWWW WWWWWWWW WWWW WWW WWWWWWWW WWWW WWW WW ...</td>\n",
       "      <td>WWWWW WWWWWWWW RRRRRRRRRRRRRW W WWW WWWWWWWW ...</td>\n",
       "      <td>Then. equation )@) aud equation )@) can be so...</td>\n",
       "      <td>Then, equation ) ) and equation ) ) can be so...</td>\n",
       "      <td>Then. equation )) aud equation )) can be solv...</td>\n",
       "      <td>Then, equation ) ) and equation ) ) can be so...</td>\n",
       "      <td>Then, equation ) ) and equation ) ) can be so...</td>\n",
       "    </tr>\n",
       "    <tr>\n",
       "      <th>4</th>\n",
       "      <td>We have developed a simple model to estimate ...</td>\n",
       "      <td>We have developed a simple model to estimate ...</td>\n",
       "      <td>We have developed a simple model to estimate ...</td>\n",
       "      <td>We have developed a simple model to estimate ...</td>\n",
       "      <td>WW WWWW WWWWWWWWW W WWWWWW WWWWW WW WWWWWWWW ...</td>\n",
       "      <td>WW WWWW WWWWWWWWW W WWWWWW WWWWW WW WWWWWWWW ...</td>\n",
       "      <td>WW WWWW WWWWWWWWW W WWWWWW WWWWW WW WWWWWWWW ...</td>\n",
       "      <td>WW WWWW WWWWWWWWW W WWWWWW WWWWW WW WWWWWWWW ...</td>\n",
       "      <td>We have developed a simple model to estimate ...</td>\n",
       "      <td>We have developed a simple model to estimate ...</td>\n",
       "      <td>We have developed a simple model to estimate ...</td>\n",
       "      <td>We have developed a simple model to estimate ...</td>\n",
       "      <td>We have developed a simple model to estimate ...</td>\n",
       "    </tr>\n",
       "  </tbody>\n",
       "</table>\n",
       "</div>"
      ],
      "text/plain": [
       "                            aligned sentences source  \\\n",
       "0   Thev suegested that optical {lis [rom the neu...   \n",
       "1  dust. temperatures of 35. 40. 45 and SOWKK are...   \n",
       "2   | comparison between the two panels demonstra...   \n",
       "3   Then. equation ^^^^^^^^^^^(7)^) aud equation ...   \n",
       "4   We have developed a simple model to estimate ...   \n",
       "\n",
       "                            aligned sentences target  \\\n",
       "0   They suggested that optical flux from the neu...   \n",
       "1  dust@ temperatures of 35, 40, 45 and @@@K@ are...   \n",
       "2   A comparison between the two panels demonstra...   \n",
       "3   Then, equation \\ref{con_ang}) ) and equation ...   \n",
       "4   We have developed a simple model to estimate ...   \n",
       "\n",
       "                                    sentences source  \\\n",
       "0   Thev suegested that optical {lis [rom the neu...   \n",
       "1  dust. temperatures of 35. 40. 45 and SOWKK are...   \n",
       "2   | comparison between the two panels demonstra...   \n",
       "3   Then. equation (7)) aud equation (3)) can be ...   \n",
       "4   We have developed a simple model to estimate ...   \n",
       "\n",
       "                                    sentences target  \\\n",
       "0   They suggested that optical flux from the neu...   \n",
       "1  dust temperatures of 35, 40, 45 and K are abou...   \n",
       "2   A comparison between the two panels demonstra...   \n",
       "3   Then, equation \\ref{con_ang}) ) and equation ...   \n",
       "4   We have developed a simple model to estimate ...   \n",
       "\n",
       "                      aligned sentences source types  \\\n",
       "0   WWWW WWWWWWWWW WWWW WWWWWWW WWWW WWWW WWW WWW...   \n",
       "1  WWWWW WWWWWWWWWWWW WW WWW WWW WW WWW WWWWW WWW...   \n",
       "2   W WWWWWWWWWW WWWWWWW WWW WWW WWWWWW WWWWWWWWW...   \n",
       "3   WWWWW WWWWWWWW ^^^^^^^^^^^WWW^W WWW WWWWWWWW ...   \n",
       "4   WW WWWW WWWWWWWWW W WWWWWW WWWWW WW WWWWWWWW ...   \n",
       "\n",
       "                      aligned sentences target types  \\\n",
       "0   WWWW WWWWWWWWW WWWW WWWWWWW WWWW WWWW WWW WWW...   \n",
       "1  WWWW@ WWWWWWWWWWWW WW WWW WWW WW WWW @@@W@ WWW...   \n",
       "2   W WWWWWWWWWW WWWWWWW WWW WWW WWWWWW WWWWWWWWW...   \n",
       "3   WWWWW WWWWWWWW RRRRRRRRRRRRRW W WWW WWWWWWWW ...   \n",
       "4   WW WWWW WWWWWWWWW W WWWWWW WWWWW WW WWWWWWWW ...   \n",
       "\n",
       "                              sentences source types  \\\n",
       "0   WWWW WWWWWWWWW WWWW WWWWWWW WWWW WWWW WWW WWW...   \n",
       "1  WWWWW WWWWWWWWWWWW WW WWW WWW WW WWW WWWWW WWW...   \n",
       "2   W WWWWWWWWWW WWWWWWW WWW WWW WWWWWW WWWWWWWWW...   \n",
       "3   WWWWW WWWWWWWW WWWW WWW WWWWWWWW WWWW WWW WW ...   \n",
       "4   WW WWWW WWWWWWWWW W WWWWWW WWWWW WW WWWWWWWW ...   \n",
       "\n",
       "                              sentences target types  \\\n",
       "0   WWWW WWWWWWWWW WWWW WWWWWWW WWWW WWWW WWW WWW...   \n",
       "1  WWWW WWWWWWWWWWWW WW WWW WWW WW WWW W WWW WWWW...   \n",
       "2   W WWWWWWWWWW WWWWWWW WWW WWW WWWWWW WWWWWWWWW...   \n",
       "3   WWWWW WWWWWWWW RRRRRRRRRRRRRW W WWW WWWWWWWW ...   \n",
       "4   WW WWWW WWWWWWWWW W WWWWWW WWWWW WW WWWWWWWW ...   \n",
       "\n",
       "                                words source aligned  \\\n",
       "0   Thev suegested that optical {lis [rom the neu...   \n",
       "1  dust. temperatures of 35. 40. 45 and KK are ab...   \n",
       "2   | comparison between the two panels demonstra...   \n",
       "3   Then. equation )@) aud equation )@) can be so...   \n",
       "4   We have developed a simple model to estimate ...   \n",
       "\n",
       "                                words target aligned  \\\n",
       "0   They suggested that optical flux from the neu...   \n",
       "1  dust@ temperatures of 35, 40, 45 and K@ are ab...   \n",
       "2   A comparison between the two panels demonstra...   \n",
       "3   Then, equation ) ) and equation ) ) can be so...   \n",
       "4   We have developed a simple model to estimate ...   \n",
       "\n",
       "                                          input_text  \\\n",
       "0   Thev suegested that optical {lis [rom the neu...   \n",
       "1  dust. temperatures of 35. 40. 45 and KK are ab...   \n",
       "2   | comparison between the two panels demonstra...   \n",
       "3   Then. equation )) aud equation )) can be solv...   \n",
       "4   We have developed a simple model to estimate ...   \n",
       "\n",
       "                                         target_text  \\\n",
       "0   They suggested that optical flux from the neu...   \n",
       "1  dust temperatures of 35, 40, 45 and K are abou...   \n",
       "2   A comparison between the two panels demonstra...   \n",
       "3   Then, equation ) ) and equation ) ) can be so...   \n",
       "4   We have developed a simple model to estimate ...   \n",
       "\n",
       "                                      predicted_text  \n",
       "0   They suggested that optical flux from the neu...  \n",
       "1  dust temperatures of 35, 40, 45 and K are abou...  \n",
       "2   A comparison between the two panels demonstra...  \n",
       "3   Then, equation ) ) and equation ) ) can be so...  \n",
       "4   We have developed a simple model to estimate ...  "
      ]
     },
     "execution_count": 8,
     "metadata": {},
     "output_type": "execute_result"
    }
   ],
   "source": [
    "df_byt5_words.head()"
   ]
  },
  {
   "cell_type": "code",
   "execution_count": 13,
   "id": "7e58a008-8fa8-4348-ae60-f0bb619ebf57",
   "metadata": {
    "tags": []
   },
   "outputs": [],
   "source": [
    "def calc_cer_wer(df_byt5_words, input_text_col = 'input_text', \n",
    "                target_text_col='target_text', predicted_text_col='predicted_text'):\n",
    "    # input_text = OCR source in\n",
    "    # target_text = ground truth \n",
    "    # predicted_text = predicted OCR text\n",
    "    cer_before = []; cer_after = []\n",
    "    wer_before = []; wer_after = []\n",
    "    for i in range(len(df_byt5_words)):\n",
    "        d = df_byt5_words.iloc[i]\n",
    "        # before\n",
    "        if not pd.isnull(d[input_text_col]) and not pd.isnull(d[target_text_col]) and not pd.isnull(d[predicted_text_col]):\n",
    "            # also, for ints/floats that got read in\n",
    "            input_text = str(d[input_text_col])\n",
    "            target_text = str(d[target_text_col])\n",
    "            predicted_text = str(d[predicted_text_col])\n",
    "            cbefore = fastwer.score_sent(input_text,\n",
    "                                         target_text,\n",
    "                                         char_level=True)\n",
    "            wbefore = fastwer.score_sent(input_text,\n",
    "                                         target_text,\n",
    "                                         char_level=False)\n",
    "            # after\n",
    "            cafter = fastwer.score_sent(predicted_text,\n",
    "                                         target_text,\n",
    "                                         char_level=True)\n",
    "            wafter = fastwer.score_sent(predicted_text,\n",
    "                                         target_text,\n",
    "                                         char_level=False)\n",
    "        else:\n",
    "            cbefore = np.nan\n",
    "            wbefore = np.nan\n",
    "            cafter = np.nan\n",
    "            wafter = np.nan\n",
    "\n",
    "        cer_before.append(cbefore)\n",
    "        wer_before.append(wbefore)\n",
    "        cer_after.append(cafter)\n",
    "        wer_after.append(wafter)\n",
    "\n",
    "    df_byt5_words['CER Before'] = cer_before\n",
    "    df_byt5_words['WER Before'] = wer_before\n",
    "    df_byt5_words['CER After'] = cer_after\n",
    "    df_byt5_words['WER After'] = wer_after\n",
    "    return df_byt5_words"
   ]
  },
  {
   "cell_type": "code",
   "execution_count": 10,
   "id": "7cd48041-5781-4b49-9f39-e80db1f4bf3f",
   "metadata": {},
   "outputs": [],
   "source": [
    "#df_byt5_words = calc_cer_wer(df_byt5_words.copy())"
   ]
  },
  {
   "cell_type": "code",
   "execution_count": null,
   "id": "5ea8b035-cf96-4613-8e03-3fb629595afb",
   "metadata": {},
   "outputs": [],
   "source": []
  },
  {
   "cell_type": "code",
   "execution_count": 11,
   "id": "9a81d4f1-f155-4073-bcbf-e30371a2716a",
   "metadata": {
    "tags": []
   },
   "outputs": [
    {
     "data": {
      "image/png": "[encoded data removed]",
      "text/plain": [
       "<Figure size 1200x600 with 2 Axes>"
      ]
     },
     "metadata": {},
     "output_type": "display_data"
    }
   ],
   "source": [
    "fig, ax = plt.subplots(1,2,figsize=(12,6))\n",
    "df_byt5_words.plot(x = 'CER Before', y = 'CER After', kind='scatter',ax=ax[0])\n",
    "xlim = ax[0].get_xlim()\n",
    "ylim = ax[0].get_ylim()\n",
    "ax[0].plot([xlim[0],xlim[1]], [xlim[0],xlim[1]], '--', color='orange')\n",
    "\n",
    "df_byt5_words.plot(x = 'WER Before', y = 'WER After', kind='scatter',ax=ax[1])\n",
    "xlim = ax[1].get_xlim()\n",
    "ylim = ax[1].get_ylim()\n",
    "ax[1].plot([xlim[0],xlim[1]], [xlim[0],xlim[1]], '--', color='orange')\n",
    "\n",
    "plt.show()"
   ]
  },
  {
   "cell_type": "code",
   "execution_count": 14,
   "id": "5f771138-56cc-418e-97f6-8c8e7ef26f2c",
   "metadata": {
    "tags": []
   },
   "outputs": [],
   "source": [
    "def get_iqr(df_byt5_words,col):\n",
    "    colvalue = df_byt5_words[col]\n",
    "    colvalue = colvalue[~np.isnan(colvalue)]\n",
    "    Q3 = np.quantile(colvalue, 0.75)\n",
    "    Q1 = np.quantile(colvalue, 0.25)\n",
    "    IQR = Q3 - Q1\n",
    "    return IQR"
   ]
  },
  {
   "cell_type": "code",
   "execution_count": 15,
   "id": "ae1c0cad-274c-477e-9224-89febd7f6b28",
   "metadata": {
    "tags": []
   },
   "outputs": [],
   "source": [
    "def get_iqr_by_value(colvalue):\n",
    "    Q3 = np.quantile(colvalue, 0.75)\n",
    "    Q1 = np.quantile(colvalue, 0.25)\n",
    "    IQR = Q3 - Q1\n",
    "    return IQR"
   ]
  },
  {
   "cell_type": "code",
   "execution_count": 16,
   "id": "204aa3a5-e9d4-40b5-a08c-123e739065d9",
   "metadata": {
    "tags": []
   },
   "outputs": [],
   "source": [
    "def get_stats(df_byt5_words,col, round_val = 2, print_nans=False):\n",
    "    colvalue = df_byt5_words[col]\n",
    "    colvalue = colvalue[~np.isnan(colvalue)]\n",
    "    # how many nan's\n",
    "    if print_nans: print('# NaNs =', len(df_byt5_words[col])-len(colvalue))\n",
    "    med = colvalue.median()\n",
    "    mea = colvalue.mean()\n",
    "    std = colvalue.std()\n",
    "    iqr = get_iqr_by_value(colvalue)\n",
    "    return round(mea,round_val), round(med,round_val), round(std,round_val), round(iqr,round_val)"
   ]
  },
  {
   "cell_type": "code",
   "execution_count": 17,
   "id": "0ebb4a6f-fc07-4773-9a0a-29150c575034",
   "metadata": {
    "tags": []
   },
   "outputs": [],
   "source": [
    "def get_improvement_stats(df_byt5_words,col_before, col_after, round_val = 2):\n",
    "    colvalueb = df_byt5_words[col_before]\n",
    "    colvalueb = colvalueb[~np.isnan(colvalueb)]\n",
    "    colvaluea = df_byt5_words[col_after]\n",
    "    colvaluea = colvaluea[~np.isnan(colvaluea)]\n",
    "    mask = colvalueb != 0\n",
    "    colvalue = 100*(1-colvaluea[mask]/colvalueb[mask])\n",
    "    med = colvalue.median()\n",
    "    mea = colvalue.mean()\n",
    "    std = colvalue.std()\n",
    "    iqr = get_iqr_by_value(colvalue)\n",
    "    return round(mea,round_val), round(med,round_val), round(std,round_val), round(iqr,round_val)    "
   ]
  },
  {
   "cell_type": "code",
   "execution_count": 18,
   "id": "6e44b0c6-16e5-4233-891b-8bea1bc0cbc0",
   "metadata": {
    "tags": []
   },
   "outputs": [],
   "source": [
    "# x = 9.6\n",
    "# format(x, '.2f')"
   ]
  },
  {
   "cell_type": "code",
   "execution_count": 19,
   "id": "e5ed1c4a-bca5-404e-8562-3b2bfed5c6a9",
   "metadata": {
    "tags": []
   },
   "outputs": [],
   "source": [
    "def save_dat(fname,data,formatting = None, round_val = 2):\n",
    "    if formatting == ',':\n",
    "        all_arts = \"{:,}\".format(successful_align_pages)\n",
    "    elif formatting == 'zfill':\n",
    "        all_arts = data\n",
    "        if 'NaN' not in str(all_arts):\n",
    "            all_arts = format(all_arts,'.'+str(round_val)+'f')\n",
    "    else:\n",
    "        all_arts = data\n",
    "    with open(fname, 'w') as f:\n",
    "        print(all_arts, file=f,end='')"
   ]
  },
  {
   "cell_type": "code",
   "execution_count": 20,
   "id": "399746d3-8e5a-4a35-817c-7cb6fc2fc40f",
   "metadata": {
    "tags": []
   },
   "outputs": [],
   "source": [
    "def get_print_stats(df_byt5_words, before='Before', after = 'After'):\n",
    "    print('--------- Before -------------')\n",
    "    mea_cbefore,med_cbefore,std_cbefore,iqr_cbefore = get_stats(df_byt5_words,'CER '+before, print_nans=True)\n",
    "    print('CER : mean =', mea_cbefore, ', std =', std_cbefore, ', median =',med_cbefore, ', iqr =', iqr_cbefore)\n",
    "    mea_wbefore,med_wbefore,std_wbefore,iqr_wbefore = get_stats(df_byt5_words,'WER '+before)\n",
    "    print('WER : mean =', mea_wbefore, ', std =', std_wbefore, ', median =',med_wbefore, ', iqr =', iqr_wbefore)\n",
    "    print('')\n",
    "    print('--------- After -------------')\n",
    "    mea_cafter,med_cafter,std_cafter,iqr_cafter = get_stats(df_byt5_words,'CER '+after)\n",
    "    print('CER : mean =', mea_cafter, ', std =', std_cafter, ', median =',med_cafter, ', iqr =', iqr_cafter)\n",
    "    mea_wafter,med_wafter,std_wafter,iqr_wafter = get_stats(df_byt5_words,'WER '+after)\n",
    "    print('WER : mean =', mea_wafter, ', std =', std_wafter, ', median =',med_wafter, ', iqr =', iqr_wafter)\n",
    "    print('')\n",
    "    # improvement\n",
    "    #improvement = lambda df: 100 * (1 - df.cer_after / df.cer_before)\n",
    "    mea_c,med_c,std_c,iqr_c = get_improvement_stats(df_byt5_words,'CER '+before, 'CER '+after)\n",
    "    print('------------ Improvement ----------------')\n",
    "    print('CER : mean = ', mea_c, ', std =', std_c, ', median =',med_c, ', iqr =', iqr_c)\n",
    "    mea_w,med_w,std_w,iqr_w = get_improvement_stats(df_byt5_words,'WER '+before, 'WER '+after)\n",
    "    print('WER : mean = ', mea_w, ', std =', std_w, ', median =',med_w, ', iqr =', iqr_w)\n",
    "    # numbers of better and worse\n",
    "    # CER after should be < CER before if the model is corrected\n",
    "    mask = df_byt5_words['CER '+before] < df_byt5_words['CER ' + after] # CER should go down after correction -- cer before correction < cer after is wrong -- how many wrong?\n",
    "    print('CER : How many better =', len(df_byt5_words[~mask]), ', how many worse (or same) =', len(df_byt5_words[mask]), \n",
    "          ', % better =', round(len(df_byt5_words[~mask])/len(df_byt5_words)*100,2))\n",
    "    cerImp = round(len(df_byt5_words[~mask])/len(df_byt5_words)*100,2)\n",
    "    mask = df_byt5_words['WER '+before] < df_byt5_words['WER ' + after]\n",
    "    print('WER : How many better =', len(df_byt5_words[~mask]), ', how many worse (or same) =', len(df_byt5_words[mask]), \n",
    "         ', % better =', round(len(df_byt5_words[~mask])/len(df_byt5_words)*100,2))\n",
    "    werImp = round(len(df_byt5_words[~mask])/len(df_byt5_words)*100,2)\n",
    "    \n",
    "    return mea_cbefore,med_cbefore,std_cbefore,iqr_cbefore, mea_wbefore,med_wbefore,std_wbefore,iqr_wbefore, \\\n",
    "     mea_cafter,med_cafter,std_cafter,iqr_cafter, mea_wafter,med_wafter,std_wafter,iqr_wafter, \\\n",
    "     mea_c,med_c,std_c,iqr_c, mea_w,med_w,std_w,iqr_w, cerImp, werImp"
   ]
  },
  {
   "cell_type": "code",
   "execution_count": 19,
   "id": "88368579-5b1a-4151-81b9-d5399f8ded1a",
   "metadata": {
    "tags": []
   },
   "outputs": [],
   "source": [
    "# print('')\n",
    "# mea_cbefore,med_cbefore,std_cbefore,iqr_cbefore, mea_wbefore,med_wbefore,std_wbefore,iqr_wbefore, \\\n",
    "#      mea_cafter,med_cafter,std_cafter,iqr_cafter, mea_wafter,med_wafter,std_wafter,iqr_wafter, \\\n",
    "#      mea_c,med_c,std_c,iqr_c, mea_w,med_w,std_w,iqr_w, cerImp, werImp = get_print_stats(df_byt5_words_full_fix, before=before, after = after)"
   ]
  },
  {
   "cell_type": "code",
   "execution_count": 20,
   "id": "7bacfe0a-ca74-41d3-b11f-16c92a142766",
   "metadata": {
    "tags": []
   },
   "outputs": [
    {
     "name": "stdout",
     "output_type": "stream",
     "text": [
      "--------- Before -------------\n",
      "# NaNs = 35\n",
      "CER : mean = 5.5 , std = 17.46 , median = 3.01 , iqr = 5.22\n",
      "WER : mean = 15.34 , std = 14.53 , median = 13.04 , iqr = 17.46\n",
      "\n",
      "--------- After -------------\n",
      "CER : mean = 2.37 , std = 11.29 , median = 0.35 , iqr = 1.77\n",
      "WER : mean = 6.46 , std = 13.44 , median = 2.13 , iqr = 8.82\n",
      "\n",
      "------------ Improvement ----------------\n",
      "CER : mean =  67.35 , std = 60.25 , median = 83.33 , iqr = 50.0\n",
      "WER : mean =  60.18 , std = 59.94 , median = 80.0 , iqr = 50.0\n",
      "CER : How many better = 4650 , how many worse (or same) = 350 , % better = 93.0\n",
      "WER : How many better = 4519 , how many worse (or same) = 481 , % better = 90.38\n"
     ]
    }
   ],
   "source": [
    "# before = 'Before'; after = 'After'\n",
    "\n",
    "# print('--------- Before -------------')\n",
    "# mea_cbefore,med_cbefore,std_cbefore,iqr_cbefore = get_stats(df_byt5_words,'CER Before', print_nans=True)\n",
    "# print('CER : mean =', mea_cbefore, ', std =', std_cbefore, ', median =',med_cbefore, ', iqr =', iqr_cbefore)\n",
    "# mea_wbefore,med_wbefore,std_wbefore,iqr_wbefore = get_stats(df_byt5_words,'WER Before')\n",
    "# print('WER : mean =', mea_wbefore, ', std =', std_wbefore, ', median =',med_wbefore, ', iqr =', iqr_wbefore)\n",
    "# print('')\n",
    "# print('--------- After -------------')\n",
    "# mea_cafter,med_cafter,std_cafter,iqr_cafter = get_stats(df_byt5_words,'CER After')\n",
    "# print('CER : mean =', mea_cafter, ', std =', std_cafter, ', median =',med_cafter, ', iqr =', iqr_cafter)\n",
    "# mea_wafter,med_wafter,std_wafter,iqr_wafter = get_stats(df_byt5_words,'WER After')\n",
    "# print('WER : mean =', mea_wafter, ', std =', std_wafter, ', median =',med_wafter, ', iqr =', iqr_wafter)\n",
    "# print('')\n",
    "# # improvement\n",
    "# #improvement = lambda df: 100 * (1 - df.cer_after / df.cer_before)\n",
    "# mea_c,med_c,std_c,iqr_c = get_improvement_stats(df_byt5_words,'CER Before', 'CER After')\n",
    "# print('------------ Improvement ----------------')\n",
    "# print('CER : mean = ', mea_c, ', std =', std_c, ', median =',med_c, ', iqr =', iqr_c)\n",
    "# mea_w,med_w,std_w,iqr_w = get_improvement_stats(df_byt5_words,'WER Before', 'WER After')\n",
    "# print('WER : mean = ', mea_w, ', std =', std_w, ', median =',med_w, ', iqr =', iqr_w)\n",
    "# # # numbers of better and worse\n",
    "# # mask = test_data['CER '+before] < test_data['CER ' + after] # CER should go down after correction -- cer before correction < cer after is wrong -- how many wrong?\n",
    "# # print('CER : How many better =', len(df_byt5_words[~mask]), ', how many worse (or same) =', len(df_byt5_words[mask]), \n",
    "# #       ', % better =', round(len(df_byt5_words[~mask])/len(df_byt5_words)*100,2))\n",
    "# # cerImp = round(len(df_byt5_words[~mask])/len(df_byt5_words)*100,2)\n",
    "# # mask = test_data['WER '+before] < test_data['WER ' + after]\n",
    "# # print('WER : How many better =', len(df_byt5_words[~mask]), ', how many worse (or same) =', len(df_byt5_words[mask]), \n",
    "# #      ', % better =', round(len(df_byt5_words[~mask])/len(df_byt5_words)*100,2))\n",
    "# # werImp = round(len(df_byt5_words[~mask])/len(df_byt5_words)*100,2)\n",
    "# # # save all of these\n",
    "\n",
    "mea_cbefore,med_cbefore,std_cbefore,iqr_cbefore, mea_wbefore,med_wbefore,std_wbefore,iqr_wbefore, \\\n",
    "     mea_cafter,med_cafter,std_cafter,iqr_cafter, mea_wafter,med_wafter,std_wafter,iqr_wafter, \\\n",
    "     mea_c,med_c,std_c,iqr_c, mea_w,med_w,std_w,iqr_w, cerImp, werImp = get_print_stats(df_byt5_words, before='Before', after = 'After')"
   ]
  },
  {
   "cell_type": "markdown",
   "id": "95bf3ee3-8693-42e8-83a1-1fa0bd21d692",
   "metadata": {},
   "source": [
    "~~Also try with combining the full dataset:~~ this actually kills the kernel!"
   ]
  },
  {
   "cell_type": "code",
   "execution_count": 21,
   "id": "4ce89942-b754-435a-8122-6ab9e312af63",
   "metadata": {
    "tags": []
   },
   "outputs": [],
   "source": [
    "# before_all = ''; after_all = ''\n",
    "# input_text_col = 'input_text'\n",
    "# target_text_col='target_text'\n",
    "# predicted_text_col='predicted_text'\n",
    "\n",
    "# predicted_text_all = ''\n",
    "# target_text_all = ''\n",
    "# input_text_all = ''\n",
    "\n",
    "# for i in range(len(df_byt5_words)):\n",
    "#     d = df_byt5_words.iloc[i]\n",
    "#     # before\n",
    "#     if not pd.isnull(d[input_text_col]) and not pd.isnull(d[target_text_col]) and not pd.isnull(d[predicted_text_col]):\n",
    "#         # also, for ints/floats that got read in\n",
    "#         input_text = str(d[input_text_col])\n",
    "#         target_text = str(d[target_text_col])\n",
    "#         predicted_text = str(d[predicted_text_col])\n",
    "        \n",
    "#         predicted_text_all += predicted_text\n",
    "#         target_text_all += target_text\n",
    "#         input_text_all += input_text\n",
    "        \n",
    "# print('done')\n",
    "\n",
    "# cbefore = fastwer.score_sent(input_text_all,\n",
    "#                              target_text_all,\n",
    "#                              char_level=True)\n",
    "# wbefore = fastwer.score_sent(input_text_all,\n",
    "#                              target_text_all,\n",
    "#                              char_level=False)\n",
    "# # after\n",
    "# cafter = fastwer.score_sent(predicted_text_all,\n",
    "#                              target_text_all,\n",
    "#                              char_level=True)\n",
    "# wafter = fastwer.score_sent(predicted_text_all,\n",
    "#                              target_text_all,\n",
    "#                              char_level=False)\n",
    "\n",
    "# print(len(predicted_text_all), len(target_text_all), len(input_text_all))\n",
    "# print(cbefore, wbefore)\n",
    "# print(cafter,wafter)"
   ]
  },
  {
   "cell_type": "code",
   "execution_count": null,
   "id": "a934d28e-6633-422e-84c3-79b412cf78eb",
   "metadata": {},
   "outputs": [],
   "source": []
  },
  {
   "cell_type": "code",
   "execution_count": 22,
   "id": "e3d00640-24e9-4d07-913a-8b165e19db6b",
   "metadata": {
    "tags": []
   },
   "outputs": [],
   "source": [
    "# save everything\n",
    "dats = [mea_cbefore,mea_wbefore,mea_cafter,mea_wafter,\n",
    "        mea_c,mea_w,cerImp,werImp]\n",
    "names_start = 'byt5_onlyWords_small'\n",
    "datnames = ['mean_cer_before','mean_wer_before','mean_cer_after','mean_wer_after',\n",
    "            'mean_cer_imp','mean_wer_imp','cerImp','werImp']\n",
    "for d,n in zip(dats,datnames):\n",
    "    save_dat(save_dats_dir+names_start+n+'.dat',d,formatting='zfill')"
   ]
  },
  {
   "cell_type": "markdown",
   "id": "5bb95077-71de-4fc4-8194-d74d8785d7fc",
   "metadata": {},
   "source": [
    "## Byt5, Historical, Only Words"
   ]
  },
  {
   "cell_type": "code",
   "execution_count": 23,
   "id": "e3f48af4-c913-4a85-bd2a-dfffbc232a74",
   "metadata": {
    "tags": []
   },
   "outputs": [],
   "source": [
    "# only words, byt5\n",
    "output_dir_inf = '/Users/jnaiman/Dropbox/wwt_image_extraction/OCRPostCorrection/inferences/historical/'\n",
    "ender = '_small_words' # 100k for training, 5k val (in the arxiv data)"
   ]
  },
  {
   "cell_type": "code",
   "execution_count": 24,
   "id": "7d701bcf-f372-4d25-92c3-23dda811d6df",
   "metadata": {
    "tags": []
   },
   "outputs": [],
   "source": [
    "inf_files = glob(output_dir_inf + '*'+ender+'.csv')\n",
    "inf_files.sort()\n",
    "for i,f in enumerate(inf_files):\n",
    "    d = pd.read_csv(f)\n",
    "    if i == 0: # first\n",
    "        df_byt5_words_h = d.copy()\n",
    "    else: # others\n",
    "        df_byt5_words_h = pd.concat([df_byt5_words_h,d],ignore_index=True)"
   ]
  },
  {
   "cell_type": "code",
   "execution_count": 25,
   "id": "436423d9-ad25-4a98-aad4-fa74a0e7e93e",
   "metadata": {
    "tags": []
   },
   "outputs": [
    {
     "data": {
      "text/html": [
       "<div>\n",
       "<style scoped>\n",
       "    .dataframe tbody tr th:only-of-type {\n",
       "        vertical-align: middle;\n",
       "    }\n",
       "\n",
       "    .dataframe tbody tr th {\n",
       "        vertical-align: top;\n",
       "    }\n",
       "\n",
       "    .dataframe thead th {\n",
       "        text-align: right;\n",
       "    }\n",
       "</style>\n",
       "<table border=\"1\" class=\"dataframe\">\n",
       "  <thead>\n",
       "    <tr style=\"text-align: right;\">\n",
       "      <th></th>\n",
       "      <th>input_text_unclean</th>\n",
       "      <th>target_text_unclean</th>\n",
       "      <th>filename</th>\n",
       "      <th>page</th>\n",
       "      <th>sent num</th>\n",
       "      <th>type</th>\n",
       "      <th>input_text</th>\n",
       "      <th>target_text</th>\n",
       "      <th>predicted_text</th>\n",
       "    </tr>\n",
       "  </thead>\n",
       "  <tbody>\n",
       "    <tr>\n",
       "      <th>0</th>\n",
       "      <td>In 1859, when only twenty-one years of age, he...</td>\n",
       "      <td>In 1859, when only twenty-one years of age, he...</td>\n",
       "      <td>1905ApJ____22____1R</td>\n",
       "      <td>0</td>\n",
       "      <td>3</td>\n",
       "      <td>plain</td>\n",
       "      <td>In 1859, when only twenty-one years of age, he...</td>\n",
       "      <td>In 1859, when only twenty-one years of age, he...</td>\n",
       "      <td>In 1859, when only twenty-one years of age, he...</td>\n",
       "    </tr>\n",
       "    <tr>\n",
       "      <th>1</th>\n",
       "      <td>*Both the nebula and the comet are seen on a n...</td>\n",
       "      <td>\"Both the nebula and the comet are seen on a n...</td>\n",
       "      <td>1907ApJ____25__218B</td>\n",
       "      <td>9</td>\n",
       "      <td>0</td>\n",
       "      <td>plain</td>\n",
       "      <td>*Both the nebula and the comet are seen on a n...</td>\n",
       "      <td>\"Both the nebula and the comet are seen on a n...</td>\n",
       "      <td>Both the nebula and the comet are seen on a n...</td>\n",
       "    </tr>\n",
       "    <tr>\n",
       "      <th>2</th>\n",
       "      <td>A plate can be exposed night after night, if d...</td>\n",
       "      <td>A plate can be exposed night after night, if d...</td>\n",
       "      <td>1910ApJ____32___26R</td>\n",
       "      <td>6</td>\n",
       "      <td>11</td>\n",
       "      <td>plain</td>\n",
       "      <td>A plate can be exposed night after night, if d...</td>\n",
       "      <td>A plate can be exposed night after night, if d...</td>\n",
       "      <td>A plate can be exposed night after night, if d...</td>\n",
       "    </tr>\n",
       "    <tr>\n",
       "      <th>3</th>\n",
       "      <td>ture only, we must assume that, as we ascend t...</td>\n",
       "      <td>ture only, we must assume that, as we ascend t...</td>\n",
       "      <td>1913ApJ____38__407M</td>\n",
       "      <td>86</td>\n",
       "      <td>0</td>\n",
       "      <td>plain</td>\n",
       "      <td>ture only, we must assume that, as we ascend t...</td>\n",
       "      <td>ture only, we must assume that, as we ascend t...</td>\n",
       "      <td>ture only, we must assume that, as we ascend t...</td>\n",
       "    </tr>\n",
       "    <tr>\n",
       "      <th>4</th>\n",
       "      <td>An image of it was pro-jected upon the plate, ...</td>\n",
       "      <td>An image of it was projected upon the plate, g...</td>\n",
       "      <td>1916ApJ____44___65W</td>\n",
       "      <td>4</td>\n",
       "      <td>3</td>\n",
       "      <td>plain</td>\n",
       "      <td>An image of it was pro-jected upon the plate, ...</td>\n",
       "      <td>An image of it was projected upon the plate, g...</td>\n",
       "      <td>An image of it was pro-jected upon the plate, ...</td>\n",
       "    </tr>\n",
       "  </tbody>\n",
       "</table>\n",
       "</div>"
      ],
      "text/plain": [
       "                                  input_text_unclean  \\\n",
       "0  In 1859, when only twenty-one years of age, he...   \n",
       "1  *Both the nebula and the comet are seen on a n...   \n",
       "2  A plate can be exposed night after night, if d...   \n",
       "3  ture only, we must assume that, as we ascend t...   \n",
       "4  An image of it was pro-jected upon the plate, ...   \n",
       "\n",
       "                                 target_text_unclean             filename  \\\n",
       "0  In 1859, when only twenty-one years of age, he...  1905ApJ____22____1R   \n",
       "1  \"Both the nebula and the comet are seen on a n...  1907ApJ____25__218B   \n",
       "2  A plate can be exposed night after night, if d...  1910ApJ____32___26R   \n",
       "3  ture only, we must assume that, as we ascend t...  1913ApJ____38__407M   \n",
       "4  An image of it was projected upon the plate, g...  1916ApJ____44___65W   \n",
       "\n",
       "   page  sent num   type                                         input_text  \\\n",
       "0     0         3  plain  In 1859, when only twenty-one years of age, he...   \n",
       "1     9         0  plain  *Both the nebula and the comet are seen on a n...   \n",
       "2     6        11  plain  A plate can be exposed night after night, if d...   \n",
       "3    86         0  plain  ture only, we must assume that, as we ascend t...   \n",
       "4     4         3  plain  An image of it was pro-jected upon the plate, ...   \n",
       "\n",
       "                                         target_text  \\\n",
       "0  In 1859, when only twenty-one years of age, he...   \n",
       "1  \"Both the nebula and the comet are seen on a n...   \n",
       "2  A plate can be exposed night after night, if d...   \n",
       "3  ture only, we must assume that, as we ascend t...   \n",
       "4  An image of it was projected upon the plate, g...   \n",
       "\n",
       "                                      predicted_text  \n",
       "0  In 1859, when only twenty-one years of age, he...  \n",
       "1   Both the nebula and the comet are seen on a n...  \n",
       "2  A plate can be exposed night after night, if d...  \n",
       "3  ture only, we must assume that, as we ascend t...  \n",
       "4  An image of it was pro-jected upon the plate, ...  "
      ]
     },
     "execution_count": 25,
     "metadata": {},
     "output_type": "execute_result"
    }
   ],
   "source": [
    "df_byt5_words_h.head()"
   ]
  },
  {
   "cell_type": "code",
   "execution_count": 26,
   "id": "88aef4dc-44de-43d4-b44d-4aaaf3d005b3",
   "metadata": {
    "tags": []
   },
   "outputs": [],
   "source": [
    "df_byt5_words_h = calc_cer_wer(df_byt5_words_h.copy())"
   ]
  },
  {
   "cell_type": "code",
   "execution_count": 27,
   "id": "52ce7b13-ad72-4690-913f-ecbb9832374d",
   "metadata": {
    "tags": []
   },
   "outputs": [
    {
     "data": {
      "image/png": "[encoded data removed]",
      "text/plain": [
       "<Figure size 1200x600 with 2 Axes>"
      ]
     },
     "metadata": {},
     "output_type": "display_data"
    }
   ],
   "source": [
    "fig, ax = plt.subplots(1,2,figsize=(12,6))\n",
    "df_byt5_words_h.plot(x = 'CER Before', y = 'CER After', kind='scatter',ax=ax[0])\n",
    "xlim = ax[0].get_xlim()\n",
    "ylim = ax[0].get_ylim()\n",
    "ax[0].plot([xlim[0],xlim[1]], [xlim[0],xlim[1]], '--', color='orange')\n",
    "\n",
    "df_byt5_words_h.plot(x = 'WER Before', y = 'WER After', kind='scatter',ax=ax[1])\n",
    "xlim = ax[1].get_xlim()\n",
    "ylim = ax[1].get_ylim()\n",
    "ax[1].plot([xlim[0],xlim[1]], [xlim[0],xlim[1]], '--', color='orange')\n",
    "\n",
    "plt.show()"
   ]
  },
  {
   "cell_type": "code",
   "execution_count": 28,
   "id": "2518836e-7cc4-44b8-b0a3-e7e3d542185b",
   "metadata": {
    "tags": []
   },
   "outputs": [
    {
     "name": "stdout",
     "output_type": "stream",
     "text": [
      "--------- Before -------------\n",
      "# NaNs = 0\n",
      "CER : mean = 0.68 , std = 1.71 , median = 0.0 , iqr = 0.59\n",
      "WER : mean = 2.37 , std = 3.9 , median = 0.0 , iqr = 3.48\n",
      "\n",
      "--------- After -------------\n",
      "CER : mean = 1.19 , std = 2.79 , median = 0.37 , iqr = 1.18\n",
      "WER : mean = 4.21 , std = 6.1 , median = 2.17 , iqr = 6.35\n",
      "\n",
      "------------ Improvement ----------------\n",
      "CER : mean =  -39.43 , std = 117.01 , median = 0.0 , iqr = 0.0\n",
      "WER : mean =  -15.24 , std = 46.39 , median = 0.0 , iqr = 0.0\n",
      "CER : How many better = 84 , how many worse (or same) = 24 , % better = 77.78\n",
      "WER : How many better = 84 , how many worse (or same) = 24 , % better = 77.78\n"
     ]
    }
   ],
   "source": [
    "# print('--------- Before -------------')\n",
    "# mea_cbefore,med_cbefore,std_cbefore,iqr_cbefore = get_stats(df_byt5_words_h,'CER Before', print_nans=True)\n",
    "# print('CER : mean =', mea_cbefore, ', std =', std_cbefore, ', median =',med_cbefore, ', iqr =', iqr_cbefore)\n",
    "# mea_wbefore,med_wbefore,std_wbefore,iqr_wbefore = get_stats(df_byt5_words_h,'WER Before')\n",
    "# print('WER : mean =', mea_wbefore, ', std =', std_wbefore, ', median =',med_wbefore, ', iqr =', iqr_wbefore)\n",
    "# print('')\n",
    "# print('--------- After -------------')\n",
    "# mea_cafter,med_cafter,std_cafter,iqr_cafter = get_stats(df_byt5_words_h,'CER After')\n",
    "# print('CER : mean =', mea_cafter, ', std =', std_cafter, ', median =',med_cafter, ', iqr =', iqr_cafter)\n",
    "# mea_wafter,med_wafter,std_wafter,iqr_wafter = get_stats(df_byt5_words_h,'WER After')\n",
    "# print('WER : mean =', mea_wafter, ', std =', std_wafter, ', median =',med_wafter, ', iqr =', iqr_wafter)\n",
    "# print('')\n",
    "# # improvement\n",
    "# #improvement = lambda df: 100 * (1 - df.cer_after / df.cer_before)\n",
    "# mea_c,med_c,std_c,iqr_c = get_improvement_stats(df_byt5_words_h,'CER Before', 'CER After')\n",
    "# print('------------ Improvement ----------------')\n",
    "# print('CER : mean = ', mea_c, ', std =', std_c, ', median =',med_c, ', iqr =', iqr_c)\n",
    "# mea_w,med_w,std_w,iqr_w = get_improvement_stats(df_byt5_words_h,'WER Before', 'WER After')\n",
    "# print('WER : mean = ', mea_w, ', std =', std_w, ', median =',med_w, ', iqr =', iqr_w)\n",
    "\n",
    "# # save all of these\n",
    "mea_cbefore,med_cbefore,std_cbefore,iqr_cbefore, mea_wbefore,med_wbefore,std_wbefore,iqr_wbefore, \\\n",
    "     mea_cafter,med_cafter,std_cafter,iqr_cafter, mea_wafter,med_wafter,std_wafter,iqr_wafter, \\\n",
    "     mea_c,med_c,std_c,iqr_c, mea_w,med_w,std_w,iqr_w, cerImp, werImp = get_print_stats(df_byt5_words_h, before='Before', after = 'After')"
   ]
  },
  {
   "cell_type": "markdown",
   "id": "70c3efcc-0c10-42de-a10e-9cf680e036c8",
   "metadata": {},
   "source": [
    "So, just with words, doesn't really fix anything, which is interesting."
   ]
  },
  {
   "cell_type": "markdown",
   "id": "0282b6a3-8be4-4494-a113-65e7429de1f3",
   "metadata": {},
   "source": [
    "## byt5, full, arxiv"
   ]
  },
  {
   "cell_type": "code",
   "execution_count": 29,
   "id": "d405cf98-1554-4ae5-84b6-8ac76b62ce4e",
   "metadata": {
    "tags": []
   },
   "outputs": [],
   "source": [
    "# only words, byt5\n",
    "output_dir_inf = '/Users/jnaiman/Dropbox/wwt_image_extraction/OCRPostCorrection/inferences/latex_full/'\n",
    "\n",
    "ender = '_full_large' # 100k for training, 5k val"
   ]
  },
  {
   "cell_type": "code",
   "execution_count": 30,
   "id": "d43859b8-5cea-43aa-951d-693e30104fe5",
   "metadata": {
    "tags": []
   },
   "outputs": [],
   "source": [
    "inf_files = glob(output_dir_inf + '*'+ender+'.csv')\n",
    "inf_files.sort()\n",
    "for i,f in enumerate(inf_files):\n",
    "    d = pd.read_csv(f)\n",
    "    if i == 0: # first\n",
    "        df_byt5_words_full = d.copy()\n",
    "    else: # others\n",
    "        df_byt5_words_full = pd.concat([df_byt5_words_full,d],ignore_index=True)"
   ]
  },
  {
   "cell_type": "code",
   "execution_count": 31,
   "id": "5a88d773-5b4e-496d-9d97-bab4d84a3cfa",
   "metadata": {
    "tags": []
   },
   "outputs": [
    {
     "data": {
      "text/html": [
       "<div>\n",
       "<style scoped>\n",
       "    .dataframe tbody tr th:only-of-type {\n",
       "        vertical-align: middle;\n",
       "    }\n",
       "\n",
       "    .dataframe tbody tr th {\n",
       "        vertical-align: top;\n",
       "    }\n",
       "\n",
       "    .dataframe thead th {\n",
       "        text-align: right;\n",
       "    }\n",
       "</style>\n",
       "<table border=\"1\" class=\"dataframe\">\n",
       "  <thead>\n",
       "    <tr style=\"text-align: right;\">\n",
       "      <th></th>\n",
       "      <th>aligned sentences source</th>\n",
       "      <th>aligned sentences target</th>\n",
       "      <th>input_text</th>\n",
       "      <th>target_text</th>\n",
       "      <th>aligned sentences source types</th>\n",
       "      <th>aligned sentences target types</th>\n",
       "      <th>sentences source types</th>\n",
       "      <th>sentences target types</th>\n",
       "      <th>predicted_text</th>\n",
       "    </tr>\n",
       "  </thead>\n",
       "  <tbody>\n",
       "    <tr>\n",
       "      <th>0</th>\n",
       "      <td>A histogram of the ^^^^^^^Va^^^ /slope for dw...</td>\n",
       "      <td>A histogram of the $_{\\rm max}$ /slope for dw...</td>\n",
       "      <td>A histogram of the Va /slope for dwarf irregu...</td>\n",
       "      <td>A histogram of the $_{\\rm max}$ /slope for dw...</td>\n",
       "      <td>W WWWWWWWWW WW WWW ^^^^^^^II^^^ WWWWWW WWW WW...</td>\n",
       "      <td>W WWWWWWWWW WW WWW IIIIIIIIIIII WWWWWW WWW WW...</td>\n",
       "      <td>W WWWWWWWWW WW WWW II WWWWWW WWW WWWWW WWWWWW...</td>\n",
       "      <td>W WWWWWWWWW WW WWW IIIIIIIIIIII WWWWWW WWW WW...</td>\n",
       "      <td>A histogram of the $V_{\\rm d}$ /slope for dwa...</td>\n",
       "    </tr>\n",
       "    <tr>\n",
       "      <th>1</th>\n",
       "      <td>We conclude that there does not appear to he ...</td>\n",
       "      <td>We conclude that there does not appear to be ...</td>\n",
       "      <td>We conclude that there does not appear to he ...</td>\n",
       "      <td>We conclude that there does not appear to be ...</td>\n",
       "      <td>WW WWWWWWWW WWWW WWWWW WWWW WWW WWWWWW WW WW ...</td>\n",
       "      <td>WW WWWWWWWW WWWW WWWWW WWWW WWW WWWWWW WW WW ...</td>\n",
       "      <td>WW WWWWWWWW WWWW WWWWW WWWW WWW WWWWWW WW WW ...</td>\n",
       "      <td>WW WWWWWWWW WWWW WWWWW WWWW WWW WWWWWW WW WW ...</td>\n",
       "      <td>We conclude that there does not appear to be ...</td>\n",
       "    </tr>\n",
       "    <tr>\n",
       "      <th>2</th>\n",
       "      <td>The central mass is surrounded by a quasi-sta...</td>\n",
       "      <td>The central mass is surrounded by a quasi-sta...</td>\n",
       "      <td>The central mass is surrounded by a quasi-sta...</td>\n",
       "      <td>The central mass is surrounded by a quasi-sta...</td>\n",
       "      <td>WWW WWWWWWW WWWW WW WWWWWWWWWW WW W WWWWWWWWW...</td>\n",
       "      <td>WWW WWWWWWW WWWW WW WWWWWWWWWW WW W WWWWWWWWW...</td>\n",
       "      <td>WWW WWWWWWW WWWW WW WWWWWWWWWW WW W WWWWWWWWW...</td>\n",
       "      <td>WWW WWWWWWW WWWW WW WWWWWWWWWW WW W WWWWWWWWW...</td>\n",
       "      <td>The central mass is surrounded by a quasi-sta...</td>\n",
       "    </tr>\n",
       "    <tr>\n",
       "      <th>3</th>\n",
       "      <td>This means that the BAT is well suited for fi...</td>\n",
       "      <td>This means that the BAT is well suited for fi...</td>\n",
       "      <td>This means that the BAT is well suited for fi...</td>\n",
       "      <td>This means that the BAT is well suited for fi...</td>\n",
       "      <td>WWWW WWWWW WWWW WWW WWW WW WWWW WWWWWW WWW WW...</td>\n",
       "      <td>WWWW WWWWW WWWW WWW WWW WW WWWW WWWWWW WWW WW...</td>\n",
       "      <td>WWWW WWWWW WWWW WWW WWW WW WWWW WWWWWW WWW WW...</td>\n",
       "      <td>WWWW WWWWW WWWW WWW WWW WW WWWW WWWWWW WWW WW...</td>\n",
       "      <td>This means that the BAT is well suited for fi...</td>\n",
       "    </tr>\n",
       "    <tr>\n",
       "      <th>4</th>\n",
       "      <td>In general. it is well established that the m...</td>\n",
       "      <td>In general, it is well established that the m...</td>\n",
       "      <td>In general. it is well established that the m...</td>\n",
       "      <td>In general, it is well established that the m...</td>\n",
       "      <td>WW WWWWWWWW WW WW WWWW WWWWWWWWWWW WWWW WWW W...</td>\n",
       "      <td>WW WWWWWWWW WW WW WWWW WWWWWWWWWWW WWWW WWW W...</td>\n",
       "      <td>WW WWWWWWWW WW WW WWWW WWWWWWWWWWW WWWW WWW W...</td>\n",
       "      <td>WW WWWWWWWW WW WW WWWW WWWWWWWWWWW WWWW WWW W...</td>\n",
       "      <td>In general, it is well established that the m...</td>\n",
       "    </tr>\n",
       "  </tbody>\n",
       "</table>\n",
       "</div>"
      ],
      "text/plain": [
       "                            aligned sentences source  \\\n",
       "0   A histogram of the ^^^^^^^Va^^^ /slope for dw...   \n",
       "1   We conclude that there does not appear to he ...   \n",
       "2   The central mass is surrounded by a quasi-sta...   \n",
       "3   This means that the BAT is well suited for fi...   \n",
       "4   In general. it is well established that the m...   \n",
       "\n",
       "                            aligned sentences target  \\\n",
       "0   A histogram of the $_{\\rm max}$ /slope for dw...   \n",
       "1   We conclude that there does not appear to be ...   \n",
       "2   The central mass is surrounded by a quasi-sta...   \n",
       "3   This means that the BAT is well suited for fi...   \n",
       "4   In general, it is well established that the m...   \n",
       "\n",
       "                                          input_text  \\\n",
       "0   A histogram of the Va /slope for dwarf irregu...   \n",
       "1   We conclude that there does not appear to he ...   \n",
       "2   The central mass is surrounded by a quasi-sta...   \n",
       "3   This means that the BAT is well suited for fi...   \n",
       "4   In general. it is well established that the m...   \n",
       "\n",
       "                                         target_text  \\\n",
       "0   A histogram of the $_{\\rm max}$ /slope for dw...   \n",
       "1   We conclude that there does not appear to be ...   \n",
       "2   The central mass is surrounded by a quasi-sta...   \n",
       "3   This means that the BAT is well suited for fi...   \n",
       "4   In general, it is well established that the m...   \n",
       "\n",
       "                      aligned sentences source types  \\\n",
       "0   W WWWWWWWWW WW WWW ^^^^^^^II^^^ WWWWWW WWW WW...   \n",
       "1   WW WWWWWWWW WWWW WWWWW WWWW WWW WWWWWW WW WW ...   \n",
       "2   WWW WWWWWWW WWWW WW WWWWWWWWWW WW W WWWWWWWWW...   \n",
       "3   WWWW WWWWW WWWW WWW WWW WW WWWW WWWWWW WWW WW...   \n",
       "4   WW WWWWWWWW WW WW WWWW WWWWWWWWWWW WWWW WWW W...   \n",
       "\n",
       "                      aligned sentences target types  \\\n",
       "0   W WWWWWWWWW WW WWW IIIIIIIIIIII WWWWWW WWW WW...   \n",
       "1   WW WWWWWWWW WWWW WWWWW WWWW WWW WWWWWW WW WW ...   \n",
       "2   WWW WWWWWWW WWWW WW WWWWWWWWWW WW W WWWWWWWWW...   \n",
       "3   WWWW WWWWW WWWW WWW WWW WW WWWW WWWWWW WWW WW...   \n",
       "4   WW WWWWWWWW WW WW WWWW WWWWWWWWWWW WWWW WWW W...   \n",
       "\n",
       "                              sentences source types  \\\n",
       "0   W WWWWWWWWW WW WWW II WWWWWW WWW WWWWW WWWWWW...   \n",
       "1   WW WWWWWWWW WWWW WWWWW WWWW WWW WWWWWW WW WW ...   \n",
       "2   WWW WWWWWWW WWWW WW WWWWWWWWWW WW W WWWWWWWWW...   \n",
       "3   WWWW WWWWW WWWW WWW WWW WW WWWW WWWWWW WWW WW...   \n",
       "4   WW WWWWWWWW WW WW WWWW WWWWWWWWWWW WWWW WWW W...   \n",
       "\n",
       "                              sentences target types  \\\n",
       "0   W WWWWWWWWW WW WWW IIIIIIIIIIII WWWWWW WWW WW...   \n",
       "1   WW WWWWWWWW WWWW WWWWW WWWW WWW WWWWWW WW WW ...   \n",
       "2   WWW WWWWWWW WWWW WW WWWWWWWWWW WW W WWWWWWWWW...   \n",
       "3   WWWW WWWWW WWWW WWW WWW WW WWWW WWWWWW WWW WW...   \n",
       "4   WW WWWWWWWW WW WW WWWW WWWWWWWWWWW WWWW WWW W...   \n",
       "\n",
       "                                      predicted_text  \n",
       "0   A histogram of the $V_{\\rm d}$ /slope for dwa...  \n",
       "1   We conclude that there does not appear to be ...  \n",
       "2   The central mass is surrounded by a quasi-sta...  \n",
       "3   This means that the BAT is well suited for fi...  \n",
       "4   In general, it is well established that the m...  "
      ]
     },
     "execution_count": 31,
     "metadata": {},
     "output_type": "execute_result"
    }
   ],
   "source": [
    "df_byt5_words_full.head()"
   ]
  },
  {
   "cell_type": "code",
   "execution_count": 32,
   "id": "38f7b1f6-5fc6-43d9-949b-4598762fb418",
   "metadata": {
    "tags": []
   },
   "outputs": [],
   "source": [
    "df_byt5_words_full = calc_cer_wer(df_byt5_words_full.copy())"
   ]
  },
  {
   "cell_type": "code",
   "execution_count": 33,
   "id": "12308a8d-3355-4643-a156-af1377060e4d",
   "metadata": {
    "tags": []
   },
   "outputs": [
    {
     "data": {
      "image/png": "[encoded data removed]",
      "text/plain": [
       "<Figure size 1200x600 with 2 Axes>"
      ]
     },
     "metadata": {},
     "output_type": "display_data"
    }
   ],
   "source": [
    "fig, ax = plt.subplots(1,2,figsize=(12,6))\n",
    "df_byt5_words_full.plot(x = 'CER Before', y = 'CER After', kind='scatter',ax=ax[0])\n",
    "xlim = ax[0].get_xlim()\n",
    "ylim = ax[0].get_ylim()\n",
    "ax[0].plot([xlim[0],xlim[1]], [xlim[0],xlim[1]], '--', color='orange')\n",
    "\n",
    "df_byt5_words_full.plot(x = 'WER Before', y = 'WER After', kind='scatter',ax=ax[1])\n",
    "xlim = ax[1].get_xlim()\n",
    "ylim = ax[1].get_ylim()\n",
    "ax[1].plot([xlim[0],xlim[1]], [xlim[0],xlim[1]], '--', color='orange')\n",
    "\n",
    "plt.show()"
   ]
  },
  {
   "cell_type": "code",
   "execution_count": 34,
   "id": "f6ec915c-1efe-470f-a29d-741ff1e67b95",
   "metadata": {
    "tags": []
   },
   "outputs": [
    {
     "name": "stdout",
     "output_type": "stream",
     "text": [
      "--------- Before -------------\n",
      "# NaNs = 114\n",
      "CER : mean = 12.53 , std = 18.58 , median = 8.11 , iqr = 14.79\n",
      "WER : mean = 19.81 , std = 15.67 , median = 17.65 , iqr = 19.08\n",
      "\n",
      "--------- After -------------\n",
      "CER : mean = 7.18 , std = 32.54 , median = 1.49 , iqr = 8.6\n",
      "WER : mean = 8.92 , std = 33.06 , median = 3.85 , iqr = 11.11\n",
      "\n",
      "------------ Improvement ----------------\n",
      "CER : mean =  58.49 , std = 81.33 , median = 72.73 , iqr = 60.0\n",
      "WER : mean =  60.77 , std = 57.17 , median = 71.43 , iqr = 60.0\n",
      "CER : How many better = 9433 , how many worse (or same) = 567 , % better = 94.33\n",
      "WER : How many better = 9614 , how many worse (or same) = 386 , % better = 96.14\n"
     ]
    }
   ],
   "source": [
    "mea_cbefore,med_cbefore,std_cbefore,iqr_cbefore, mea_wbefore,med_wbefore,std_wbefore,iqr_wbefore, \\\n",
    "     mea_cafter,med_cafter,std_cafter,iqr_cafter, mea_wafter,med_wafter,std_wafter,iqr_wafter, \\\n",
    "     mea_c,med_c,std_c,iqr_c, mea_w,med_w,std_w,iqr_w, cerImp, werImp = get_print_stats(df_byt5_words_full, before='Before', after = 'After')"
   ]
  },
  {
   "cell_type": "code",
   "execution_count": 35,
   "id": "be20f724-6dac-4ba1-9c45-e3a8cc38571f",
   "metadata": {
    "tags": []
   },
   "outputs": [],
   "source": [
    "# save everything\n",
    "dats = [mea_cbefore,mea_wbefore,mea_cafter,mea_wafter,\n",
    "        mea_c,mea_w, cerImp, werImp]\n",
    "names_start = 'byt5_full_large'\n",
    "datnames = ['mean_cer_before','mean_wer_before','mean_cer_after','mean_wer_after',\n",
    "            'mean_cer_imp','mean_wer_imp', 'cerImp', 'werImp']\n",
    "for d,n in zip(dats,datnames):\n",
    "    save_dat(save_dats_dir+names_start+n+'.dat',d,formatting='zfill')"
   ]
  },
  {
   "cell_type": "markdown",
   "id": "9aa80c9b-acd4-4531-ad54-b21ff92951b9",
   "metadata": {},
   "source": [
    "## byt5, full, with fixes"
   ]
  },
  {
   "cell_type": "code",
   "execution_count": 36,
   "id": "d4969b18-2e05-430f-b25a-5f73676a0741",
   "metadata": {
    "tags": []
   },
   "outputs": [
    {
     "data": {
      "text/plain": [
       "{'citations': '↫', 'refs': '↷', 'inlines': '↭'}"
      ]
     },
     "execution_count": 36,
     "metadata": {},
     "output_type": "execute_result"
    }
   ],
   "source": [
    "marks"
   ]
  },
  {
   "cell_type": "code",
   "execution_count": 37,
   "id": "2e316f44-d3e3-4c43-b728-b2d8a6f489f8",
   "metadata": {
    "tags": []
   },
   "outputs": [],
   "source": [
    "# check that special marks aren't in the words just yet\n",
    "for i in range(len(df_byt5_words_full)):\n",
    "    d = df_byt5_words_full.iloc[i]\n",
    "    for m in marks.values():\n",
    "        #if m in d['input_text'] or m in d['target_text']:\n",
    "        if m in str(d['target_text']):\n",
    "            import sys; sys.exit()"
   ]
  },
  {
   "cell_type": "code",
   "execution_count": null,
   "id": "168a1d8f-68a9-494a-a9a5-6cbd35d980ce",
   "metadata": {},
   "outputs": [],
   "source": []
  },
  {
   "cell_type": "code",
   "execution_count": 38,
   "id": "00914e49-3be5-4887-ada1-74940c9213d0",
   "metadata": {
    "tags": []
   },
   "outputs": [
    {
     "name": "stdout",
     "output_type": "stream",
     "text": [
      "no matching $ in OCR corrected fix!\n",
      "no matching $ in OCR corrected fix!\n",
      "no matching $ in OCR corrected fix!\n",
      "no matching $ in OCR corrected fix!\n"
     ]
    }
   ],
   "source": [
    "df_byt5_words_full_fix = fix_ocr(df_byt5_words_full.copy(),marks=marks)"
   ]
  },
  {
   "cell_type": "markdown",
   "id": "bc88a3c8-7215-484d-9a9f-3a52acf1d7d5",
   "metadata": {},
   "source": [
    "How many NaN's?"
   ]
  },
  {
   "cell_type": "code",
   "execution_count": 39,
   "id": "53aac514-48b0-4a61-92c9-eabe61a66ef5",
   "metadata": {
    "tags": []
   },
   "outputs": [
    {
     "data": {
      "text/plain": [
       "198"
      ]
     },
     "execution_count": 39,
     "metadata": {},
     "output_type": "execute_result"
    }
   ],
   "source": [
    "len(df_byt5_words_full_fix.loc[pd.isnull(df_byt5_words_full_fix['CER Fix'])])"
   ]
  },
  {
   "cell_type": "code",
   "execution_count": 40,
   "id": "c68cbf48-df97-4fb8-91f3-057f04e0542d",
   "metadata": {
    "tags": []
   },
   "outputs": [
    {
     "data": {
      "text/html": [
       "<div>\n",
       "<style scoped>\n",
       "    .dataframe tbody tr th:only-of-type {\n",
       "        vertical-align: middle;\n",
       "    }\n",
       "\n",
       "    .dataframe tbody tr th {\n",
       "        vertical-align: top;\n",
       "    }\n",
       "\n",
       "    .dataframe thead th {\n",
       "        text-align: right;\n",
       "    }\n",
       "</style>\n",
       "<table border=\"1\" class=\"dataframe\">\n",
       "  <thead>\n",
       "    <tr style=\"text-align: right;\">\n",
       "      <th></th>\n",
       "      <th>aligned sentences source</th>\n",
       "      <th>aligned sentences target</th>\n",
       "      <th>input_text</th>\n",
       "      <th>target_text</th>\n",
       "      <th>aligned sentences source types</th>\n",
       "      <th>aligned sentences target types</th>\n",
       "      <th>sentences source types</th>\n",
       "      <th>sentences target types</th>\n",
       "      <th>predicted_text</th>\n",
       "      <th>CER Before</th>\n",
       "      <th>...</th>\n",
       "      <th>WER Orig</th>\n",
       "      <th>CER Corrected</th>\n",
       "      <th>WER Corrected</th>\n",
       "      <th>CER Fix Corrected</th>\n",
       "      <th>WER Fix Corrected</th>\n",
       "      <th>CER Fix</th>\n",
       "      <th>WER Fix</th>\n",
       "      <th>target_text_fixed</th>\n",
       "      <th>predicted_text_fixed</th>\n",
       "      <th>masked entries</th>\n",
       "    </tr>\n",
       "  </thead>\n",
       "  <tbody>\n",
       "    <tr>\n",
       "      <th>0</th>\n",
       "      <td>A histogram of the ^^^^^^^Va^^^ /slope for dw...</td>\n",
       "      <td>A histogram of the $_{\\rm max}$ /slope for dw...</td>\n",
       "      <td>A histogram of the Va /slope for dwarf irregu...</td>\n",
       "      <td>A histogram of the $_{\\rm max}$ /slope for dw...</td>\n",
       "      <td>W WWWWWWWWW WW WWW ^^^^^^^II^^^ WWWWWW WWW WW...</td>\n",
       "      <td>W WWWWWWWWW WW WWW IIIIIIIIIIII WWWWWW WWW WW...</td>\n",
       "      <td>W WWWWWWWWW WW WWW II WWWWWW WWW WWWWW WWWWWW...</td>\n",
       "      <td>W WWWWWWWWW WW WWW IIIIIIIIIIII WWWWWW WWW WW...</td>\n",
       "      <td>A histogram of the $V_{\\rm d}$ /slope for dwa...</td>\n",
       "      <td>18.5393</td>\n",
       "      <td>...</td>\n",
       "      <td>25.0000</td>\n",
       "      <td>7.8652</td>\n",
       "      <td>9.3750</td>\n",
       "      <td>0.0000</td>\n",
       "      <td>0.0000</td>\n",
       "      <td>8.9172</td>\n",
       "      <td>22.5806</td>\n",
       "      <td>A histogram of the ↭ /slope for dwarf irregul...</td>\n",
       "      <td>A histogram of the ↭ /slope for dwarf irregul...</td>\n",
       "      <td>True</td>\n",
       "    </tr>\n",
       "    <tr>\n",
       "      <th>1</th>\n",
       "      <td>We conclude that there does not appear to he ...</td>\n",
       "      <td>We conclude that there does not appear to be ...</td>\n",
       "      <td>We conclude that there does not appear to he ...</td>\n",
       "      <td>We conclude that there does not appear to be ...</td>\n",
       "      <td>WW WWWWWWWW WWWW WWWWW WWWW WWW WWWWWW WW WW ...</td>\n",
       "      <td>WW WWWWWWWW WWWW WWWWW WWWW WWW WWWWWW WW WW ...</td>\n",
       "      <td>WW WWWWWWWW WWWW WWWWW WWWW WWW WWWWWW WW WW ...</td>\n",
       "      <td>WW WWWWWWWW WWWW WWWWW WWWW WWW WWWWWW WW WW ...</td>\n",
       "      <td>We conclude that there does not appear to be ...</td>\n",
       "      <td>4.5802</td>\n",
       "      <td>...</td>\n",
       "      <td>16.0000</td>\n",
       "      <td>0.0000</td>\n",
       "      <td>0.0000</td>\n",
       "      <td>0.0000</td>\n",
       "      <td>0.0000</td>\n",
       "      <td>4.5802</td>\n",
       "      <td>16.0000</td>\n",
       "      <td>We conclude that there does not appear to be ...</td>\n",
       "      <td>We conclude that there does not appear to be ...</td>\n",
       "      <td>True</td>\n",
       "    </tr>\n",
       "    <tr>\n",
       "      <th>2</th>\n",
       "      <td>The central mass is surrounded by a quasi-sta...</td>\n",
       "      <td>The central mass is surrounded by a quasi-sta...</td>\n",
       "      <td>The central mass is surrounded by a quasi-sta...</td>\n",
       "      <td>The central mass is surrounded by a quasi-sta...</td>\n",
       "      <td>WWW WWWWWWW WWWW WW WWWWWWWWWW WW W WWWWWWWWW...</td>\n",
       "      <td>WWW WWWWWWW WWWW WW WWWWWWWWWW WW W WWWWWWWWW...</td>\n",
       "      <td>WWW WWWWWWW WWWW WW WWWWWWWWWW WW W WWWWWWWWW...</td>\n",
       "      <td>WWW WWWWWWW WWWW WW WWWWWWWWWW WW W WWWWWWWWW...</td>\n",
       "      <td>The central mass is surrounded by a quasi-sta...</td>\n",
       "      <td>5.0000</td>\n",
       "      <td>...</td>\n",
       "      <td>7.6923</td>\n",
       "      <td>0.0000</td>\n",
       "      <td>0.0000</td>\n",
       "      <td>0.0000</td>\n",
       "      <td>0.0000</td>\n",
       "      <td>5.0000</td>\n",
       "      <td>7.6923</td>\n",
       "      <td>The central mass is surrounded by a quasi-sta...</td>\n",
       "      <td>The central mass is surrounded by a quasi-sta...</td>\n",
       "      <td>True</td>\n",
       "    </tr>\n",
       "    <tr>\n",
       "      <th>3</th>\n",
       "      <td>This means that the BAT is well suited for fi...</td>\n",
       "      <td>This means that the BAT is well suited for fi...</td>\n",
       "      <td>This means that the BAT is well suited for fi...</td>\n",
       "      <td>This means that the BAT is well suited for fi...</td>\n",
       "      <td>WWWW WWWWW WWWW WWW WWW WW WWWW WWWWWW WWW WW...</td>\n",
       "      <td>WWWW WWWWW WWWW WWW WWW WW WWWW WWWWWW WWW WW...</td>\n",
       "      <td>WWWW WWWWW WWWW WWW WWW WW WWWW WWWWWW WWW WW...</td>\n",
       "      <td>WWWW WWWWW WWWW WWW WWW WW WWWW WWWWWW WWW WW...</td>\n",
       "      <td>This means that the BAT is well suited for fi...</td>\n",
       "      <td>4.3478</td>\n",
       "      <td>...</td>\n",
       "      <td>6.8966</td>\n",
       "      <td>0.0000</td>\n",
       "      <td>0.0000</td>\n",
       "      <td>0.0000</td>\n",
       "      <td>0.0000</td>\n",
       "      <td>4.3478</td>\n",
       "      <td>6.8966</td>\n",
       "      <td>This means that the BAT is well suited for fi...</td>\n",
       "      <td>This means that the BAT is well suited for fi...</td>\n",
       "      <td>True</td>\n",
       "    </tr>\n",
       "    <tr>\n",
       "      <th>4</th>\n",
       "      <td>In general. it is well established that the m...</td>\n",
       "      <td>In general, it is well established that the m...</td>\n",
       "      <td>In general. it is well established that the m...</td>\n",
       "      <td>In general, it is well established that the m...</td>\n",
       "      <td>WW WWWWWWWW WW WW WWWW WWWWWWWWWWW WWWW WWW W...</td>\n",
       "      <td>WW WWWWWWWW WW WW WWWW WWWWWWWWWWW WWWW WWW W...</td>\n",
       "      <td>WW WWWWWWWW WW WW WWWW WWWWWWWWWWW WWWW WWW W...</td>\n",
       "      <td>WW WWWWWWWW WW WW WWWW WWWWWWWWWWW WWWW WWW W...</td>\n",
       "      <td>In general, it is well established that the m...</td>\n",
       "      <td>4.8346</td>\n",
       "      <td>...</td>\n",
       "      <td>15.0000</td>\n",
       "      <td>0.7634</td>\n",
       "      <td>1.6667</td>\n",
       "      <td>0.7732</td>\n",
       "      <td>1.6949</td>\n",
       "      <td>3.6082</td>\n",
       "      <td>13.5593</td>\n",
       "      <td>In general, it is well established that the m...</td>\n",
       "      <td>In general, it is well established that the m...</td>\n",
       "      <td>True</td>\n",
       "    </tr>\n",
       "  </tbody>\n",
       "</table>\n",
       "<p>5 rows × 24 columns</p>\n",
       "</div>"
      ],
      "text/plain": [
       "                            aligned sentences source  \\\n",
       "0   A histogram of the ^^^^^^^Va^^^ /slope for dw...   \n",
       "1   We conclude that there does not appear to he ...   \n",
       "2   The central mass is surrounded by a quasi-sta...   \n",
       "3   This means that the BAT is well suited for fi...   \n",
       "4   In general. it is well established that the m...   \n",
       "\n",
       "                            aligned sentences target  \\\n",
       "0   A histogram of the $_{\\rm max}$ /slope for dw...   \n",
       "1   We conclude that there does not appear to be ...   \n",
       "2   The central mass is surrounded by a quasi-sta...   \n",
       "3   This means that the BAT is well suited for fi...   \n",
       "4   In general, it is well established that the m...   \n",
       "\n",
       "                                          input_text  \\\n",
       "0   A histogram of the Va /slope for dwarf irregu...   \n",
       "1   We conclude that there does not appear to he ...   \n",
       "2   The central mass is surrounded by a quasi-sta...   \n",
       "3   This means that the BAT is well suited for fi...   \n",
       "4   In general. it is well established that the m...   \n",
       "\n",
       "                                         target_text  \\\n",
       "0   A histogram of the $_{\\rm max}$ /slope for dw...   \n",
       "1   We conclude that there does not appear to be ...   \n",
       "2   The central mass is surrounded by a quasi-sta...   \n",
       "3   This means that the BAT is well suited for fi...   \n",
       "4   In general, it is well established that the m...   \n",
       "\n",
       "                      aligned sentences source types  \\\n",
       "0   W WWWWWWWWW WW WWW ^^^^^^^II^^^ WWWWWW WWW WW...   \n",
       "1   WW WWWWWWWW WWWW WWWWW WWWW WWW WWWWWW WW WW ...   \n",
       "2   WWW WWWWWWW WWWW WW WWWWWWWWWW WW W WWWWWWWWW...   \n",
       "3   WWWW WWWWW WWWW WWW WWW WW WWWW WWWWWW WWW WW...   \n",
       "4   WW WWWWWWWW WW WW WWWW WWWWWWWWWWW WWWW WWW W...   \n",
       "\n",
       "                      aligned sentences target types  \\\n",
       "0   W WWWWWWWWW WW WWW IIIIIIIIIIII WWWWWW WWW WW...   \n",
       "1   WW WWWWWWWW WWWW WWWWW WWWW WWW WWWWWW WW WW ...   \n",
       "2   WWW WWWWWWW WWWW WW WWWWWWWWWW WW W WWWWWWWWW...   \n",
       "3   WWWW WWWWW WWWW WWW WWW WW WWWW WWWWWW WWW WW...   \n",
       "4   WW WWWWWWWW WW WW WWWW WWWWWWWWWWW WWWW WWW W...   \n",
       "\n",
       "                              sentences source types  \\\n",
       "0   W WWWWWWWWW WW WWW II WWWWWW WWW WWWWW WWWWWW...   \n",
       "1   WW WWWWWWWW WWWW WWWWW WWWW WWW WWWWWW WW WW ...   \n",
       "2   WWW WWWWWWW WWWW WW WWWWWWWWWW WW W WWWWWWWWW...   \n",
       "3   WWWW WWWWW WWWW WWW WWW WW WWWW WWWWWW WWW WW...   \n",
       "4   WW WWWWWWWW WW WW WWWW WWWWWWWWWWW WWWW WWW W...   \n",
       "\n",
       "                              sentences target types  \\\n",
       "0   W WWWWWWWWW WW WWW IIIIIIIIIIII WWWWWW WWW WW...   \n",
       "1   WW WWWWWWWW WWWW WWWWW WWWW WWW WWWWWW WW WW ...   \n",
       "2   WWW WWWWWWW WWWW WW WWWWWWWWWW WW W WWWWWWWWW...   \n",
       "3   WWWW WWWWW WWWW WWW WWW WW WWWW WWWWWW WWW WW...   \n",
       "4   WW WWWWWWWW WW WW WWWW WWWWWWWWWWW WWWW WWW W...   \n",
       "\n",
       "                                      predicted_text  CER Before  ...  \\\n",
       "0   A histogram of the $V_{\\rm d}$ /slope for dwa...     18.5393  ...   \n",
       "1   We conclude that there does not appear to be ...      4.5802  ...   \n",
       "2   The central mass is surrounded by a quasi-sta...      5.0000  ...   \n",
       "3   This means that the BAT is well suited for fi...      4.3478  ...   \n",
       "4   In general, it is well established that the m...      4.8346  ...   \n",
       "\n",
       "   WER Orig  CER Corrected  WER Corrected  CER Fix Corrected  \\\n",
       "0   25.0000         7.8652         9.3750             0.0000   \n",
       "1   16.0000         0.0000         0.0000             0.0000   \n",
       "2    7.6923         0.0000         0.0000             0.0000   \n",
       "3    6.8966         0.0000         0.0000             0.0000   \n",
       "4   15.0000         0.7634         1.6667             0.7732   \n",
       "\n",
       "   WER Fix Corrected  CER Fix  WER Fix  \\\n",
       "0             0.0000   8.9172  22.5806   \n",
       "1             0.0000   4.5802  16.0000   \n",
       "2             0.0000   5.0000   7.6923   \n",
       "3             0.0000   4.3478   6.8966   \n",
       "4             1.6949   3.6082  13.5593   \n",
       "\n",
       "                                   target_text_fixed  \\\n",
       "0   A histogram of the ↭ /slope for dwarf irregul...   \n",
       "1   We conclude that there does not appear to be ...   \n",
       "2   The central mass is surrounded by a quasi-sta...   \n",
       "3   This means that the BAT is well suited for fi...   \n",
       "4   In general, it is well established that the m...   \n",
       "\n",
       "                                predicted_text_fixed  masked entries  \n",
       "0   A histogram of the ↭ /slope for dwarf irregul...            True  \n",
       "1   We conclude that there does not appear to be ...            True  \n",
       "2   The central mass is surrounded by a quasi-sta...            True  \n",
       "3   This means that the BAT is well suited for fi...            True  \n",
       "4   In general, it is well established that the m...            True  \n",
       "\n",
       "[5 rows x 24 columns]"
      ]
     },
     "execution_count": 40,
     "metadata": {},
     "output_type": "execute_result"
    }
   ],
   "source": [
    "df_byt5_words_full_fix.head()"
   ]
  },
  {
   "cell_type": "code",
   "execution_count": 41,
   "id": "a121643a-2aee-4d04-aa42-06a4736156b6",
   "metadata": {
    "tags": []
   },
   "outputs": [],
   "source": [
    "# df_byt5_words_full_fix = calc_cer_wer(df_byt5_words_full_fix.copy(), \n",
    "#                                       target_text_col='target_text_fixed', \n",
    "#                                      predicted_text_col = 'predicted_text_fixed')\n",
    "# already calc'd in the fixing!"
   ]
  },
  {
   "cell_type": "code",
   "execution_count": 42,
   "id": "47ae4046-8f5c-4be1-b647-b6bce36a1326",
   "metadata": {
    "tags": []
   },
   "outputs": [],
   "source": [
    "#df_byt5_words_full_fix.columns"
   ]
  },
  {
   "cell_type": "code",
   "execution_count": 43,
   "id": "8a6eda08-603c-4513-b4cf-fdc12c7854ea",
   "metadata": {
    "tags": []
   },
   "outputs": [],
   "source": [
    "#df_byt5_words_full_fix.plot(x='CER After', y = 'CER Fix Corrected') # why are these the same????"
   ]
  },
  {
   "cell_type": "code",
   "execution_count": 44,
   "id": "59fd56b8-eb4a-4ee3-bad3-946374265eaa",
   "metadata": {
    "tags": []
   },
   "outputs": [
    {
     "data": {
      "image/png": "[encoded data removed]",
      "text/plain": [
       "<Figure size 1200x600 with 4 Axes>"
      ]
     },
     "metadata": {},
     "output_type": "display_data"
    }
   ],
   "source": [
    "fig, ax = plt.subplots(2,2,figsize=(12,6))\n",
    "ax = ax.flatten()\n",
    "df_byt5_words_full_fix.plot(x = 'CER Before', y = 'CER After', kind='scatter',ax=ax[0])\n",
    "xlim = ax[0].get_xlim()\n",
    "ylim = ax[0].get_ylim()\n",
    "ax[0].plot([xlim[0],xlim[1]], [xlim[0],xlim[1]], '--', color='orange')\n",
    "ax[0].set_title('CER, not fixed')\n",
    "\n",
    "df_byt5_words_full_fix.plot(x = 'WER Before', y = 'WER After', kind='scatter',ax=ax[1])\n",
    "xlim = ax[1].get_xlim()\n",
    "ylim = ax[1].get_ylim()\n",
    "ax[1].plot([xlim[0],xlim[1]], [xlim[0],xlim[1]], '--', color='orange')\n",
    "ax[1].set_title('WER, not fixed')\n",
    "\n",
    "# fixed\n",
    "iplot = 2\n",
    "df_byt5_words_full_fix.plot(x = 'CER Before', y = 'CER Fix Corrected', kind='scatter',ax=ax[iplot])\n",
    "xlim = ax[iplot].get_xlim()\n",
    "ylim = ax[iplot].get_ylim()\n",
    "ax[iplot].plot([xlim[0],xlim[1]], [xlim[0],xlim[1]], '--', color='orange')\n",
    "ax[iplot].set_title('CER, fixed')\n",
    "\n",
    "iplot = 3\n",
    "df_byt5_words_full_fix.plot(x = 'WER Before', y = 'WER Fix Corrected', kind='scatter',ax=ax[iplot])\n",
    "xlim = ax[iplot].get_xlim()\n",
    "ylim = ax[iplot].get_ylim()\n",
    "ax[iplot].plot([xlim[0],xlim[1]], [xlim[0],xlim[1]], '--', color='orange')\n",
    "ax[iplot].set_title('WER, fixed')\n",
    "\n",
    "fig.tight_layout()\n",
    "\n",
    "plt.show()"
   ]
  },
  {
   "cell_type": "code",
   "execution_count": 45,
   "id": "cd51ea3e-a29f-4a2f-bf65-c28928e4f2bc",
   "metadata": {
    "tags": []
   },
   "outputs": [
    {
     "name": "stdout",
     "output_type": "stream",
     "text": [
      "--------- Before -------------\n",
      "# NaNs = 114\n",
      "CER : mean = 12.53 , std = 18.58 , median = 8.11 , iqr = 14.79\n",
      "WER : mean = 19.81 , std = 15.67 , median = 17.65 , iqr = 19.08\n",
      "\n",
      "--------- After -------------\n",
      "CER : mean = 2.47 , std = 24.07 , median = 0.0 , iqr = 1.4\n",
      "WER : mean = 3.84 , std = 22.37 , median = 0.0 , iqr = 4.35\n",
      "\n",
      "------------ Improvement ----------------\n",
      "CER : mean =  85.51 , std = 44.09 , median = 100.0 , iqr = nan\n",
      "WER : mean =  84.44 , std = 35.38 , median = 100.0 , iqr = nan\n",
      "CER : How many better = 9822 , how many worse (or same) = 178 , % better = 98.22\n",
      "WER : How many better = 9924 , how many worse (or same) = 76 , % better = 99.24\n"
     ]
    }
   ],
   "source": [
    "before = 'Before'\n",
    "after = 'Fix Corrected'\n",
    "\n",
    "# print('--------- Before -------------')\n",
    "# mea_cbefore,med_cbefore,std_cbefore,iqr_cbefore = get_stats(df_byt5_words_full_fix,'CER '+before, print_nans=True)\n",
    "# print('CER : mean =', mea_cbefore, ', std =', std_cbefore, ', median =',med_cbefore, ', iqr =', iqr_cbefore)\n",
    "# mea_wbefore,med_wbefore,std_wbefore,iqr_wbefore = get_stats(df_byt5_words_full_fix,'WER '+before)\n",
    "# print('WER : mean =', mea_wbefore, ', std =', std_wbefore, ', median =',med_wbefore, ', iqr =', iqr_wbefore)\n",
    "# print('')\n",
    "# print('--------- After -------------')\n",
    "# mea_cafter,med_cafter,std_cafter,iqr_cafter = get_stats(df_byt5_words_full_fix,'CER '+after)\n",
    "# print('CER : mean =', mea_cafter, ', std =', std_cafter, ', median =',med_cafter, ', iqr =', iqr_cafter)\n",
    "# mea_wafter,med_wafter,std_wafter,iqr_wafter = get_stats(df_byt5_words_full_fix,'WER '+after)\n",
    "# print('WER : mean =', mea_wafter, ', std =', std_wafter, ', median =',med_wafter, ', iqr =', iqr_wafter)\n",
    "# print('')\n",
    "# # improvement\n",
    "# #improvement = lambda df: 100 * (1 - df.cer_after / df.cer_before)\n",
    "# mea_c,med_c,std_c,iqr_c = get_improvement_stats(df_byt5_words_full_fix,'CER '+before, 'CER '+after)\n",
    "# print('------------ Improvement ----------------')\n",
    "# print('CER : mean = ', mea_c, ', std =', std_c, ', median =',med_c, ', iqr =', iqr_c)\n",
    "# mea_w,med_w,std_w,iqr_w = get_improvement_stats(df_byt5_words_full_fix,'WER '+before, 'WER '+after)\n",
    "# print('WER : mean = ', mea_w, ', std =', std_w, ', median =',med_w, ', iqr =', iqr_w)\n",
    "# print('')\n",
    "mea_cbefore,med_cbefore,std_cbefore,iqr_cbefore, mea_wbefore,med_wbefore,std_wbefore,iqr_wbefore, \\\n",
    "     mea_cafter,med_cafter,std_cafter,iqr_cafter, mea_wafter,med_wafter,std_wafter,iqr_wafter, \\\n",
    "     mea_c,med_c,std_c,iqr_c, mea_w,med_w,std_w,iqr_w, cerImp, werImp = get_print_stats(df_byt5_words_full_fix, before=before, after = after)"
   ]
  },
  {
   "cell_type": "code",
   "execution_count": 46,
   "id": "bbdd22b0-5bbb-48e6-8c7f-4006e08a81f7",
   "metadata": {
    "tags": []
   },
   "outputs": [],
   "source": [
    "# save everything\n",
    "dats = [mea_cbefore,mea_wbefore,mea_cafter,mea_wafter,\n",
    "        mea_c,mea_w,cerImp, werImp]\n",
    "names_start = 'byt5_full_large_fix'\n",
    "datnames = ['mean_cer_before','mean_wer_before','mean_cer_after','mean_wer_after',\n",
    "            'mean_cer_imp','mean_wer_imp', 'cerImp', 'werImp']\n",
    "for d,n in zip(dats,datnames):\n",
    "    save_dat(save_dats_dir+names_start+n+'.dat',d,formatting='zfill')"
   ]
  },
  {
   "cell_type": "markdown",
   "id": "b41a972e-bc2a-4209-8ce5-c906e566bfef",
   "metadata": {},
   "source": [
    "## byt5, full, classification"
   ]
  },
  {
   "cell_type": "code",
   "execution_count": 47,
   "id": "e53a9e6f-3c36-4e35-9bd2-212add8a767e",
   "metadata": {
    "tags": []
   },
   "outputs": [],
   "source": [
    "def make_classification_metrics(dfout_err_h, target_text_col='target_text_fixed',\n",
    "                               predicted_text_col='predicted_text_fixed',\n",
    "                               marks = marks_rev):\n",
    "    \n",
    "    classification_metrics = {'citations':{'FP':0, 'FN':0, 'TP':0, 'total true':0}, \n",
    "                              'inlines':{'FP':0, 'FN':0, 'TP':0, 'total true':0},\n",
    "                              'refs':{'FP':0, 'FN':0, 'TP':0, 'total true':0}}\n",
    "\n",
    "\n",
    "    for i in range(len(dfout_err_h)):\n",
    "        d = dfout_err_h.iloc[i]\n",
    "        # align predicted and target\n",
    "        page_text_gt = str(d[target_text_col])\n",
    "        page_text_ocr = str(d[predicted_text_col])\n",
    "        eops = Levenshtein.editops(page_text_ocr, page_text_gt)\n",
    "        ocr_text_aligned, pdf_text_aligned = align_texts_fast(page_text_ocr, \n",
    "                                                              page_text_gt, \n",
    "                                                              eops)\n",
    "        # loop\n",
    "        for p,o in zip(pdf_text_aligned,ocr_text_aligned):\n",
    "            if p in list(marks.keys()): # special mark\n",
    "                if p == o: # got it!\n",
    "                    classification_metrics[marks[p]]['total true'] += 1\n",
    "                    classification_metrics[marks[p]]['TP'] += 1\n",
    "                elif (p != o) and (o in list(marks.keys())): # not right mark, but in marks\n",
    "                    classification_metrics[marks[p]]['total true'] += 1\n",
    "                    classification_metrics[marks[o]]['FP'] += 1\n",
    "                else: # p is a mark, but missed it in ocr\n",
    "                    classification_metrics[marks[p]]['total true'] += 1\n",
    "                    classification_metrics[marks[p]]['FN'] += 1\n",
    "            elif o in list(marks.keys()): # have ocr instead!\n",
    "                classification_metrics[marks[o]]['FP'] += 1\n",
    "    return classification_metrics\n",
    "\n",
    "def prec_rec_f1(classification_metrics):\n",
    "    for t,v in classification_metrics.items():\n",
    "        if v['total true'] > 0: # have it\n",
    "            print(t)\n",
    "            print(v)\n",
    "            #Precision = TruePositives / (TruePositives + FalsePositives)\n",
    "            if v['TP'] + v[\"FP\"] > 0:\n",
    "                prec = v['TP']/(v['TP'] + v[\"FP\"])\n",
    "            else:\n",
    "                prec = 0\n",
    "            #Recall = TruePositives / (TruePositives + FalseNegatives)\n",
    "            if v['TP']+v['FN'] > 0:\n",
    "                rec = v['TP']/(v['TP']+v['FN'])\n",
    "            else:\n",
    "                rec = 0\n",
    "\n",
    "            # F-Measure = (2 * Precision * Recall) / (Precision + Recall)\n",
    "            if prec+rec > 0:\n",
    "                f1 = (2*prec*rec)/(prec+rec)\n",
    "            else:\n",
    "                f1 = 0\n",
    "\n",
    "            print('prec =', prec, ', rec =', rec, ', f1 = ', f1)\n",
    "            print('')\n",
    "            classification_metrics[t]['Prec'] = prec\n",
    "            classification_metrics[t]['Rec'] = rec\n",
    "            classification_metrics[t]['F1'] = f1\n",
    "    return classification_metrics"
   ]
  },
  {
   "cell_type": "code",
   "execution_count": 48,
   "id": "2de5390a-51d0-4ece-877d-55e5c271e9d8",
   "metadata": {
    "tags": []
   },
   "outputs": [],
   "source": [
    "#df_byt5_words_full_fix.head()"
   ]
  },
  {
   "cell_type": "code",
   "execution_count": 49,
   "id": "e0a01a01-2826-4b67-a9d9-3029b7a653f9",
   "metadata": {
    "tags": []
   },
   "outputs": [],
   "source": [
    "classification_metrics_latex = make_classification_metrics(df_byt5_words_full_fix)"
   ]
  },
  {
   "cell_type": "code",
   "execution_count": 50,
   "id": "c003704c-73d2-45bf-b864-5cf47a057b5a",
   "metadata": {
    "tags": []
   },
   "outputs": [
    {
     "name": "stdout",
     "output_type": "stream",
     "text": [
      "-------- LaTeX ---------\n",
      "citations\n",
      "{'FP': 62, 'FN': 77, 'TP': 1504, 'total true': 1594}\n",
      "prec = 0.9604086845466155 , rec = 0.9512966476913346 , f1 =  0.9558309501112171\n",
      "\n",
      "inlines\n",
      "{'FP': 539, 'FN': 769, 'TP': 6404, 'total true': 7181}\n",
      "prec = 0.9223678525133228 , rec = 0.8927924160044611 , f1 =  0.9073391895721168\n",
      "\n",
      "refs\n",
      "{'FP': 102, 'FN': 82, 'TP': 968, 'total true': 1053}\n",
      "prec = 0.9046728971962616 , rec = 0.9219047619047619 , f1 =  0.9132075471698115\n",
      "\n"
     ]
    }
   ],
   "source": [
    "print('-------- LaTeX ---------')\n",
    "classification_metrics_latex = prec_rec_f1(classification_metrics_latex.copy())"
   ]
  },
  {
   "cell_type": "code",
   "execution_count": 51,
   "id": "f07f7bfe-c234-4124-836c-05ea30d76b20",
   "metadata": {
    "tags": []
   },
   "outputs": [
    {
     "data": {
      "text/plain": [
       "{'citations': {'FP': 62,\n",
       "  'FN': 77,\n",
       "  'TP': 1504,\n",
       "  'total true': 1594,\n",
       "  'Prec': 0.9604086845466155,\n",
       "  'Rec': 0.9512966476913346,\n",
       "  'F1': 0.9558309501112171},\n",
       " 'inlines': {'FP': 539,\n",
       "  'FN': 769,\n",
       "  'TP': 6404,\n",
       "  'total true': 7181,\n",
       "  'Prec': 0.9223678525133228,\n",
       "  'Rec': 0.8927924160044611,\n",
       "  'F1': 0.9073391895721168},\n",
       " 'refs': {'FP': 102,\n",
       "  'FN': 82,\n",
       "  'TP': 968,\n",
       "  'total true': 1053,\n",
       "  'Prec': 0.9046728971962616,\n",
       "  'Rec': 0.9219047619047619,\n",
       "  'F1': 0.9132075471698115}}"
      ]
     },
     "execution_count": 51,
     "metadata": {},
     "output_type": "execute_result"
    }
   ],
   "source": [
    "classification_metrics_latex"
   ]
  },
  {
   "cell_type": "code",
   "execution_count": 52,
   "id": "b228c751-4151-427c-be88-11d4a8022e1b",
   "metadata": {
    "tags": []
   },
   "outputs": [],
   "source": [
    "for k,v in classification_metrics_latex.items():\n",
    "    fdat = save_dats_dir + 'arxiv_' + k\n",
    "    p = round(v['Prec']*100,2)\n",
    "    r = round(v['Rec']*100,2)\n",
    "    f1 = round(v['F1']*100,2)\n",
    "    tot = int(v['total true'])\n",
    "    for m,n in zip([p,r,f1],['prec','rec','f1']):\n",
    "        save_dat(fdat + '_' + n + '.dat',m,formatting='zfill')\n",
    "        \n",
    "    save_dat(fdat + '_' + 'total' + '.dat',tot,formatting='zfill',round_val=0)\n",
    "    \n",
    "        # with open(fdat + '_' + n + '.dat','w') as f:\n",
    "        #     print(m,file=f)"
   ]
  },
  {
   "cell_type": "markdown",
   "id": "2b2c5693-e065-4b3e-a2c2-a0f484ced99c",
   "metadata": {},
   "source": [
    "## byt5, NOT fixed historical"
   ]
  },
  {
   "cell_type": "code",
   "execution_count": 53,
   "id": "2a1228ee-a0d0-4bb8-a6f7-0ce38471e0f1",
   "metadata": {
    "tags": []
   },
   "outputs": [],
   "source": [
    "# only words, byt5\n",
    "output_dir_inf = '/Users/jnaiman/Dropbox/wwt_image_extraction/OCRPostCorrection/inferences/historical_full/'\n",
    "\n",
    "ender = '_full_large' # 500k for training, 10k val (in the arxiv data)"
   ]
  },
  {
   "cell_type": "code",
   "execution_count": 54,
   "id": "872f4d48-5c73-4988-841b-6ead997f6a6c",
   "metadata": {
    "tags": []
   },
   "outputs": [],
   "source": [
    "inf_files = glob(output_dir_inf + '*'+ender+'.csv')\n",
    "inf_files.sort()\n",
    "for i,f in enumerate(inf_files):\n",
    "    d = pd.read_csv(f)\n",
    "    if i == 0: # first\n",
    "        df_byt5_words_h_full = d.copy()\n",
    "    else: # others\n",
    "        df_byt5_words_h_full = pd.concat([df_byt5_words_h_full,d],ignore_index=True)"
   ]
  },
  {
   "cell_type": "code",
   "execution_count": 55,
   "id": "320bd340-7bb6-4377-9637-f6c9b1e9a58b",
   "metadata": {
    "tags": []
   },
   "outputs": [
    {
     "data": {
      "text/html": [
       "<div>\n",
       "<style scoped>\n",
       "    .dataframe tbody tr th:only-of-type {\n",
       "        vertical-align: middle;\n",
       "    }\n",
       "\n",
       "    .dataframe tbody tr th {\n",
       "        vertical-align: top;\n",
       "    }\n",
       "\n",
       "    .dataframe thead th {\n",
       "        text-align: right;\n",
       "    }\n",
       "</style>\n",
       "<table border=\"1\" class=\"dataframe\">\n",
       "  <thead>\n",
       "    <tr style=\"text-align: right;\">\n",
       "      <th></th>\n",
       "      <th>input_text</th>\n",
       "      <th>target_text</th>\n",
       "      <th>filename</th>\n",
       "      <th>page</th>\n",
       "      <th>sent num</th>\n",
       "      <th>type</th>\n",
       "      <th>predicted_text</th>\n",
       "      <th>predicted_text_histOnlyModel</th>\n",
       "    </tr>\n",
       "  </thead>\n",
       "  <tbody>\n",
       "    <tr>\n",
       "      <th>0</th>\n",
       "      <td>As a matter of fact Rowland's tables contain n...</td>\n",
       "      <td>As a matter of fact Rowland's tables contain n...</td>\n",
       "      <td>1895ApJ_____2___74H</td>\n",
       "      <td>0</td>\n",
       "      <td>3</td>\n",
       "      <td>plain</td>\n",
       "      <td>As a matter of fact Rowland's tables contain n...</td>\n",
       "      <td>As a matter of fact Rowland's tables contain n...</td>\n",
       "    </tr>\n",
       "    <tr>\n",
       "      <th>1</th>\n",
       "      <td>With respect to the application of the apparat...</td>\n",
       "      <td>With respect to the application of the apparat...</td>\n",
       "      <td>1896ApJ_____3__259P</td>\n",
       "      <td>7</td>\n",
       "      <td>1</td>\n",
       "      <td>plain</td>\n",
       "      <td>With respect to the application of the apparat...</td>\n",
       "      <td>Ith respect to the application of the apparatu...</td>\n",
       "    </tr>\n",
       "    <tr>\n",
       "      <th>2</th>\n",
       "      <td>by practical -observa-tion, certain ideas of h...</td>\n",
       "      <td>by practical observation, certain ideas of his...</td>\n",
       "      <td>1900ApJ____11__325K</td>\n",
       "      <td>0</td>\n",
       "      <td>2</td>\n",
       "      <td>plain</td>\n",
       "      <td>by practical observation, certain ideas of his...</td>\n",
       "      <td>The practical -observation, certain ideas of h...</td>\n",
       "    </tr>\n",
       "    <tr>\n",
       "      <th>3</th>\n",
       "      <td>In 1859, when only twenty-one years of age, he...</td>\n",
       "      <td>In 1859, when only twenty-one years of age, he...</td>\n",
       "      <td>1905ApJ____22____1R</td>\n",
       "      <td>0</td>\n",
       "      <td>3</td>\n",
       "      <td>plain</td>\n",
       "      <td>In 1859, when only twenty-one years of age, he...</td>\n",
       "      <td>In 1859, when only twenty-one years of age, he...</td>\n",
       "    </tr>\n",
       "    <tr>\n",
       "      <th>4</th>\n",
       "      <td>This plate is simply to show the extent and ge...</td>\n",
       "      <td>This plate is simply to show the extent and ge...</td>\n",
       "      <td>1907ApJ____25__218B</td>\n",
       "      <td>4</td>\n",
       "      <td>10</td>\n",
       "      <td>plain</td>\n",
       "      <td>This plate is simply to show the extent and ge...</td>\n",
       "      <td>This plate is simply to show the extent and ge...</td>\n",
       "    </tr>\n",
       "  </tbody>\n",
       "</table>\n",
       "</div>"
      ],
      "text/plain": [
       "                                          input_text  \\\n",
       "0  As a matter of fact Rowland's tables contain n...   \n",
       "1  With respect to the application of the apparat...   \n",
       "2  by practical -observa-tion, certain ideas of h...   \n",
       "3  In 1859, when only twenty-one years of age, he...   \n",
       "4  This plate is simply to show the extent and ge...   \n",
       "\n",
       "                                         target_text             filename  \\\n",
       "0  As a matter of fact Rowland's tables contain n...  1895ApJ_____2___74H   \n",
       "1  With respect to the application of the apparat...  1896ApJ_____3__259P   \n",
       "2  by practical observation, certain ideas of his...  1900ApJ____11__325K   \n",
       "3  In 1859, when only twenty-one years of age, he...  1905ApJ____22____1R   \n",
       "4  This plate is simply to show the extent and ge...  1907ApJ____25__218B   \n",
       "\n",
       "   page  sent num   type                                     predicted_text  \\\n",
       "0     0         3  plain  As a matter of fact Rowland's tables contain n...   \n",
       "1     7         1  plain  With respect to the application of the apparat...   \n",
       "2     0         2  plain  by practical observation, certain ideas of his...   \n",
       "3     0         3  plain  In 1859, when only twenty-one years of age, he...   \n",
       "4     4        10  plain  This plate is simply to show the extent and ge...   \n",
       "\n",
       "                        predicted_text_histOnlyModel  \n",
       "0  As a matter of fact Rowland's tables contain n...  \n",
       "1  Ith respect to the application of the apparatu...  \n",
       "2  The practical -observation, certain ideas of h...  \n",
       "3  In 1859, when only twenty-one years of age, he...  \n",
       "4  This plate is simply to show the extent and ge...  "
      ]
     },
     "execution_count": 55,
     "metadata": {},
     "output_type": "execute_result"
    }
   ],
   "source": [
    "df_byt5_words_h_full.head()"
   ]
  },
  {
   "cell_type": "code",
   "execution_count": 56,
   "id": "f5bb5965-c829-4cb4-858d-f0c9c4fb5971",
   "metadata": {
    "tags": []
   },
   "outputs": [],
   "source": [
    "df_byt5_words_h_full = calc_cer_wer(df_byt5_words_h_full.copy(), \n",
    "                                      target_text_col='target_text', \n",
    "                                     predicted_text_col = 'predicted_text')"
   ]
  },
  {
   "cell_type": "code",
   "execution_count": 57,
   "id": "31bfbf5a-4335-4454-b9da-ada1cd7d0984",
   "metadata": {
    "tags": []
   },
   "outputs": [
    {
     "data": {
      "image/png": "[encoded data removed]",
      "text/plain": [
       "<Figure size 1200x600 with 2 Axes>"
      ]
     },
     "metadata": {},
     "output_type": "display_data"
    }
   ],
   "source": [
    "fig, ax = plt.subplots(1,2,figsize=(12,6))\n",
    "df_byt5_words_h_full.plot(x = 'CER Before', y = 'CER After', kind='scatter',ax=ax[0])\n",
    "xlim = ax[0].get_xlim()\n",
    "ylim = ax[0].get_ylim()\n",
    "ax[0].plot([xlim[0],xlim[1]], [xlim[0],xlim[1]], '--', color='orange')\n",
    "\n",
    "df_byt5_words_h_full.plot(x = 'WER Before', y = 'WER After', kind='scatter',ax=ax[1])\n",
    "xlim = ax[1].get_xlim()\n",
    "ylim = ax[1].get_ylim()\n",
    "ax[1].plot([xlim[0],xlim[1]], [xlim[0],xlim[1]], '--', color='orange')\n",
    "\n",
    "plt.show()"
   ]
  },
  {
   "cell_type": "code",
   "execution_count": 58,
   "id": "4872831e-4913-4e0d-bca0-9fdd13ecdda9",
   "metadata": {
    "tags": []
   },
   "outputs": [
    {
     "name": "stdout",
     "output_type": "stream",
     "text": [
      "--------- Before -------------\n",
      "# NaNs = 0\n",
      "CER : mean = 5.53 , std = 8.19 , median = 1.32 , iqr = 7.35\n",
      "WER : mean = 8.98 , std = 11.35 , median = 4.65 , iqr = 13.33\n",
      "\n",
      "--------- After -------------\n",
      "CER : mean = 5.01 , std = 7.42 , median = 1.42 , iqr = 6.71\n",
      "WER : mean = 9.22 , std = 11.89 , median = 4.77 , iqr = 13.33\n",
      "\n",
      "------------ Improvement ----------------\n",
      "CER : mean =  -23.8 , std = 204.98 , median = 0.0 , iqr = 41.03\n",
      "WER : mean =  3.21 , std = 48.34 , median = 0.0 , iqr = 18.18\n",
      "CER : How many better = 159 , how many worse (or same) = 43 , % better = 78.71\n",
      "WER : How many better = 162 , how many worse (or same) = 40 , % better = 80.2\n"
     ]
    }
   ],
   "source": [
    "before='Before'; after = 'After'\n",
    "mea_cbefore,med_cbefore,std_cbefore,iqr_cbefore, mea_wbefore,med_wbefore,std_wbefore,iqr_wbefore, \\\n",
    "     mea_cafter,med_cafter,std_cafter,iqr_cafter, mea_wafter,med_wafter,std_wafter,iqr_wafter, \\\n",
    "     mea_c,med_c,std_c,iqr_c, mea_w,med_w,std_w,iqr_w, cerImp, werImp = get_print_stats(df_byt5_words_h_full, before=before, after = after)"
   ]
  },
  {
   "cell_type": "markdown",
   "id": "5d4b62ea-7161-48aa-aa68-633fad950fdc",
   "metadata": {},
   "source": [
    "## Byt5, *YES* fixed, historical"
   ]
  },
  {
   "cell_type": "code",
   "execution_count": 59,
   "id": "24d35b79-1cd8-45a6-be4c-b4f770ed91b6",
   "metadata": {
    "tags": []
   },
   "outputs": [],
   "source": [
    "# only words, byt5\n",
    "output_dir_inf = '/Users/jnaiman/Dropbox/wwt_image_extraction/OCRPostCorrection/inferences/historical_full/'\n",
    "\n",
    "ender = '_full_large' # 500k for training, 10k val (in the arxiv data)"
   ]
  },
  {
   "cell_type": "code",
   "execution_count": 60,
   "id": "5b3f8f24-7294-4eda-9a44-dc30c109330e",
   "metadata": {
    "tags": []
   },
   "outputs": [],
   "source": [
    "inf_files = glob(output_dir_inf + '*'+ender+'.csv')\n",
    "inf_files.sort()\n",
    "for i,f in enumerate(inf_files):\n",
    "    d = pd.read_csv(f)\n",
    "    if i == 0: # first\n",
    "        df_byt5_words_h_full_fix = d.copy()\n",
    "    else: # others\n",
    "        df_byt5_words_h_full_fix = pd.concat([df_byt5_words_h_full_fix,d],ignore_index=True)"
   ]
  },
  {
   "cell_type": "code",
   "execution_count": 61,
   "id": "60595f2f-8125-4d3d-bae3-b5b779097ddf",
   "metadata": {
    "tags": []
   },
   "outputs": [
    {
     "data": {
      "text/plain": [
       "202"
      ]
     },
     "execution_count": 61,
     "metadata": {},
     "output_type": "execute_result"
    }
   ],
   "source": [
    "df_byt5_words_h_full_fix = calc_cer_wer(df_byt5_words_h_full_fix.copy(), \n",
    "                                      target_text_col='target_text', \n",
    "                                     predicted_text_col = 'predicted_text')\n",
    "len(df_byt5_words_h_full_fix)"
   ]
  },
  {
   "cell_type": "code",
   "execution_count": 62,
   "id": "6d616bfa-f47c-47c6-8a78-59cc53546bff",
   "metadata": {
    "tags": []
   },
   "outputs": [],
   "source": [
    "# save number of instances\n",
    "with open(save_dats_dir + 'n_historical.dat', 'w') as f:\n",
    "    print(int(len(df_byt5_words_h_full_fix)),file=f)"
   ]
  },
  {
   "cell_type": "code",
   "execution_count": 63,
   "id": "a3475ff1-99c0-48d3-8728-01b7089e848d",
   "metadata": {
    "tags": []
   },
   "outputs": [],
   "source": [
    "df_byt5_words_h_full_fix = fix_ocr(df_byt5_words_h_full_fix.copy(), marks=marks)"
   ]
  },
  {
   "cell_type": "code",
   "execution_count": 64,
   "id": "cb7716fb-8164-4b3f-adfd-33959cde68f1",
   "metadata": {},
   "outputs": [
    {
     "data": {
      "text/plain": [
       "202"
      ]
     },
     "execution_count": 64,
     "metadata": {},
     "output_type": "execute_result"
    }
   ],
   "source": [
    "len(df_byt5_words_h_full_fix)"
   ]
  },
  {
   "cell_type": "code",
   "execution_count": 65,
   "id": "0633ff5c-f380-4cd0-8bcd-e5a571c5ca1a",
   "metadata": {
    "tags": []
   },
   "outputs": [
    {
     "data": {
      "image/png": "[encoded data removed]",
      "text/plain": [
       "<Figure size 1200x600 with 4 Axes>"
      ]
     },
     "metadata": {},
     "output_type": "display_data"
    }
   ],
   "source": [
    "fig, ax = plt.subplots(2,2,figsize=(12,6))\n",
    "ax = ax.flatten()\n",
    "df_byt5_words_h_full_fix.plot(x = 'CER Before', y = 'CER After', kind='scatter',ax=ax[0])\n",
    "xlim = ax[0].get_xlim()\n",
    "ylim = ax[0].get_ylim()\n",
    "ax[0].plot([xlim[0],xlim[1]], [xlim[0],xlim[1]], '--', color='orange')\n",
    "ax[0].set_title('CER, not fixed')\n",
    "\n",
    "df_byt5_words_h_full_fix.plot(x = 'WER Before', y = 'WER After', kind='scatter',ax=ax[1])\n",
    "xlim = ax[1].get_xlim()\n",
    "ylim = ax[1].get_ylim()\n",
    "ax[1].plot([xlim[0],xlim[1]], [xlim[0],xlim[1]], '--', color='orange')\n",
    "ax[1].set_title('WER, not fixed')\n",
    "\n",
    "# fixed\n",
    "iplot = 2\n",
    "df_byt5_words_h_full_fix.plot(x = 'CER Before', y = 'CER Fix Corrected', kind='scatter',ax=ax[iplot])\n",
    "xlim = ax[iplot].get_xlim()\n",
    "ylim = ax[iplot].get_ylim()\n",
    "ax[iplot].plot([xlim[0],xlim[1]], [xlim[0],xlim[1]], '--', color='orange')\n",
    "ax[iplot].set_title('CER, fixed')\n",
    "\n",
    "iplot = 3\n",
    "df_byt5_words_h_full_fix.plot(x = 'WER Before', y = 'WER Fix Corrected', kind='scatter',ax=ax[iplot])\n",
    "xlim = ax[iplot].get_xlim()\n",
    "ylim = ax[iplot].get_ylim()\n",
    "ax[iplot].plot([xlim[0],xlim[1]], [xlim[0],xlim[1]], '--', color='orange')\n",
    "ax[iplot].set_title('WER, fixed')\n",
    "\n",
    "# for a in ax:\n",
    "#     a.set_ylim(-5,100)\n",
    "\n",
    "fig.tight_layout()\n",
    "\n",
    "plt.show()"
   ]
  },
  {
   "cell_type": "code",
   "execution_count": 66,
   "id": "9cc4f555-66a5-4555-afc0-57e057941eec",
   "metadata": {},
   "outputs": [
    {
     "name": "stdout",
     "output_type": "stream",
     "text": [
      "--------- Before -------------\n",
      "# NaNs = 0\n",
      "CER : mean = 5.53 , std = 8.19 , median = 1.32 , iqr = 7.35\n",
      "WER : mean = 8.98 , std = 11.35 , median = 4.65 , iqr = 13.33\n",
      "\n",
      "--------- After -------------\n",
      "CER : mean = 3.94 , std = 9.63 , median = 0.48 , iqr = 3.49\n",
      "WER : mean = 8.2 , std = 15.06 , median = 2.63 , iqr = 10.53\n",
      "\n",
      "------------ Improvement ----------------\n",
      "CER : mean =  7.71 , std = 129.04 , median = 34.32 , iqr = nan\n",
      "WER : mean =  18.82 , std = 63.61 , median = 4.76 , iqr = nan\n",
      "CER : How many better = 167 , how many worse (or same) = 35 , % better = 82.67\n",
      "WER : How many better = 167 , how many worse (or same) = 35 , % better = 82.67\n"
     ]
    }
   ],
   "source": [
    "before = 'Before'\n",
    "after = 'Fix Corrected'\n",
    "\n",
    "mea_cbefore,med_cbefore,std_cbefore,iqr_cbefore, mea_wbefore,med_wbefore,std_wbefore,iqr_wbefore, \\\n",
    "     mea_cafter,med_cafter,std_cafter,iqr_cafter, mea_wafter,med_wafter,std_wafter,iqr_wafter, \\\n",
    "     mea_c,med_c,std_c,iqr_c, mea_w,med_w,std_w,iqr_w, cerImp, werImp = get_print_stats(df_byt5_words_h_full_fix, before=before, after = after)"
   ]
  },
  {
   "cell_type": "code",
   "execution_count": 67,
   "id": "9a0f8a0e-bc6d-4c6a-adfc-4c1af33f9e43",
   "metadata": {
    "tags": []
   },
   "outputs": [],
   "source": [
    "# save everything\n",
    "dats = [mea_cbefore,mea_wbefore,mea_cafter,mea_wafter,\n",
    "        mea_c,mea_w,cerImp,werImp]\n",
    "names_start = 'byt5_full_large_fix_historical'\n",
    "datnames = ['mean_cer_before','mean_wer_before','mean_cer_after','mean_wer_after',\n",
    "            'mean_cer_imp','mean_wer_imp','cerImp', 'werImp']\n",
    "for d,n in zip(dats,datnames):\n",
    "    save_dat(save_dats_dir+names_start+n+'.dat',d,formatting='zfill')"
   ]
  },
  {
   "cell_type": "code",
   "execution_count": 68,
   "id": "75d94aca-4a24-4d18-a4d8-adc7abdd77f1",
   "metadata": {},
   "outputs": [
    {
     "data": {
      "text/html": [
       "<div>\n",
       "<style scoped>\n",
       "    .dataframe tbody tr th:only-of-type {\n",
       "        vertical-align: middle;\n",
       "    }\n",
       "\n",
       "    .dataframe tbody tr th {\n",
       "        vertical-align: top;\n",
       "    }\n",
       "\n",
       "    .dataframe thead th {\n",
       "        text-align: right;\n",
       "    }\n",
       "</style>\n",
       "<table border=\"1\" class=\"dataframe\">\n",
       "  <thead>\n",
       "    <tr style=\"text-align: right;\">\n",
       "      <th></th>\n",
       "      <th>input_text</th>\n",
       "      <th>target_text</th>\n",
       "      <th>filename</th>\n",
       "      <th>page</th>\n",
       "      <th>sent num</th>\n",
       "      <th>type</th>\n",
       "      <th>predicted_text</th>\n",
       "      <th>predicted_text_histOnlyModel</th>\n",
       "      <th>CER Before</th>\n",
       "      <th>WER Before</th>\n",
       "      <th>...</th>\n",
       "      <th>WER Orig</th>\n",
       "      <th>CER Corrected</th>\n",
       "      <th>WER Corrected</th>\n",
       "      <th>CER Fix Corrected</th>\n",
       "      <th>WER Fix Corrected</th>\n",
       "      <th>CER Fix</th>\n",
       "      <th>WER Fix</th>\n",
       "      <th>target_text_fixed</th>\n",
       "      <th>predicted_text_fixed</th>\n",
       "      <th>masked entries</th>\n",
       "    </tr>\n",
       "  </thead>\n",
       "  <tbody>\n",
       "    <tr>\n",
       "      <th>41</th>\n",
       "      <td>140 has n = 0.67 and v, = 6.3 X 1014 sec\", but...</td>\n",
       "      <td>140 has $n = 0.67$ and $\\nu_c = 6.3 \\times 10^...</td>\n",
       "      <td>1964ApJ___140____1G</td>\n",
       "      <td>25</td>\n",
       "      <td>1</td>\n",
       "      <td>plain</td>\n",
       "      <td>140 has $n$ = 0.67 and $v_{\\rm r}$ = 6.3 $\\tim...</td>\n",
       "      <td>NaN</td>\n",
       "      <td>36.5217</td>\n",
       "      <td>45.8333</td>\n",
       "      <td>...</td>\n",
       "      <td>45.8333</td>\n",
       "      <td>33.0435</td>\n",
       "      <td>50.0000</td>\n",
       "      <td>77.5510</td>\n",
       "      <td>100.0</td>\n",
       "      <td>79.5918</td>\n",
       "      <td>127.2727</td>\n",
       "      <td>140 has ↭ and ↭, but arises from a volume ↭</td>\n",
       "      <td>140 has ↭ = 0.67 and ↭ = 6.3 ↭ ↭ ↭, but arises...</td>\n",
       "      <td>True</td>\n",
       "    </tr>\n",
       "    <tr>\n",
       "      <th>158</th>\n",
       "      <td>The K magnitude is 6.47, and the near-IR color...</td>\n",
       "      <td>The $K$ magnitude is 6.47, and the near-IR col...</td>\n",
       "      <td>1994ApJ___420__632S</td>\n",
       "      <td>1</td>\n",
       "      <td>30</td>\n",
       "      <td>plain</td>\n",
       "      <td>The K magnitude is 6.47, and the near-IR color...</td>\n",
       "      <td>The K magnitude is 6.47, and the near-IR color...</td>\n",
       "      <td>12.5749</td>\n",
       "      <td>35.1351</td>\n",
       "      <td>...</td>\n",
       "      <td>35.1351</td>\n",
       "      <td>13.7725</td>\n",
       "      <td>43.2432</td>\n",
       "      <td>62.3853</td>\n",
       "      <td>100.0</td>\n",
       "      <td>61.4679</td>\n",
       "      <td>100.0000</td>\n",
       "      <td>The ↭ magnitude is 6.47, and the near-IR color...</td>\n",
       "      <td>The K magnitude is 6.47, and the near-IR color...</td>\n",
       "      <td>True</td>\n",
       "    </tr>\n",
       "  </tbody>\n",
       "</table>\n",
       "<p>2 rows × 23 columns</p>\n",
       "</div>"
      ],
      "text/plain": [
       "                                            input_text  \\\n",
       "41   140 has n = 0.67 and v, = 6.3 X 1014 sec\", but...   \n",
       "158  The K magnitude is 6.47, and the near-IR color...   \n",
       "\n",
       "                                           target_text             filename  \\\n",
       "41   140 has $n = 0.67$ and $\\nu_c = 6.3 \\times 10^...  1964ApJ___140____1G   \n",
       "158  The $K$ magnitude is 6.47, and the near-IR col...  1994ApJ___420__632S   \n",
       "\n",
       "     page  sent num   type                                     predicted_text  \\\n",
       "41     25         1  plain  140 has $n$ = 0.67 and $v_{\\rm r}$ = 6.3 $\\tim...   \n",
       "158     1        30  plain  The K magnitude is 6.47, and the near-IR color...   \n",
       "\n",
       "                          predicted_text_histOnlyModel  CER Before  \\\n",
       "41                                                 NaN     36.5217   \n",
       "158  The K magnitude is 6.47, and the near-IR color...     12.5749   \n",
       "\n",
       "     WER Before  ...  WER Orig  CER Corrected  WER Corrected  \\\n",
       "41      45.8333  ...   45.8333        33.0435        50.0000   \n",
       "158     35.1351  ...   35.1351        13.7725        43.2432   \n",
       "\n",
       "     CER Fix Corrected  WER Fix Corrected  CER Fix   WER Fix  \\\n",
       "41             77.5510              100.0  79.5918  127.2727   \n",
       "158            62.3853              100.0  61.4679  100.0000   \n",
       "\n",
       "                                     target_text_fixed  \\\n",
       "41         140 has ↭ and ↭, but arises from a volume ↭   \n",
       "158  The ↭ magnitude is 6.47, and the near-IR color...   \n",
       "\n",
       "                                  predicted_text_fixed  masked entries  \n",
       "41   140 has ↭ = 0.67 and ↭ = 6.3 ↭ ↭ ↭, but arises...            True  \n",
       "158  The K magnitude is 6.47, and the near-IR color...            True  \n",
       "\n",
       "[2 rows x 23 columns]"
      ]
     },
     "execution_count": 68,
     "metadata": {},
     "output_type": "execute_result"
    }
   ],
   "source": [
    "# check really big ones\n",
    "df_byt5_words_h_full_fix.loc[df_byt5_words_h_full_fix['CER Fix Corrected'] > 60]\n",
    "#df_byt5_words_h_full_fix.loc[df_byt5_words_h_full_fix['CER Fix Corrected'] > df_byt5_words_h_full_fix['CER Before']]"
   ]
  },
  {
   "cell_type": "code",
   "execution_count": 69,
   "id": "ddac25ae-8c88-49fb-ac2d-77f03413a306",
   "metadata": {},
   "outputs": [
    {
     "name": "stdout",
     "output_type": "stream",
     "text": [
      "input text    : 140 has n = 0.67 and v, = 6.3 X 1014 sec\", but arises from a volume V = 4 X 10?\n",
      "target text   : 140 has $n = 0.67$ and $\\nu_c = 6.3 \\times 10^{14} \\, {\\rm sec}^{-1}$, but arises from a volume $V = 4 \\times 10^3$\n",
      "predicted text: 140 has $n$ = 0.67 and $v_{\\rm r}$ = 6.3 $\\times$ $^{14}$ $^{-1}$, but arises from a volume $V$ = 4 $\\times$ $^{-14}$.\n"
     ]
    }
   ],
   "source": [
    "cut = 60\n",
    "ival = 0\n",
    "print('input text    :', df_byt5_words_h_full_fix.loc[df_byt5_words_h_full_fix['CER Fix Corrected'] > cut]['input_text'].values[ival])\n",
    "print('target text   :', df_byt5_words_h_full_fix.loc[df_byt5_words_h_full_fix['CER Fix Corrected'] > cut]['target_text'].values[ival])\n",
    "print('predicted text:', df_byt5_words_h_full_fix.loc[df_byt5_words_h_full_fix['CER Fix Corrected'] > cut]['predicted_text'].values[ival])\n",
    "#print('predicted text:', df_byt5_words_h_full_fix.loc[df_byt5_words_h_full_fix['CER Fix Corrected'] > cut]['predicted_text_defaultModel'].values[ival])"
   ]
  },
  {
   "cell_type": "code",
   "execution_count": null,
   "id": "4a02c9f4-099e-4b18-932b-019db45e05ce",
   "metadata": {},
   "outputs": [],
   "source": []
  },
  {
   "cell_type": "code",
   "execution_count": null,
   "id": "3c6eccf0-b64b-4aa8-be25-a412765ad030",
   "metadata": {},
   "outputs": [],
   "source": []
  },
  {
   "cell_type": "code",
   "execution_count": 70,
   "id": "bb547e74-b498-4d79-913f-617f1ce85cf6",
   "metadata": {
    "tags": []
   },
   "outputs": [],
   "source": [
    "classification_metrics_historical = make_classification_metrics(df_byt5_words_h_full_fix, marks=marks_rev)"
   ]
  },
  {
   "cell_type": "code",
   "execution_count": 71,
   "id": "1deef297-97c2-4f12-900e-e81ddfe13a20",
   "metadata": {
    "tags": []
   },
   "outputs": [
    {
     "name": "stdout",
     "output_type": "stream",
     "text": [
      "-------- Historical ---------\n",
      "inlines\n",
      "{'FP': 43, 'FN': 22, 'TP': 114, 'total true': 136}\n",
      "prec = 0.7261146496815286 , rec = 0.8382352941176471 , f1 =  0.7781569965870307\n",
      "\n"
     ]
    }
   ],
   "source": [
    "print('-------- Historical ---------')\n",
    "classification_metrics_historical = prec_rec_f1(classification_metrics_historical.copy())"
   ]
  },
  {
   "cell_type": "code",
   "execution_count": 72,
   "id": "fc00bb1b-be4b-46f7-b012-88dd2568cea3",
   "metadata": {
    "tags": []
   },
   "outputs": [
    {
     "data": {
      "text/plain": [
       "{'citations': {'FP': 1, 'FN': 0, 'TP': 0, 'total true': 0},\n",
       " 'inlines': {'FP': 43,\n",
       "  'FN': 22,\n",
       "  'TP': 114,\n",
       "  'total true': 136,\n",
       "  'Prec': 0.7261146496815286,\n",
       "  'Rec': 0.8382352941176471,\n",
       "  'F1': 0.7781569965870307},\n",
       " 'refs': {'FP': 4, 'FN': 0, 'TP': 0, 'total true': 0}}"
      ]
     },
     "execution_count": 72,
     "metadata": {},
     "output_type": "execute_result"
    }
   ],
   "source": [
    "classification_metrics_historical"
   ]
  },
  {
   "cell_type": "markdown",
   "id": "17cbfc84-c770-4eac-a13b-9d5b95a58182",
   "metadata": {},
   "source": [
    "Print out befores/afters if the CER/WER is >0 and unchanged, or has gone down:"
   ]
  },
  {
   "cell_type": "code",
   "execution_count": 73,
   "id": "1dea8fd3-1515-4710-9884-68b123bb3482",
   "metadata": {
    "tags": []
   },
   "outputs": [],
   "source": [
    "for k,v in classification_metrics_historical.items():\n",
    "    fdat = save_dats_dir + 'historical_class_' + k\n",
    "    if 'Prec' in v: # if not, then all zeros\n",
    "        p = round(v['Prec']*100,2)\n",
    "        r = round(v['Rec']*100,2)\n",
    "        f1 = round(v['F1']*100,2)\n",
    "        tot = int(v['total true'])\n",
    "    else:\n",
    "        p = 'NaN'; r = 'NaN'; f1 = 'NaN'\n",
    "        tot = 0\n",
    "        \n",
    "    for m,n in zip([p,r,f1],['prec','rec','f1']):\n",
    "        save_dat(fdat + '_' + n + '.dat',m,formatting='zfill')\n",
    "        \n",
    "    save_dat(fdat + '_' + 'total' + '.dat',tot,formatting='zfill',round_val=0)\n",
    "        \n",
    "    # save_dat(fdat + '_' + 'total' + '.dat',tot,formatting='zfill',round_val=0)\n",
    "    # for m,n in zip([p,r,f1,tot],['prec','rec','f1','total']):\n",
    "    #     with open(fdat + '_' + n + '.dat','w') as f:\n",
    "    #         if m == 0 and 'tota' not in n:\n",
    "    #             m = '0.0'\n",
    "    #         print(m,file=f)"
   ]
  },
  {
   "cell_type": "code",
   "execution_count": 74,
   "id": "73f1aa90-bf18-4137-9bb9-5e5ccaa8ae91",
   "metadata": {
    "tags": []
   },
   "outputs": [],
   "source": [
    "#df_byt5_words_h_full_fix.head()"
   ]
  },
  {
   "cell_type": "code",
   "execution_count": 75,
   "id": "b92abc7e-31b2-4f92-9eae-1a50a07f4e5e",
   "metadata": {
    "tags": []
   },
   "outputs": [],
   "source": [
    "istart = 0\n",
    "iend = 3\n",
    "for i in range(len(df_byt5_words_h_full_fix)):\n",
    "    d = df_byt5_words_h_full_fix.iloc[i]\n",
    "    if d['CER Fix Corrected'] >= d['CER Orig'] and d['CER Orig']>0:\n",
    "        if i > istart and iend < iend:\n",
    "            print('orig OCR :', d['input_text'])\n",
    "            print('orig PDF :', d['target_text'])\n",
    "            print('pred txt :', d['predicted_text'])\n",
    "            print('')"
   ]
  },
  {
   "cell_type": "code",
   "execution_count": 76,
   "id": "223a2080-aa9b-48c1-8d9f-92004be4ba39",
   "metadata": {
    "tags": []
   },
   "outputs": [],
   "source": [
    "for i in range(len(df_byt5_words_h_full_fix)):\n",
    "    d = df_byt5_words_h_full_fix.iloc[i]\n",
    "    if d['WER Fix Corrected'] >= d['WER Orig'] and d['WER Orig']>0:\n",
    "        if i > istart and iend < iend:\n",
    "            print('orig OCR :', d['input_text'])\n",
    "            print('orig PDF :', d['target_text'])\n",
    "            print('pred txt :', d['predicted_text'])\n",
    "            print('')"
   ]
  },
  {
   "cell_type": "markdown",
   "id": "b6776253-73e4-492a-b45a-9f019eae9238",
   "metadata": {},
   "source": [
    "## byt5, historical, not fixed, just plain byt5-small model (no transfer learning)"
   ]
  },
  {
   "cell_type": "code",
   "execution_count": 77,
   "id": "1e22444e-0a49-4647-b643-455ed4938707",
   "metadata": {
    "tags": []
   },
   "outputs": [],
   "source": [
    "# only words, byt5\n",
    "output_dir_inf = '/Users/jnaiman/Dropbox/wwt_image_extraction/OCRPostCorrection/inferences/historical_full/'\n",
    "\n",
    "ender = '_full_large' # 500k for training, 10k val (in the arxiv data)"
   ]
  },
  {
   "cell_type": "code",
   "execution_count": 78,
   "id": "3f7d4298-f20e-43d4-b60b-4448ba087129",
   "metadata": {
    "tags": []
   },
   "outputs": [],
   "source": [
    "inf_files = glob(output_dir_inf + '*'+ender+'.csv')\n",
    "inf_files.sort()\n",
    "for i,f in enumerate(inf_files):\n",
    "    d = pd.read_csv(f)\n",
    "    if i == 0: # first\n",
    "        df_byt5_words_h_full_orig = d.copy()\n",
    "    else: # others\n",
    "        df_byt5_words_h_full_orig = pd.concat([df_byt5_words_h_full_orig,d],ignore_index=True)"
   ]
  },
  {
   "cell_type": "code",
   "execution_count": 79,
   "id": "6eed562b-41cb-4280-82ef-0790b3631c27",
   "metadata": {
    "tags": []
   },
   "outputs": [],
   "source": [
    "# df_byt5_words_h_full_orig = calc_cer_wer(df_byt5_words_h_full_orig.copy(), \n",
    "#                                       target_text_col='target_text', \n",
    "#                                      predicted_text_col = 'predicted_text_histOnlyModel')"
   ]
  },
  {
   "cell_type": "code",
   "execution_count": 80,
   "id": "64cc7bcb-ca08-45ce-b828-20f25215113b",
   "metadata": {
    "tags": []
   },
   "outputs": [],
   "source": [
    "# before='Before'\n",
    "# after = 'After'\n",
    "# mea_cbefore,med_cbefore,std_cbefore,iqr_cbefore, mea_wbefore,med_wbefore,std_wbefore,iqr_wbefore, \\\n",
    "#      mea_cafter,med_cafter,std_cafter,iqr_cafter, mea_wafter,med_wafter,std_wafter,iqr_wafter, \\\n",
    "#      mea_c,med_c,std_c,iqr_c, mea_w,med_w,std_w,iqr_w, cerImp, werImp = get_print_stats(df_byt5_words_h_full_orig, \n",
    "#                                                                                         before=before, after = after)"
   ]
  },
  {
   "cell_type": "markdown",
   "id": "67bba04f-aa38-4e7e-8dd3-4da46fad9040",
   "metadata": {},
   "source": [
    "### With fixing:"
   ]
  },
  {
   "cell_type": "code",
   "execution_count": 81,
   "id": "53a5ae69-b0ef-480d-bb73-eb04b0b23628",
   "metadata": {
    "tags": []
   },
   "outputs": [],
   "source": [
    "# inf_files = glob(output_dir_inf + '*'+ender+'.csv')\n",
    "# inf_files.sort()\n",
    "# for i,f in enumerate(inf_files):\n",
    "#     d = pd.read_csv(f)\n",
    "#     if i == 0: # first\n",
    "#         df_byt5_words_h_full_orig_fix = d.copy()\n",
    "#     else: # others\n",
    "#         df_byt5_words_h_full_orig_fix = pd.concat([df_byt5_words_h_full_orig_fix,d],ignore_index=True)"
   ]
  },
  {
   "cell_type": "code",
   "execution_count": 82,
   "id": "dc2ea090-509e-49e2-9e8d-4f8a90b3d42f",
   "metadata": {
    "tags": []
   },
   "outputs": [],
   "source": [
    "# df_byt5_words_h_full_orig_fix = calc_cer_wer(df_byt5_words_h_full_orig_fix.copy(), \n",
    "#                                       target_text_col='target_text', \n",
    "#                                      predicted_text_col = 'predicted_text_histOnlyModel')"
   ]
  },
  {
   "cell_type": "code",
   "execution_count": 83,
   "id": "fc143bf1-450d-407f-912d-075b17b6a8e1",
   "metadata": {
    "tags": []
   },
   "outputs": [],
   "source": [
    "# df_byt5_words_h_full_orig_fix = fix_ocr(df_byt5_words_h_full_orig_fix.copy(), \n",
    "#                                         marks=marks, predicted_text_col='predicted_text_histOnlyModel')"
   ]
  },
  {
   "cell_type": "code",
   "execution_count": 84,
   "id": "2c6b4163-4792-4980-b661-28147103b72b",
   "metadata": {
    "tags": []
   },
   "outputs": [],
   "source": [
    "# before = 'Before'\n",
    "# after = 'Fix Corrected'\n",
    "\n",
    "# mea_cbefore,med_cbefore,std_cbefore,iqr_cbefore, mea_wbefore,med_wbefore,std_wbefore,iqr_wbefore, \\\n",
    "#      mea_cafter,med_cafter,std_cafter,iqr_cafter, mea_wafter,med_wafter,std_wafter,iqr_wafter, \\\n",
    "#      mea_c,med_c,std_c,iqr_c, mea_w,med_w,std_w,iqr_w, cerImp, werImp \\\n",
    "#      = get_print_stats(df_byt5_words_h_full_orig_fix, before=before, after = after)"
   ]
  },
  {
   "cell_type": "code",
   "execution_count": 85,
   "id": "fe0a178a-8566-444d-bfec-f08e0f391a83",
   "metadata": {
    "tags": []
   },
   "outputs": [],
   "source": [
    "# # save everything\n",
    "# dats = [mea_cbefore,mea_wbefore,mea_cafter,mea_wafter,\n",
    "#         mea_c,mea_w,cerImp,werImp]\n",
    "# names_start = 'historical_untrained_'\n",
    "# datnames = ['mean_cer_before','mean_wer_before','mean_cer_after','mean_wer_after',\n",
    "#             'mean_cer_imp','mean_wer_imp','cerImp', 'werImp']\n",
    "# for d,n in zip(dats,datnames):\n",
    "#     save_dat(save_dats_dir+names_start+n+'.dat',d,formatting='zfill',round_val=0)"
   ]
  },
  {
   "cell_type": "markdown",
   "id": "39095be7-880e-4329-9fd1-74c04e62bd34",
   "metadata": {},
   "source": [
    "## byt5, historical data, trained on historical data"
   ]
  },
  {
   "cell_type": "code",
   "execution_count": 86,
   "id": "dc53f557-62f2-450c-ba61-41d077c07d97",
   "metadata": {
    "tags": []
   },
   "outputs": [],
   "source": [
    "inf_files = glob(output_dir_inf + '*'+ender+'.csv')\n",
    "inf_files.sort()\n",
    "for i,f in enumerate(inf_files):\n",
    "    d = pd.read_csv(f)\n",
    "    if i == 0: # first\n",
    "        df_byt5_words_h_p = d.copy()\n",
    "    else: # others\n",
    "        df_byt5_words_h_p = pd.concat([df_byt5_words_h_p,d],ignore_index=True)"
   ]
  },
  {
   "cell_type": "code",
   "execution_count": 87,
   "id": "75663a30-0bc4-410c-be49-b8344a84b87a",
   "metadata": {
    "tags": []
   },
   "outputs": [
    {
     "data": {
      "text/html": [
       "<div>\n",
       "<style scoped>\n",
       "    .dataframe tbody tr th:only-of-type {\n",
       "        vertical-align: middle;\n",
       "    }\n",
       "\n",
       "    .dataframe tbody tr th {\n",
       "        vertical-align: top;\n",
       "    }\n",
       "\n",
       "    .dataframe thead th {\n",
       "        text-align: right;\n",
       "    }\n",
       "</style>\n",
       "<table border=\"1\" class=\"dataframe\">\n",
       "  <thead>\n",
       "    <tr style=\"text-align: right;\">\n",
       "      <th></th>\n",
       "      <th>input_text</th>\n",
       "      <th>target_text</th>\n",
       "      <th>filename</th>\n",
       "      <th>page</th>\n",
       "      <th>sent num</th>\n",
       "      <th>type</th>\n",
       "      <th>predicted_text</th>\n",
       "      <th>predicted_text_histOnlyModel</th>\n",
       "    </tr>\n",
       "  </thead>\n",
       "  <tbody>\n",
       "    <tr>\n",
       "      <th>0</th>\n",
       "      <td>As a matter of fact Rowland's tables contain n...</td>\n",
       "      <td>As a matter of fact Rowland's tables contain n...</td>\n",
       "      <td>1895ApJ_____2___74H</td>\n",
       "      <td>0</td>\n",
       "      <td>3</td>\n",
       "      <td>plain</td>\n",
       "      <td>As a matter of fact Rowland's tables contain n...</td>\n",
       "      <td>As a matter of fact Rowland's tables contain n...</td>\n",
       "    </tr>\n",
       "  </tbody>\n",
       "</table>\n",
       "</div>"
      ],
      "text/plain": [
       "                                          input_text  \\\n",
       "0  As a matter of fact Rowland's tables contain n...   \n",
       "\n",
       "                                         target_text             filename  \\\n",
       "0  As a matter of fact Rowland's tables contain n...  1895ApJ_____2___74H   \n",
       "\n",
       "   page  sent num   type                                     predicted_text  \\\n",
       "0     0         3  plain  As a matter of fact Rowland's tables contain n...   \n",
       "\n",
       "                        predicted_text_histOnlyModel  \n",
       "0  As a matter of fact Rowland's tables contain n...  "
      ]
     },
     "execution_count": 87,
     "metadata": {},
     "output_type": "execute_result"
    }
   ],
   "source": [
    "df_byt5_words_h_p.head(n=1)"
   ]
  },
  {
   "cell_type": "code",
   "execution_count": 88,
   "id": "25332f4d-542d-448a-86b1-736b8392f11d",
   "metadata": {
    "tags": []
   },
   "outputs": [],
   "source": [
    "df_byt5_words_h_p = calc_cer_wer(df_byt5_words_h_p.copy(), \n",
    "                                      target_text_col='target_text', \n",
    "                                     predicted_text_col = 'predicted_text_histOnlyModel')"
   ]
  },
  {
   "cell_type": "code",
   "execution_count": 89,
   "id": "c5154a4a-ba51-4ab1-9ddb-d1688ed4df8e",
   "metadata": {
    "tags": []
   },
   "outputs": [
    {
     "name": "stdout",
     "output_type": "stream",
     "text": [
      "no matching $ in OCR corrected fix!\n",
      "no matching $ in OCR corrected fix!\n",
      "no matching $ in OCR corrected fix!\n",
      "no matching $ in OCR corrected fix!\n",
      "no matching $ in OCR corrected fix!\n",
      "no matching $ in OCR corrected fix!\n",
      "no matching $ in OCR corrected fix!\n",
      "no matching $ in OCR corrected fix!\n",
      "no matching $ in OCR corrected fix!\n",
      "no matching $ in OCR corrected fix!\n",
      "no matching $ in OCR corrected fix!\n",
      "no matching $ in OCR corrected fix!\n",
      "no matching $ in OCR corrected fix!\n",
      "no matching $ in OCR corrected fix!\n"
     ]
    }
   ],
   "source": [
    "df_byt5_words_h_p = fix_ocr(df_byt5_words_h_p.copy(), \n",
    "                            marks=marks, predicted_text_col='predicted_text_histOnlyModel')"
   ]
  },
  {
   "cell_type": "code",
   "execution_count": 90,
   "id": "5a8caca4-6d76-4ad9-b5ae-7e7ea5027974",
   "metadata": {
    "tags": []
   },
   "outputs": [
    {
     "name": "stdout",
     "output_type": "stream",
     "text": [
      " *************** Not Fixed ******************** \n",
      "--------- Before -------------\n",
      "# NaNs = 20\n",
      "CER : mean = 4.68 , std = 7.44 , median = 0.89 , iqr = 5.96\n",
      "WER : mean = 7.83 , std = 10.63 , median = 3.85 , iqr = 11.43\n",
      "\n",
      "--------- After -------------\n",
      "CER : mean = 29.46 , std = 151.51 , median = 3.99 , iqr = 17.86\n",
      "WER : mean = 31.76 , std = 139.08 , median = 8.05 , iqr = 25.0\n",
      "\n",
      "------------ Improvement ----------------\n",
      "CER : mean =  -387.66 , std = 1205.65 , median = 0.0 , iqr = 189.68\n",
      "WER : mean =  -172.46 , std = 725.94 , median = 0.0 , iqr = 114.28\n",
      "CER : How many better = 117 , how many worse (or same) = 85 , % better = 57.92\n",
      "WER : How many better = 123 , how many worse (or same) = 79 , % better = 60.89\n"
     ]
    }
   ],
   "source": [
    "before='Before'\n",
    "after = 'After'\n",
    "\n",
    "print(' *************** Not Fixed ******************** ')\n",
    "mea_cbefore,med_cbefore,std_cbefore,iqr_cbefore, mea_wbefore,med_wbefore,std_wbefore,iqr_wbefore, \\\n",
    "     mea_cafter,med_cafter,std_cafter,iqr_cafter, mea_wafter,med_wafter,std_wafter,iqr_wafter, \\\n",
    "     mea_c,med_c,std_c,iqr_c, mea_w,med_w,std_w,iqr_w, cerImp, werImp = get_print_stats(df_byt5_words_h_p, \n",
    "                                                                                        before=before, after = after)"
   ]
  },
  {
   "cell_type": "code",
   "execution_count": 91,
   "id": "90d04812-1e2d-4c53-990a-e16f5fda5735",
   "metadata": {
    "tags": []
   },
   "outputs": [],
   "source": [
    "#df_byt5_words_h_p.columns"
   ]
  },
  {
   "cell_type": "code",
   "execution_count": 92,
   "id": "a31fb753-0bd9-410d-b69c-c719b85a0028",
   "metadata": {
    "tags": []
   },
   "outputs": [
    {
     "name": "stdout",
     "output_type": "stream",
     "text": [
      " *************** Fixed ******************** \n",
      "--------- Before -------------\n",
      "# NaNs = 20\n",
      "CER : mean = 4.68 , std = 7.44 , median = 0.89 , iqr = 5.96\n",
      "WER : mean = 7.83 , std = 10.63 , median = 3.85 , iqr = 11.43\n",
      "\n",
      "--------- After -------------\n",
      "CER : mean = 30.84 , std = 144.29 , median = 2.41 , iqr = 19.46\n",
      "WER : mean = 34.59 , std = 145.78 , median = 6.45 , iqr = 25.37\n",
      "\n",
      "------------ Improvement ----------------\n",
      "CER : mean =  -443.18 , std = 1216.33 , median = 0.0 , iqr = nan\n",
      "WER : mean =  -209.74 , std = 790.87 , median = -12.5 , iqr = nan\n",
      "CER : How many better = 128 , how many worse (or same) = 74 , % better = 63.37\n",
      "WER : How many better = 122 , how many worse (or same) = 80 , % better = 60.4\n"
     ]
    }
   ],
   "source": [
    "before = 'Before'\n",
    "after = 'Fix Corrected'\n",
    "\n",
    "print(' *************** Fixed ******************** ')\n",
    "\n",
    "mea_cbefore,med_cbefore,std_cbefore,iqr_cbefore, mea_wbefore,med_wbefore,std_wbefore,iqr_wbefore, \\\n",
    "     mea_cafter,med_cafter,std_cafter,iqr_cafter, mea_wafter,med_wafter,std_wafter,iqr_wafter, \\\n",
    "     mea_c,med_c,std_c,iqr_c, mea_w,med_w,std_w,iqr_w, cerImp, werImp \\\n",
    "     = get_print_stats(df_byt5_words_h_p, before=before, after = after)"
   ]
  },
  {
   "cell_type": "code",
   "execution_count": 93,
   "id": "a9581f46-a4b3-4610-8d0a-e9a14b265d51",
   "metadata": {
    "tags": []
   },
   "outputs": [],
   "source": [
    "# save everything\n",
    "dats = [mea_cbefore,mea_wbefore,mea_cafter,mea_wafter,\n",
    "        mea_c,mea_w,cerImp,werImp]\n",
    "names_start = 'historical_onlyHist_'\n",
    "datnames = ['mean_cer_before','mean_wer_before','mean_cer_after','mean_wer_after',\n",
    "            'mean_cer_imp','mean_wer_imp','cerImp', 'werImp']\n",
    "for d,n in zip(dats,datnames):\n",
    "    save_dat(save_dats_dir+names_start+n+'.dat',d,formatting='zfill',round_val=2)"
   ]
  },
  {
   "cell_type": "markdown",
   "id": "4627813a-d0db-4644-a244-238b551b57ad",
   "metadata": {},
   "source": [
    "## byt5, historical data, with the yelpfeast model\n",
    "\n",
    "This is the model from [yelpfeast ocr post correction](https://huggingface.co/yelpfeast/byt5-base-english-ocr-correction)."
   ]
  },
  {
   "cell_type": "code",
   "execution_count": 36,
   "id": "572ade2a-3344-450d-8c3e-a03e5c39eb49",
   "metadata": {},
   "outputs": [],
   "source": [
    "# only words, byt5\n",
    "output_dir_inf = '/Users/jnaiman/Dropbox/wwt_image_extraction/OCRPostCorrection/inferences/historical_untrained/'\n",
    "\n",
    "ender = '_untrained' # untrained"
   ]
  },
  {
   "cell_type": "code",
   "execution_count": 37,
   "id": "65e3b259-c07f-48ec-b576-b7534965364c",
   "metadata": {
    "tags": []
   },
   "outputs": [],
   "source": [
    "inf_files = glob(output_dir_inf + '*'+ender+'.csv')\n",
    "inf_files.sort()\n",
    "for i,f in enumerate(inf_files):\n",
    "    d = pd.read_csv(f)\n",
    "    if i == 0: # first\n",
    "        df_byt5_words_untrained = d.copy()\n",
    "    else: # others\n",
    "        df_byt5_words_untrained = pd.concat([df_byt5_words_untrained,d],ignore_index=True)"
   ]
  },
  {
   "cell_type": "code",
   "execution_count": 38,
   "id": "89333012-1e3d-4029-9d65-59f68bf240f7",
   "metadata": {
    "tags": []
   },
   "outputs": [],
   "source": [
    "#d"
   ]
  },
  {
   "cell_type": "code",
   "execution_count": 39,
   "id": "d96aecdf-5ba5-408e-af52-c3f16fa5cfbb",
   "metadata": {
    "tags": []
   },
   "outputs": [
    {
     "data": {
      "text/html": [
       "<div>\n",
       "<style scoped>\n",
       "    .dataframe tbody tr th:only-of-type {\n",
       "        vertical-align: middle;\n",
       "    }\n",
       "\n",
       "    .dataframe tbody tr th {\n",
       "        vertical-align: top;\n",
       "    }\n",
       "\n",
       "    .dataframe thead th {\n",
       "        text-align: right;\n",
       "    }\n",
       "</style>\n",
       "<table border=\"1\" class=\"dataframe\">\n",
       "  <thead>\n",
       "    <tr style=\"text-align: right;\">\n",
       "      <th></th>\n",
       "      <th>input_text_unclean</th>\n",
       "      <th>target_text_unclean</th>\n",
       "      <th>filename</th>\n",
       "      <th>page</th>\n",
       "      <th>sent num</th>\n",
       "      <th>type</th>\n",
       "      <th>input_text</th>\n",
       "      <th>target_text</th>\n",
       "      <th>predicted_text</th>\n",
       "    </tr>\n",
       "  </thead>\n",
       "  <tbody>\n",
       "    <tr>\n",
       "      <th>0</th>\n",
       "      <td>As a matter of fact Rowland's tables contain n...</td>\n",
       "      <td>As a matter of fact Rowland's tables contain n...</td>\n",
       "      <td>1895ApJ_____2___74H</td>\n",
       "      <td>0</td>\n",
       "      <td>3</td>\n",
       "      <td>plain</td>\n",
       "      <td>As a matter of fact Rowland's tables contain n...</td>\n",
       "      <td>As a matter of fact Rowland's tables contain n...</td>\n",
       "      <td>As a matter of fact Rowland's tables contain n...</td>\n",
       "    </tr>\n",
       "    <tr>\n",
       "      <th>1</th>\n",
       "      <td>With respect to the application of the apparat...</td>\n",
       "      <td>With respect to the application of the apparat...</td>\n",
       "      <td>1896ApJ_____3__259P</td>\n",
       "      <td>7</td>\n",
       "      <td>1</td>\n",
       "      <td>plain</td>\n",
       "      <td>With respect to the application of the apparat...</td>\n",
       "      <td>With respect to the application of the apparat...</td>\n",
       "      <td>With respect to the application of the apparat...</td>\n",
       "    </tr>\n",
       "  </tbody>\n",
       "</table>\n",
       "</div>"
      ],
      "text/plain": [
       "                                  input_text_unclean   \n",
       "0  As a matter of fact Rowland's tables contain n...  \\\n",
       "1  With respect to the application of the apparat...   \n",
       "\n",
       "                                 target_text_unclean             filename   \n",
       "0  As a matter of fact Rowland's tables contain n...  1895ApJ_____2___74H  \\\n",
       "1  With respect to the application of the apparat...  1896ApJ_____3__259P   \n",
       "\n",
       "   page  sent num   type                                         input_text   \n",
       "0     0         3  plain  As a matter of fact Rowland's tables contain n...  \\\n",
       "1     7         1  plain  With respect to the application of the apparat...   \n",
       "\n",
       "                                         target_text   \n",
       "0  As a matter of fact Rowland's tables contain n...  \\\n",
       "1  With respect to the application of the apparat...   \n",
       "\n",
       "                                      predicted_text  \n",
       "0  As a matter of fact Rowland's tables contain n...  \n",
       "1  With respect to the application of the apparat...  "
      ]
     },
     "execution_count": 39,
     "metadata": {},
     "output_type": "execute_result"
    }
   ],
   "source": [
    "df_byt5_words_untrained.head(n=2)"
   ]
  },
  {
   "cell_type": "code",
   "execution_count": 40,
   "id": "bab7049e-f18f-410b-ade7-69afb7e7595e",
   "metadata": {
    "tags": []
   },
   "outputs": [],
   "source": [
    "#df_byt5_words_untrained['predicted_text_histOnlyModel'].values"
   ]
  },
  {
   "cell_type": "code",
   "execution_count": 41,
   "id": "a977a0bb-91de-416a-b671-72f53ee2f19d",
   "metadata": {
    "tags": []
   },
   "outputs": [],
   "source": [
    "df_byt5_words_untrained = calc_cer_wer(df_byt5_words_untrained.copy(), \n",
    "                                      target_text_col='target_text', \n",
    "                                     predicted_text_col = 'predicted_text')"
   ]
  },
  {
   "cell_type": "code",
   "execution_count": 42,
   "id": "65b4c916-fd52-4ad4-8709-f60a9f42b30a",
   "metadata": {
    "tags": []
   },
   "outputs": [
    {
     "name": "stdout",
     "output_type": "stream",
     "text": [
      " *************** Not Fixed ******************** \n",
      "--------- Before -------------\n",
      "# NaNs = 0\n",
      "CER : mean = 0.57 , std = 1.49 , median = 0.0 , iqr = 0.53\n",
      "WER : mean = 2.18 , std = 4.15 , median = 0.0 , iqr = 3.28\n",
      "\n",
      "--------- After -------------\n",
      "CER : mean = 13.39 , std = 23.96 , median = 1.86 , iqr = 7.81\n",
      "WER : mean = 20.12 , std = 23.65 , median = 10.91 , iqr = 17.28\n",
      "\n",
      "------------ Improvement ----------------\n",
      "CER : mean =  -2499.35 , std = 4270.87 , median = -199.99 , iqr = 3137.52\n",
      "WER : mean =  -499.26 , std = 699.02 , median = -200.0 , iqr = 525.0\n",
      "CER : How many better = 33 , how many worse (or same) = 169 , % better = 16.34\n",
      "WER : How many better = 35 , how many worse (or same) = 167 , % better = 17.33\n"
     ]
    }
   ],
   "source": [
    "before='Before'\n",
    "after = 'After'\n",
    "\n",
    "print(' *************** Not Fixed ******************** ')\n",
    "mea_cbefore,med_cbefore,std_cbefore,iqr_cbefore, mea_wbefore,med_wbefore,std_wbefore,iqr_wbefore, \\\n",
    "     mea_cafter,med_cafter,std_cafter,iqr_cafter, mea_wafter,med_wafter,std_wafter,iqr_wafter, \\\n",
    "     mea_c,med_c,std_c,iqr_c, mea_w,med_w,std_w,iqr_w, cerImp, werImp = get_print_stats(df_byt5_words_untrained, \n",
    "                                                                                        before=before, after = after)"
   ]
  },
  {
   "cell_type": "code",
   "execution_count": null,
   "id": "0e16bfe9-6118-459a-9424-1a95cb6f1460",
   "metadata": {},
   "outputs": [],
   "source": []
  }
 ],
 "metadata": {
  "kernelspec": {
   "display_name": "Python 3 (ipykernel)",
   "language": "python",
   "name": "python3"
  },
  "language_info": {
   "codemirror_mode": {
    "name": "ipython",
    "version": 3
   },
   "file_extension": ".py",
   "mimetype": "text/x-python",
   "name": "python",
   "nbconvert_exporter": "python",
   "pygments_lexer": "ipython3",
   "version": "3.9.16"
  }
 },
 "nbformat": 4,
 "nbformat_minor": 5
}
