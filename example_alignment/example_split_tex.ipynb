{
 "cells": [
  {
   "cell_type": "markdown",
   "id": "29ee11c6-a68e-4bd4-a14d-3fb3502670fb",
   "metadata": {},
   "source": [
    "This uses TeXSoup to segment and mark an example document.\n",
    "\n",
    "Note: the paper uses a custom-built parser, however we intend to add our segmentation methods into TeXSoup in the future.\n",
    "\n",
    "Be sure TeXSoup is installed: https://github.com/alvinwan/TexSoup#Installation (we recommend to install it from the GitHub source)"
   ]
  },
  {
   "cell_type": "code",
   "execution_count": 366,
   "id": "be5fcccf-dbdc-4f52-b395-e54b424a9eb9",
   "metadata": {
    "tags": []
   },
   "outputs": [],
   "source": [
    "ds = ['\\n', '\\t', '\\r', ' '] # all whitespaces\n",
    "def split_keep(line, d = \"\\n\"):\n",
    "    ind = 0\n",
    "    splits = []\n",
    "    w = ''\n",
    "    while ind < len(line):\n",
    "        if line[ind] in ds:\n",
    "            splits.append(w)\n",
    "            splits.append(line[ind])\n",
    "            ind += 1\n",
    "            w = ''\n",
    "        else: # add to word\n",
    "            w += line[ind]\n",
    "            ind += 1\n",
    "    splits.append(w)\n",
    "    #return splits[1:] # extra empty at top\n",
    "    return splits"
   ]
  },
  {
   "cell_type": "code",
   "execution_count": 367,
   "id": "38ba69fc-268a-43e9-a6ec-3afa5e601218",
   "metadata": {
    "tags": []
   },
   "outputs": [],
   "source": [
    "# tex filename?\n",
    "tex_file = './example_tex/mnras_template_clean.tex'\n",
    "\n",
    "tex_file_out = './example_tex/mnras_template_clean_marked.tex'"
   ]
  },
  {
   "cell_type": "code",
   "execution_count": 368,
   "id": "2f865c70-b79a-4a1e-9076-d5115fe21f6a",
   "metadata": {
    "tags": []
   },
   "outputs": [],
   "source": [
    "tex_lib = '/Users/jnaiman/TexSoup/'\n",
    "\n",
    "from sys import path\n",
    "path.append(tex_lib)\n",
    "\n",
    "utils_lib = '../'\n",
    "path.append(utils_lib)\n",
    "from utils import get_tikz_preamble\n",
    "\n",
    "#from TexSoup import TexSoup, tokens\n",
    "import TexSoup\n",
    "\n",
    "bodyMark = 'mainBody'\n",
    "inlineMark = 'mainInline'"
   ]
  },
  {
   "cell_type": "markdown",
   "id": "43aca807-79bc-42fb-8950-bb4538734bd3",
   "metadata": {},
   "source": [
    "To allow markings with the tikz package:"
   ]
  },
  {
   "cell_type": "code",
   "execution_count": 369,
   "id": "bf11d1c5-dfeb-4f0b-8d80-1983d7d8b818",
   "metadata": {
    "tags": []
   },
   "outputs": [],
   "source": [
    "preamble = get_tikz_preamble()\n",
    "#preamble"
   ]
  },
  {
   "cell_type": "code",
   "execution_count": 370,
   "id": "c53a5b60-b1e1-4936-a9e1-89cb957c7aad",
   "metadata": {
    "tags": []
   },
   "outputs": [],
   "source": [
    "with open(tex_file,'r') as f:\n",
    "    tex_doc = f.read()\n",
    "\n",
    "soup = TexSoup.TexSoup(tex_doc, tolerance=1)"
   ]
  },
  {
   "cell_type": "code",
   "execution_count": 371,
   "id": "5d86abb2-580e-4d1e-9943-506343e92d67",
   "metadata": {
    "tags": []
   },
   "outputs": [],
   "source": [
    "texout = ''\n",
    "\n",
    "markNum = 0\n",
    "for isss, s in enumerate(soup.all):\n",
    "    if type(s.expr) == TexSoup.data.TexNamedEnv:\n",
    "        #import sys; sys.exit()\n",
    "        # document?\n",
    "        if 'begin' in s.expr.begin and 'document' in s.expr.begin:\n",
    "            #import sys; sys.exit()\n",
    "            # add preamble\n",
    "            texout += preamble\n",
    "            texout += '\\\\begin{document}\\n'\n",
    "            for ss in s.all:\n",
    "                if type(ss.expr) == TexSoup.data.TexText: # extra for marking\n",
    "                    #texout += ss.expr\n",
    "                    if len(str(ss.expr).strip()) > 0: # not just white-space\n",
    "                        if str(ss.expr).lstrip()[0] != '%': # not a comment:\n",
    "                            splits = split_keep(ss.expr)\n",
    "                            #import sys; sys.exit()\n",
    "                            #texout += ss.expr\n",
    "                            for sp in splits:\n",
    "                                if len(sp) > 0 and sp not in ds:\n",
    "                                    texout += '\\\\tikzmark{' + bodyMark + 'Start'+str(markNum)+'}'\n",
    "                                    texout += sp\n",
    "                                    texout += '\\\\tikzmark{' + bodyMark + 'End'+str(markNum)+'}'\n",
    "                                    markNum += 1\n",
    "                                else:\n",
    "                                    texout += sp\n",
    "                        else:\n",
    "                            texout += ss.expr\n",
    "                    else:\n",
    "                        texout += ss.expr\n",
    "                elif type(ss.expr) == TexSoup.data.TexMathModeEnv: # inline math\n",
    "                    #print(type(ss.expr))\n",
    "                    #print(ss.expr)\n",
    "                    # add marks\n",
    "                    texout += '\\\\tikzmark{' + inlineMark + 'Start'+str(markNum)+'}'\n",
    "                    texout += str(ss.expr)\n",
    "                    texout += '\\\\tikzmark{' + inlineMark + 'End'+str(markNum)+'}'\n",
    "                    markNum += 1\n",
    "                else: # not a pure text thing or math\n",
    "                    #print(type(ss.expr))\n",
    "                    texout += str(ss.expr)\n",
    "            texout += '\\\\end{document}\\n'\n",
    "        else: # something else\n",
    "            texout += str(s)\n",
    "    else:\n",
    "        texout += str(s)\n"
   ]
  },
  {
   "cell_type": "code",
   "execution_count": 372,
   "id": "83f49adb-2e95-446d-871c-0508015e4281",
   "metadata": {
    "tags": []
   },
   "outputs": [],
   "source": [
    "with open(tex_file_out,'w') as f:\n",
    "    print(texout,file=f,end='')"
   ]
  },
  {
   "cell_type": "markdown",
   "id": "fd7ae841-5bcc-4c66-ad69-9a4aa3fa24b6",
   "metadata": {},
   "source": [
    "Compile to get aux file, in `./example_tex` run the following in the command line:\n",
    "\n",
    "```bash\n",
    "pdflatex -interaction=nonstopmode mnras_template_clean_marked.tex\n",
    "```"
   ]
  },
  {
   "cell_type": "code",
   "execution_count": null,
   "id": "418df496-4cc0-4a39-a03c-a9ceb4297b1a",
   "metadata": {
    "scrolled": true,
    "tags": []
   },
   "outputs": [],
   "source": []
  },
  {
   "cell_type": "code",
   "execution_count": null,
   "id": "663a6c6f-b101-4188-91f1-147cf1801d0d",
   "metadata": {},
   "outputs": [],
   "source": []
  }
 ],
 "metadata": {
  "kernelspec": {
   "display_name": "Python 3 (ipykernel)",
   "language": "python",
   "name": "python3"
  },
  "language_info": {
   "codemirror_mode": {
    "name": "ipython",
    "version": 3
   },
   "file_extension": ".py",
   "mimetype": "text/x-python",
   "name": "python",
   "nbconvert_exporter": "python",
   "pygments_lexer": "ipython3",
   "version": "3.9.16"
  }
 },
 "nbformat": 4,
 "nbformat_minor": 5
}
